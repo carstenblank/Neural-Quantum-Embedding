{
 "cells": [
  {
   "attachments": {},
   "cell_type": "markdown",
   "metadata": {},
   "source": [
    "# Data Re-Uploading QCNN_TTN"
   ]
  },
  {
   "attachments": {},
   "cell_type": "markdown",
   "metadata": {},
   "source": [
    "This demo uses 4-qubit Quantum Convolutional Neural Network (QCNN) to see how pre-training the quantum embedding can be helpful for training a parameterized QML circuits for classfication tasks.\n",
    "\n",
    "If you are interested in detailed analysis of pre-training on 8-qubit device, check out \"/Result/earlystop 10 experiments/\" folder.\n",
    "\n",
    "If you are interested in the details about the QCNN used in this demo, check out https://arxiv.org/pdf/2108.00661.pdf.\n"
   ]
  },
  {
   "cell_type": "code",
   "execution_count": 1,
   "metadata": {},
   "outputs": [
    {
     "name": "stderr",
     "output_type": "stream",
     "text": [
      "2024-04-02 12:07:16.554663: I tensorflow/core/platform/cpu_feature_guard.cc:182] This TensorFlow binary is optimized to use available CPU instructions in performance-critical operations.\n",
      "To enable the following instructions: SSE4.1 SSE4.2 AVX AVX2 AVX_VNNI FMA, in other operations, rebuild TensorFlow with the appropriate compiler flags.\n"
     ]
    }
   ],
   "source": [
    "import matplotlib.pyplot as plt\n",
    "import sys\n",
    "sys.path.insert(0, '/home/tak/Github/QEmbedding/')\n",
    "import torch\n",
    "from torch import nn\n",
    "import data\n",
    "import embedding"
   ]
  },
  {
   "attachments": {},
   "cell_type": "markdown",
   "metadata": {},
   "source": [
    "IBMQ Fake provider"
   ]
  },
  {
   "cell_type": "code",
   "execution_count": 2,
   "metadata": {},
   "outputs": [
    {
     "name": "stderr",
     "output_type": "stream",
     "text": [
      "/tmp/ipykernel_275862/1611809002.py:8: DeprecationWarning: All fake backend instances based on real device snapshots (`FakeVigo`,`FakeSherbrooke`,...) have been migrated to the `qiskit_ibm_runtime` package. These classes are deprecated as of qiskit 0.46.0 and will be removed in qiskit 1.0.0. To migrate your code, run `pip install qiskit-ibm-runtime` and use `from qiskit_ibm_runtime.fake_provider import FakeExample` instead of `from qiskit.providers.fake_provider import FakeExample`. If you are using a custom fake backend implementation, you don't need to take any action.\n",
      "  noisy = FakeJakarta()\n"
     ]
    }
   ],
   "source": [
    "import pennylane as qml\n",
    "from pennylane import numpy as np\n",
    "from qiskit import IBMQ\n",
    "from qiskit.providers.fake_provider import FakeJakarta, FakeMontreal\n",
    "from qiskit_aer.noise import NoiseModel\n",
    "\n",
    "\n",
    "noisy = FakeJakarta()\n",
    "noise_model = NoiseModel.from_backend(noisy)\n",
    "coupling_map = noisy.configuration().coupling_map\n",
    "basis_gates = noise_model.basis_gates\n",
    "\n",
    "dev_fake = qml.device(\n",
    "    'qiskit.aer',\n",
    "    wires=4,\n",
    "    shots=1024,\n",
    "    noise_model=noise_model,\n",
    "    coupling_map=coupling_map,\n",
    "    basis_gates=basis_gates\n",
    ")"
   ]
  },
  {
   "attachments": {},
   "cell_type": "markdown",
   "metadata": {},
   "source": [
    "# Part1: Noisy Model1 & Model 2"
   ]
  },
  {
   "attachments": {},
   "cell_type": "markdown",
   "metadata": {},
   "source": [
    "Load the dataset for Model1 and Model2"
   ]
  },
  {
   "cell_type": "code",
   "execution_count": 3,
   "metadata": {},
   "outputs": [
    {
     "name": "stderr",
     "output_type": "stream",
     "text": [
      "2024-04-02 12:07:18.014584: I tensorflow/core/common_runtime/process_util.cc:146] Creating new thread pool with default inter op setting: 2. Tune using inter_op_parallelism_threads for best performance.\n"
     ]
    }
   ],
   "source": [
    "dev = qml.device('default.qubit', wires=4)\n",
    "feature_reduction = 'PCA4'\n",
    "classes = [0,1]\n",
    "X_train, X_test, Y_train, Y_test = data.data_load_and_process('fashion', feature_reduction=feature_reduction, classes=classes)"
   ]
  },
  {
   "attachments": {},
   "cell_type": "markdown",
   "metadata": {},
   "source": [
    "## Part1: Pre-training the embedding"
   ]
  },
  {
   "cell_type": "code",
   "execution_count": 4,
   "metadata": {},
   "outputs": [],
   "source": [
    "steps = 1000\n",
    "learning_rate = 0.01\n",
    "batch_size = 25\n",
    "ansatz = 'TTN'\n",
    "\n",
    "def data_reuploading_ansatz(params): #8 params\n",
    "    for i in range(4):\n",
    "        qml.RY(params[i], wires=i)\n",
    "    for i in range(3):\n",
    "        qml.IsingZZ(params[i+4], wires=[i,i+1])\n",
    "    qml.IsingZZ(params[7], wires=[3,0])\n",
    "\n",
    "def data_reuploading_embedding(num_layers, params, x):\n",
    "    for l in range(num_layers):\n",
    "        data_reuploading_ansatz(params[8 * l : 8 * (l + 1)])\n",
    "        embedding.Noisy_Four_QuantumEmbedding1(x)\n",
    "\n",
    "\n",
    "@qml.qnode(dev_fake)\n",
    "def data_reuploading_QCNN_classifier(num_layers, params, x):\n",
    "    data_reuploading_embedding(num_layers, params, x)\n",
    "    embedding.Noisy_QCNN_four(params[8 * num_layers: 8 * num_layers + 4], ansatz)\n",
    "    return qml.expval(qml.PauliZ(2))\n",
    "\n",
    "\n",
    "def Linear_Loss(labels, predictions):\n",
    "    loss = 0\n",
    "    for l,p in zip(labels, predictions):\n",
    "        loss += 0.5 * (1 - l * p)\n",
    "    return loss / len(labels)\n",
    "\n",
    "\n",
    "def cost(weights, X_batch, Y_batch, num_layers):\n",
    "    preds = [data_reuploading_QCNN_classifier(num_layers, weights, x) for x in X_batch]\n",
    "    return Linear_Loss(Y_batch, preds)\n",
    "\n",
    "\n",
    "def circuit_training(X_train, Y_train, num_layers):\n",
    "\n",
    "    if ansatz == 'SU4':\n",
    "        num_weights = (num_layers * 8) + 30\n",
    "    elif ansatz == 'TTN':\n",
    "        num_weights = (num_layers * 8) + 4\n",
    "\n",
    "    weights = np.random.random(num_weights, requires_grad = True)\n",
    "    opt = qml.NesterovMomentumOptimizer(stepsize=learning_rate)\n",
    "    loss_history = []\n",
    "    for it in range(steps):\n",
    "        batch_index = np.random.randint(0, len(X_train), (batch_size,))\n",
    "        X_batch = [X_train[i] for i in batch_index]\n",
    "        Y_batch = [Y_train[i] for i in batch_index]\n",
    "        weights, cost_new = opt.step_and_cost(lambda v: cost(v, X_batch, Y_batch, num_layers),\n",
    "                                                     weights)\n",
    "        loss_history.append(cost_new)\n",
    "        if it % 200 == 0:\n",
    "            print(\"iteration: \", it, \" cost: \", cost_new)\n",
    "    return loss_history, weights"
   ]
  },
  {
   "cell_type": "code",
   "execution_count": 5,
   "metadata": {},
   "outputs": [
    {
     "name": "stdout",
     "output_type": "stream",
     "text": [
      "iteration:  0  cost:  0.4865625\n",
      "iteration:  200  cost:  0.490625\n"
     ]
    },
    {
     "ename": "KeyboardInterrupt",
     "evalue": "",
     "output_type": "error",
     "traceback": [
      "\u001b[0;31m---------------------------------------------------------------------------\u001b[0m",
      "\u001b[0;31mKeyboardInterrupt\u001b[0m                         Traceback (most recent call last)",
      "Cell \u001b[0;32mIn[5], line 5\u001b[0m\n\u001b[1;32m      1\u001b[0m Loss_histories_L1, weights_L1, Loss_histories_L2, weights_L2, Loss_histories_L3, weights_L3 \u001b[38;5;241m=\u001b[39m [], [], [], [], [], []\n\u001b[1;32m      2\u001b[0m \u001b[38;5;28;01mfor\u001b[39;00m i \u001b[38;5;129;01min\u001b[39;00m \u001b[38;5;28mrange\u001b[39m(\u001b[38;5;241m5\u001b[39m):\n\u001b[1;32m      3\u001b[0m     \u001b[38;5;66;03m#loss_L1, weight_L1 = circuit_training(X_train, Y_train, 1)\u001b[39;00m\n\u001b[1;32m      4\u001b[0m     \u001b[38;5;66;03m#loss_L2, weight_L2 = circuit_training(X_train, Y_train, 2)\u001b[39;00m\n\u001b[0;32m----> 5\u001b[0m     loss_L3, weight_L3 \u001b[38;5;241m=\u001b[39m circuit_training(X_train, Y_train, \u001b[38;5;241m3\u001b[39m)\n\u001b[1;32m      7\u001b[0m     \u001b[38;5;66;03m#Loss_histories_L1.append(loss_L1)\u001b[39;00m\n\u001b[1;32m      8\u001b[0m     \u001b[38;5;66;03m#Loss_histories_L2.append(loss_L2)\u001b[39;00m\n\u001b[1;32m      9\u001b[0m     Loss_histories_L3\u001b[38;5;241m.\u001b[39mappend(loss_L3)\n",
      "Cell \u001b[0;32mIn[4], line 52\u001b[0m, in \u001b[0;36mcircuit_training\u001b[0;34m(X_train, Y_train, num_layers)\u001b[0m\n\u001b[1;32m     50\u001b[0m X_batch \u001b[38;5;241m=\u001b[39m [X_train[i] \u001b[38;5;28;01mfor\u001b[39;00m i \u001b[38;5;129;01min\u001b[39;00m batch_index]\n\u001b[1;32m     51\u001b[0m Y_batch \u001b[38;5;241m=\u001b[39m [Y_train[i] \u001b[38;5;28;01mfor\u001b[39;00m i \u001b[38;5;129;01min\u001b[39;00m batch_index]\n\u001b[0;32m---> 52\u001b[0m weights, cost_new \u001b[38;5;241m=\u001b[39m opt\u001b[38;5;241m.\u001b[39mstep_and_cost(\u001b[38;5;28;01mlambda\u001b[39;00m v: cost(v, X_batch, Y_batch, num_layers),\n\u001b[1;32m     53\u001b[0m                                              weights)\n\u001b[1;32m     54\u001b[0m loss_history\u001b[38;5;241m.\u001b[39mappend(cost_new)\n\u001b[1;32m     55\u001b[0m \u001b[38;5;28;01mif\u001b[39;00m it \u001b[38;5;241m%\u001b[39m \u001b[38;5;241m200\u001b[39m \u001b[38;5;241m==\u001b[39m \u001b[38;5;241m0\u001b[39m:\n",
      "File \u001b[0;32m~/anaconda3/envs/QC/lib/python3.11/site-packages/pennylane/optimize/gradient_descent.py:59\u001b[0m, in \u001b[0;36mGradientDescentOptimizer.step_and_cost\u001b[0;34m(self, objective_fn, grad_fn, *args, **kwargs)\u001b[0m\n\u001b[1;32m     39\u001b[0m \u001b[38;5;28;01mdef\u001b[39;00m \u001b[38;5;21mstep_and_cost\u001b[39m(\u001b[38;5;28mself\u001b[39m, objective_fn, \u001b[38;5;241m*\u001b[39margs, grad_fn\u001b[38;5;241m=\u001b[39m\u001b[38;5;28;01mNone\u001b[39;00m, \u001b[38;5;241m*\u001b[39m\u001b[38;5;241m*\u001b[39mkwargs):\n\u001b[1;32m     40\u001b[0m \u001b[38;5;250m    \u001b[39m\u001b[38;5;124;03m\"\"\"Update trainable arguments with one step of the optimizer and return the corresponding\u001b[39;00m\n\u001b[1;32m     41\u001b[0m \u001b[38;5;124;03m    objective function value prior to the step.\u001b[39;00m\n\u001b[1;32m     42\u001b[0m \n\u001b[0;32m   (...)\u001b[0m\n\u001b[1;32m     56\u001b[0m \u001b[38;5;124;03m        If single arg is provided, list [array] is replaced by array.\u001b[39;00m\n\u001b[1;32m     57\u001b[0m \u001b[38;5;124;03m    \"\"\"\u001b[39;00m\n\u001b[0;32m---> 59\u001b[0m     g, forward \u001b[38;5;241m=\u001b[39m \u001b[38;5;28mself\u001b[39m\u001b[38;5;241m.\u001b[39mcompute_grad(objective_fn, args, kwargs, grad_fn\u001b[38;5;241m=\u001b[39mgrad_fn)\n\u001b[1;32m     60\u001b[0m     new_args \u001b[38;5;241m=\u001b[39m \u001b[38;5;28mself\u001b[39m\u001b[38;5;241m.\u001b[39mapply_grad(g, args)\n\u001b[1;32m     62\u001b[0m     \u001b[38;5;28;01mif\u001b[39;00m forward \u001b[38;5;129;01mis\u001b[39;00m \u001b[38;5;28;01mNone\u001b[39;00m:\n",
      "File \u001b[0;32m~/anaconda3/envs/QC/lib/python3.11/site-packages/pennylane/optimize/nesterov_momentum.py:71\u001b[0m, in \u001b[0;36mNesterovMomentumOptimizer.compute_grad\u001b[0;34m(self, objective_fn, args, kwargs, grad_fn)\u001b[0m\n\u001b[1;32m     68\u001b[0m         shifted_args[index] \u001b[38;5;241m=\u001b[39m args[index] \u001b[38;5;241m-\u001b[39m \u001b[38;5;28mself\u001b[39m\u001b[38;5;241m.\u001b[39mmomentum \u001b[38;5;241m*\u001b[39m \u001b[38;5;28mself\u001b[39m\u001b[38;5;241m.\u001b[39maccumulation[index]\n\u001b[1;32m     70\u001b[0m g \u001b[38;5;241m=\u001b[39m get_gradient(objective_fn) \u001b[38;5;28;01mif\u001b[39;00m grad_fn \u001b[38;5;129;01mis\u001b[39;00m \u001b[38;5;28;01mNone\u001b[39;00m \u001b[38;5;28;01melse\u001b[39;00m grad_fn\n\u001b[0;32m---> 71\u001b[0m grad \u001b[38;5;241m=\u001b[39m g(\u001b[38;5;241m*\u001b[39mshifted_args, \u001b[38;5;241m*\u001b[39m\u001b[38;5;241m*\u001b[39mkwargs)\n\u001b[1;32m     72\u001b[0m forward \u001b[38;5;241m=\u001b[39m \u001b[38;5;28mgetattr\u001b[39m(g, \u001b[38;5;124m\"\u001b[39m\u001b[38;5;124mforward\u001b[39m\u001b[38;5;124m\"\u001b[39m, \u001b[38;5;28;01mNone\u001b[39;00m)\n\u001b[1;32m     74\u001b[0m grad \u001b[38;5;241m=\u001b[39m (grad,) \u001b[38;5;28;01mif\u001b[39;00m \u001b[38;5;28mlen\u001b[39m(trainable_indices) \u001b[38;5;241m==\u001b[39m \u001b[38;5;241m1\u001b[39m \u001b[38;5;28;01melse\u001b[39;00m grad\n",
      "File \u001b[0;32m~/anaconda3/envs/QC/lib/python3.11/site-packages/pennylane/_grad.py:117\u001b[0m, in \u001b[0;36mgrad.__call__\u001b[0;34m(self, *args, **kwargs)\u001b[0m\n\u001b[1;32m    114\u001b[0m     \u001b[38;5;28mself\u001b[39m\u001b[38;5;241m.\u001b[39m_forward \u001b[38;5;241m=\u001b[39m \u001b[38;5;28mself\u001b[39m\u001b[38;5;241m.\u001b[39m_fun(\u001b[38;5;241m*\u001b[39margs, \u001b[38;5;241m*\u001b[39m\u001b[38;5;241m*\u001b[39mkwargs)\n\u001b[1;32m    115\u001b[0m     \u001b[38;5;28;01mreturn\u001b[39;00m ()\n\u001b[0;32m--> 117\u001b[0m grad_value, ans \u001b[38;5;241m=\u001b[39m grad_fn(\u001b[38;5;241m*\u001b[39margs, \u001b[38;5;241m*\u001b[39m\u001b[38;5;241m*\u001b[39mkwargs)  \u001b[38;5;66;03m# pylint: disable=not-callable\u001b[39;00m\n\u001b[1;32m    118\u001b[0m \u001b[38;5;28mself\u001b[39m\u001b[38;5;241m.\u001b[39m_forward \u001b[38;5;241m=\u001b[39m ans\n\u001b[1;32m    120\u001b[0m \u001b[38;5;28;01mreturn\u001b[39;00m grad_value\n",
      "File \u001b[0;32m~/anaconda3/envs/QC/lib/python3.11/site-packages/autograd/wrap_util.py:20\u001b[0m, in \u001b[0;36munary_to_nary.<locals>.nary_operator.<locals>.nary_f\u001b[0;34m(*args, **kwargs)\u001b[0m\n\u001b[1;32m     18\u001b[0m \u001b[38;5;28;01melse\u001b[39;00m:\n\u001b[1;32m     19\u001b[0m     x \u001b[38;5;241m=\u001b[39m \u001b[38;5;28mtuple\u001b[39m(args[i] \u001b[38;5;28;01mfor\u001b[39;00m i \u001b[38;5;129;01min\u001b[39;00m argnum)\n\u001b[0;32m---> 20\u001b[0m \u001b[38;5;28;01mreturn\u001b[39;00m unary_operator(unary_f, x, \u001b[38;5;241m*\u001b[39mnary_op_args, \u001b[38;5;241m*\u001b[39m\u001b[38;5;241m*\u001b[39mnary_op_kwargs)\n",
      "File \u001b[0;32m~/anaconda3/envs/QC/lib/python3.11/site-packages/pennylane/_grad.py:143\u001b[0m, in \u001b[0;36mgrad._grad_with_forward\u001b[0;34m(fun, x)\u001b[0m\n\u001b[1;32m    137\u001b[0m \u001b[38;5;28;01mif\u001b[39;00m \u001b[38;5;129;01mnot\u001b[39;00m vspace(ans)\u001b[38;5;241m.\u001b[39msize \u001b[38;5;241m==\u001b[39m \u001b[38;5;241m1\u001b[39m:\n\u001b[1;32m    138\u001b[0m     \u001b[38;5;28;01mraise\u001b[39;00m \u001b[38;5;167;01mTypeError\u001b[39;00m(\n\u001b[1;32m    139\u001b[0m         \u001b[38;5;124m\"\u001b[39m\u001b[38;5;124mGrad only applies to real scalar-output functions. \u001b[39m\u001b[38;5;124m\"\u001b[39m\n\u001b[1;32m    140\u001b[0m         \u001b[38;5;124m\"\u001b[39m\u001b[38;5;124mTry jacobian, elementwise_grad or holomorphic_grad.\u001b[39m\u001b[38;5;124m\"\u001b[39m\n\u001b[1;32m    141\u001b[0m     )\n\u001b[0;32m--> 143\u001b[0m grad_value \u001b[38;5;241m=\u001b[39m vjp(vspace(ans)\u001b[38;5;241m.\u001b[39mones())\n\u001b[1;32m    144\u001b[0m \u001b[38;5;28;01mreturn\u001b[39;00m grad_value, ans\n",
      "File \u001b[0;32m~/anaconda3/envs/QC/lib/python3.11/site-packages/autograd/core.py:14\u001b[0m, in \u001b[0;36mmake_vjp.<locals>.vjp\u001b[0;34m(g)\u001b[0m\n\u001b[0;32m---> 14\u001b[0m \u001b[38;5;28;01mdef\u001b[39;00m \u001b[38;5;21mvjp\u001b[39m(g): \u001b[38;5;28;01mreturn\u001b[39;00m backward_pass(g, end_node)\n",
      "File \u001b[0;32m~/anaconda3/envs/QC/lib/python3.11/site-packages/autograd/core.py:21\u001b[0m, in \u001b[0;36mbackward_pass\u001b[0;34m(g, end_node)\u001b[0m\n\u001b[1;32m     19\u001b[0m \u001b[38;5;28;01mfor\u001b[39;00m node \u001b[38;5;129;01min\u001b[39;00m toposort(end_node):\n\u001b[1;32m     20\u001b[0m     outgrad \u001b[38;5;241m=\u001b[39m outgrads\u001b[38;5;241m.\u001b[39mpop(node)\n\u001b[0;32m---> 21\u001b[0m     ingrads \u001b[38;5;241m=\u001b[39m node\u001b[38;5;241m.\u001b[39mvjp(outgrad[\u001b[38;5;241m0\u001b[39m])\n\u001b[1;32m     22\u001b[0m     \u001b[38;5;28;01mfor\u001b[39;00m parent, ingrad \u001b[38;5;129;01min\u001b[39;00m \u001b[38;5;28mzip\u001b[39m(node\u001b[38;5;241m.\u001b[39mparents, ingrads):\n\u001b[1;32m     23\u001b[0m         outgrads[parent] \u001b[38;5;241m=\u001b[39m add_outgrads(outgrads\u001b[38;5;241m.\u001b[39mget(parent), ingrad)\n",
      "File \u001b[0;32m~/anaconda3/envs/QC/lib/python3.11/site-packages/autograd/core.py:67\u001b[0m, in \u001b[0;36mdefvjp.<locals>.vjp_argnums.<locals>.<lambda>\u001b[0;34m(g)\u001b[0m\n\u001b[1;32m     64\u001b[0m         \u001b[38;5;28;01mraise\u001b[39;00m \u001b[38;5;167;01mNotImplementedError\u001b[39;00m(\n\u001b[1;32m     65\u001b[0m             \u001b[38;5;124m\"\u001b[39m\u001b[38;5;124mVJP of \u001b[39m\u001b[38;5;132;01m{}\u001b[39;00m\u001b[38;5;124m wrt argnum 0 not defined\u001b[39m\u001b[38;5;124m\"\u001b[39m\u001b[38;5;241m.\u001b[39mformat(fun\u001b[38;5;241m.\u001b[39m\u001b[38;5;18m__name__\u001b[39m))\n\u001b[1;32m     66\u001b[0m     vjp \u001b[38;5;241m=\u001b[39m vjpfun(ans, \u001b[38;5;241m*\u001b[39margs, \u001b[38;5;241m*\u001b[39m\u001b[38;5;241m*\u001b[39mkwargs)\n\u001b[0;32m---> 67\u001b[0m     \u001b[38;5;28;01mreturn\u001b[39;00m \u001b[38;5;28;01mlambda\u001b[39;00m g: (vjp(g),)\n\u001b[1;32m     68\u001b[0m \u001b[38;5;28;01melif\u001b[39;00m L \u001b[38;5;241m==\u001b[39m \u001b[38;5;241m2\u001b[39m:\n\u001b[1;32m     69\u001b[0m     argnum_0, argnum_1 \u001b[38;5;241m=\u001b[39m argnums\n",
      "File \u001b[0;32m~/anaconda3/envs/QC/lib/python3.11/site-packages/pennylane/interfaces/autograd.py:441\u001b[0m, in \u001b[0;36mvjp.<locals>.grad_fn\u001b[0;34m(dy)\u001b[0m\n\u001b[1;32m    438\u001b[0m computing_jacobian \u001b[38;5;241m=\u001b[39m _n \u001b[38;5;241m==\u001b[39m max_diff\n\u001b[1;32m    440\u001b[0m \u001b[38;5;28;01mif\u001b[39;00m gradient_fn \u001b[38;5;129;01mand\u001b[39;00m gradient_fn\u001b[38;5;241m.\u001b[39m\u001b[38;5;18m__name__\u001b[39m \u001b[38;5;241m==\u001b[39m \u001b[38;5;124m\"\u001b[39m\u001b[38;5;124mparam_shift\u001b[39m\u001b[38;5;124m\"\u001b[39m \u001b[38;5;129;01mand\u001b[39;00m computing_jacobian:\n\u001b[0;32m--> 441\u001b[0m     jacs \u001b[38;5;241m=\u001b[39m _get_jac_with_caching()\n\u001b[1;32m    442\u001b[0m \u001b[38;5;28;01melse\u001b[39;00m:\n\u001b[1;32m    443\u001b[0m     jacs \u001b[38;5;241m=\u001b[39m ans[\u001b[38;5;241m1\u001b[39m]\n",
      "File \u001b[0;32m~/anaconda3/envs/QC/lib/python3.11/site-packages/pennylane/interfaces/autograd.py:425\u001b[0m, in \u001b[0;36mvjp.<locals>._get_jac_with_caching\u001b[0;34m()\u001b[0m\n\u001b[1;32m    422\u001b[0m     g_tapes, fn \u001b[38;5;241m=\u001b[39m gradient_fn(t, shots\u001b[38;5;241m=\u001b[39mdevice\u001b[38;5;241m.\u001b[39mshot_vector, \u001b[38;5;241m*\u001b[39m\u001b[38;5;241m*\u001b[39mgradient_kwargs)\n\u001b[1;32m    424\u001b[0m     unwrapped_tapes \u001b[38;5;241m=\u001b[39m \u001b[38;5;28mtuple\u001b[39m(convert_to_numpy_parameters(g_t) \u001b[38;5;28;01mfor\u001b[39;00m g_t \u001b[38;5;129;01min\u001b[39;00m g_tapes)\n\u001b[0;32m--> 425\u001b[0m     res, _ \u001b[38;5;241m=\u001b[39m execute_fn(unwrapped_tapes, \u001b[38;5;241m*\u001b[39m\u001b[38;5;241m*\u001b[39mgradient_kwargs)\n\u001b[1;32m    426\u001b[0m     jacs\u001b[38;5;241m.\u001b[39mappend(fn(res))\n\u001b[1;32m    428\u001b[0m cached_jac[\u001b[38;5;124m\"\u001b[39m\u001b[38;5;124mjacobian\u001b[39m\u001b[38;5;124m\"\u001b[39m] \u001b[38;5;241m=\u001b[39m jacs\n",
      "File \u001b[0;32m~/anaconda3/envs/QC/lib/python3.11/site-packages/pennylane/interfaces/execution.py:204\u001b[0m, in \u001b[0;36mcache_execute.<locals>.wrapper\u001b[0;34m(tapes, **kwargs)\u001b[0m\n\u001b[1;32m    200\u001b[0m         \u001b[38;5;28;01mreturn\u001b[39;00m (res, []) \u001b[38;5;28;01mif\u001b[39;00m return_tuple \u001b[38;5;28;01melse\u001b[39;00m res\n\u001b[1;32m    202\u001b[0m \u001b[38;5;28;01melse\u001b[39;00m:\n\u001b[1;32m    203\u001b[0m     \u001b[38;5;66;03m# execute all unique tapes that do not exist in the cache\u001b[39;00m\n\u001b[0;32m--> 204\u001b[0m     res \u001b[38;5;241m=\u001b[39m fn(execution_tapes\u001b[38;5;241m.\u001b[39mvalues(), \u001b[38;5;241m*\u001b[39m\u001b[38;5;241m*\u001b[39mkwargs)\n\u001b[1;32m    206\u001b[0m final_res \u001b[38;5;241m=\u001b[39m []\n\u001b[1;32m    208\u001b[0m \u001b[38;5;28;01mfor\u001b[39;00m i, tape \u001b[38;5;129;01min\u001b[39;00m \u001b[38;5;28menumerate\u001b[39m(tapes):\n",
      "File \u001b[0;32m~/anaconda3/envs/QC/lib/python3.11/site-packages/pennylane/interfaces/execution.py:130\u001b[0m, in \u001b[0;36mcache_execute.<locals>.fn\u001b[0;34m(tapes, **kwargs)\u001b[0m\n\u001b[1;32m    128\u001b[0m \u001b[38;5;28;01mdef\u001b[39;00m \u001b[38;5;21mfn\u001b[39m(tapes: Sequence[QuantumTape], \u001b[38;5;241m*\u001b[39m\u001b[38;5;241m*\u001b[39mkwargs):  \u001b[38;5;66;03m# pylint: disable=function-redefined\u001b[39;00m\n\u001b[1;32m    129\u001b[0m     tapes \u001b[38;5;241m=\u001b[39m [expand_fn(tape) \u001b[38;5;28;01mfor\u001b[39;00m tape \u001b[38;5;129;01min\u001b[39;00m tapes]\n\u001b[0;32m--> 130\u001b[0m     \u001b[38;5;28;01mreturn\u001b[39;00m original_fn(tapes, \u001b[38;5;241m*\u001b[39m\u001b[38;5;241m*\u001b[39mkwargs)\n",
      "File \u001b[0;32m~/anaconda3/envs/QC/lib/python3.11/contextlib.py:81\u001b[0m, in \u001b[0;36mContextDecorator.__call__.<locals>.inner\u001b[0;34m(*args, **kwds)\u001b[0m\n\u001b[1;32m     78\u001b[0m \u001b[38;5;129m@wraps\u001b[39m(func)\n\u001b[1;32m     79\u001b[0m \u001b[38;5;28;01mdef\u001b[39;00m \u001b[38;5;21minner\u001b[39m(\u001b[38;5;241m*\u001b[39margs, \u001b[38;5;241m*\u001b[39m\u001b[38;5;241m*\u001b[39mkwds):\n\u001b[1;32m     80\u001b[0m     \u001b[38;5;28;01mwith\u001b[39;00m \u001b[38;5;28mself\u001b[39m\u001b[38;5;241m.\u001b[39m_recreate_cm():\n\u001b[0;32m---> 81\u001b[0m         \u001b[38;5;28;01mreturn\u001b[39;00m func(\u001b[38;5;241m*\u001b[39margs, \u001b[38;5;241m*\u001b[39m\u001b[38;5;241m*\u001b[39mkwds)\n",
      "File \u001b[0;32m~/anaconda3/envs/QC/lib/python3.11/site-packages/pennylane_qiskit/qiskit_device.py:495\u001b[0m, in \u001b[0;36mQiskitDevice.batch_execute\u001b[0;34m(self, circuits, timeout)\u001b[0m\n\u001b[1;32m    492\u001b[0m \u001b[38;5;28;01mdef\u001b[39;00m \u001b[38;5;21mbatch_execute\u001b[39m(\u001b[38;5;28mself\u001b[39m, circuits, timeout: \u001b[38;5;28mint\u001b[39m \u001b[38;5;241m=\u001b[39m \u001b[38;5;28;01mNone\u001b[39;00m):\n\u001b[1;32m    493\u001b[0m     \u001b[38;5;66;03m# pylint: disable=missing-function-docstring\u001b[39;00m\n\u001b[0;32m--> 495\u001b[0m     compiled_circuits \u001b[38;5;241m=\u001b[39m \u001b[38;5;28mself\u001b[39m\u001b[38;5;241m.\u001b[39mcompile_circuits(circuits)\n\u001b[1;32m    497\u001b[0m     \u001b[38;5;66;03m# Send the batch of circuit objects using backend.run\u001b[39;00m\n\u001b[1;32m    498\u001b[0m     \u001b[38;5;28mself\u001b[39m\u001b[38;5;241m.\u001b[39m_current_job \u001b[38;5;241m=\u001b[39m \u001b[38;5;28mself\u001b[39m\u001b[38;5;241m.\u001b[39mbackend\u001b[38;5;241m.\u001b[39mrun(compiled_circuits, shots\u001b[38;5;241m=\u001b[39m\u001b[38;5;28mself\u001b[39m\u001b[38;5;241m.\u001b[39mshots, \u001b[38;5;241m*\u001b[39m\u001b[38;5;241m*\u001b[39m\u001b[38;5;28mself\u001b[39m\u001b[38;5;241m.\u001b[39mrun_args)\n",
      "File \u001b[0;32m~/anaconda3/envs/QC/lib/python3.11/site-packages/pennylane_qiskit/qiskit_device.py:486\u001b[0m, in \u001b[0;36mQiskitDevice.compile_circuits\u001b[0;34m(self, circuits)\u001b[0m\n\u001b[1;32m    483\u001b[0m \u001b[38;5;28mself\u001b[39m\u001b[38;5;241m.\u001b[39mreset()\n\u001b[1;32m    484\u001b[0m \u001b[38;5;28mself\u001b[39m\u001b[38;5;241m.\u001b[39mcreate_circuit_object(circuit\u001b[38;5;241m.\u001b[39moperations, rotations\u001b[38;5;241m=\u001b[39mcircuit\u001b[38;5;241m.\u001b[39mdiagonalizing_gates)\n\u001b[0;32m--> 486\u001b[0m compiled_circ \u001b[38;5;241m=\u001b[39m \u001b[38;5;28mself\u001b[39m\u001b[38;5;241m.\u001b[39mcompile()\n\u001b[1;32m    487\u001b[0m compiled_circ\u001b[38;5;241m.\u001b[39mname \u001b[38;5;241m=\u001b[39m \u001b[38;5;124mf\u001b[39m\u001b[38;5;124m\"\u001b[39m\u001b[38;5;124mcirc\u001b[39m\u001b[38;5;132;01m{\u001b[39;00m\u001b[38;5;28mlen\u001b[39m(compiled_circuits)\u001b[38;5;132;01m}\u001b[39;00m\u001b[38;5;124m\"\u001b[39m\n\u001b[1;32m    488\u001b[0m compiled_circuits\u001b[38;5;241m.\u001b[39mappend(compiled_circ)\n",
      "File \u001b[0;32m~/anaconda3/envs/QC/lib/python3.11/site-packages/pennylane_qiskit/qiskit_device.py:396\u001b[0m, in \u001b[0;36mQiskitDevice.compile\u001b[0;34m(self)\u001b[0m\n\u001b[1;32m    390\u001b[0m \u001b[38;5;250m\u001b[39m\u001b[38;5;124;03m\"\"\"Compile the quantum circuit to target the provided compile_backend.\u001b[39;00m\n\u001b[1;32m    391\u001b[0m \n\u001b[1;32m    392\u001b[0m \u001b[38;5;124;03mIf compile_backend is None, then the target is simply the\u001b[39;00m\n\u001b[1;32m    393\u001b[0m \u001b[38;5;124;03mbackend.\u001b[39;00m\n\u001b[1;32m    394\u001b[0m \u001b[38;5;124;03m\"\"\"\u001b[39;00m\n\u001b[1;32m    395\u001b[0m compile_backend \u001b[38;5;241m=\u001b[39m \u001b[38;5;28mself\u001b[39m\u001b[38;5;241m.\u001b[39mcompile_backend \u001b[38;5;129;01mor\u001b[39;00m \u001b[38;5;28mself\u001b[39m\u001b[38;5;241m.\u001b[39mbackend\n\u001b[0;32m--> 396\u001b[0m compiled_circuits \u001b[38;5;241m=\u001b[39m transpile(\u001b[38;5;28mself\u001b[39m\u001b[38;5;241m.\u001b[39m_circuit, backend\u001b[38;5;241m=\u001b[39mcompile_backend, \u001b[38;5;241m*\u001b[39m\u001b[38;5;241m*\u001b[39m\u001b[38;5;28mself\u001b[39m\u001b[38;5;241m.\u001b[39mtranspile_args)\n\u001b[1;32m    397\u001b[0m \u001b[38;5;28;01mreturn\u001b[39;00m compiled_circuits\n",
      "File \u001b[0;32m~/anaconda3/envs/QC/lib/python3.11/site-packages/qiskit/compiler/transpiler.py:428\u001b[0m, in \u001b[0;36mtranspile\u001b[0;34m(circuits, backend, basis_gates, inst_map, coupling_map, backend_properties, initial_layout, layout_method, routing_method, translation_method, scheduling_method, instruction_durations, dt, approximation_degree, timing_constraints, seed_transpiler, optimization_level, callback, output_name, unitary_synthesis_method, unitary_synthesis_plugin_config, target, hls_config, init_method, optimization_method, ignore_backend_supplied_default_methods)\u001b[0m\n\u001b[1;32m    400\u001b[0m         instruction_durations \u001b[38;5;241m=\u001b[39m _parse_instruction_durations(\n\u001b[1;32m    401\u001b[0m             backend, instruction_durations, dt, circuits[\u001b[38;5;241m0\u001b[39m]\n\u001b[1;32m    402\u001b[0m         )\n\u001b[1;32m    404\u001b[0m pm \u001b[38;5;241m=\u001b[39m generate_preset_pass_manager(\n\u001b[1;32m    405\u001b[0m     optimization_level,\n\u001b[1;32m    406\u001b[0m     backend\u001b[38;5;241m=\u001b[39mbackend,\n\u001b[0;32m   (...)\u001b[0m\n\u001b[1;32m    426\u001b[0m     _skip_target\u001b[38;5;241m=\u001b[39m_skip_target,\n\u001b[1;32m    427\u001b[0m )\n\u001b[0;32m--> 428\u001b[0m out_circuits \u001b[38;5;241m=\u001b[39m pm\u001b[38;5;241m.\u001b[39mrun(circuits, callback\u001b[38;5;241m=\u001b[39mcallback)\n\u001b[1;32m    429\u001b[0m \u001b[38;5;28;01mfor\u001b[39;00m name, circ \u001b[38;5;129;01min\u001b[39;00m \u001b[38;5;28mzip\u001b[39m(output_name, out_circuits):\n\u001b[1;32m    430\u001b[0m     circ\u001b[38;5;241m.\u001b[39mname \u001b[38;5;241m=\u001b[39m name\n",
      "File \u001b[0;32m~/anaconda3/envs/QC/lib/python3.11/site-packages/qiskit/transpiler/passmanager.py:561\u001b[0m, in \u001b[0;36mStagedPassManager.run\u001b[0;34m(self, circuits, output_name, callback)\u001b[0m\n\u001b[1;32m    554\u001b[0m \u001b[38;5;28;01mdef\u001b[39;00m \u001b[38;5;21mrun\u001b[39m(\n\u001b[1;32m    555\u001b[0m     \u001b[38;5;28mself\u001b[39m,\n\u001b[1;32m    556\u001b[0m     circuits: _CircuitsT,\n\u001b[1;32m    557\u001b[0m     output_name: \u001b[38;5;28mstr\u001b[39m \u001b[38;5;241m|\u001b[39m \u001b[38;5;28;01mNone\u001b[39;00m \u001b[38;5;241m=\u001b[39m \u001b[38;5;28;01mNone\u001b[39;00m,\n\u001b[1;32m    558\u001b[0m     callback: Callable \u001b[38;5;241m|\u001b[39m \u001b[38;5;28;01mNone\u001b[39;00m \u001b[38;5;241m=\u001b[39m \u001b[38;5;28;01mNone\u001b[39;00m,\n\u001b[1;32m    559\u001b[0m ) \u001b[38;5;241m-\u001b[39m\u001b[38;5;241m>\u001b[39m _CircuitsT:\n\u001b[1;32m    560\u001b[0m     \u001b[38;5;28mself\u001b[39m\u001b[38;5;241m.\u001b[39m_update_passmanager()\n\u001b[0;32m--> 561\u001b[0m     \u001b[38;5;28;01mreturn\u001b[39;00m \u001b[38;5;28msuper\u001b[39m()\u001b[38;5;241m.\u001b[39mrun(circuits, output_name, callback)\n",
      "File \u001b[0;32m~/anaconda3/envs/QC/lib/python3.11/site-packages/qiskit/transpiler/passmanager.py:580\u001b[0m, in \u001b[0;36m_replace_error.<locals>.wrapper\u001b[0;34m(*meth_args, **meth_kwargs)\u001b[0m\n\u001b[1;32m    577\u001b[0m \u001b[38;5;129m@wraps\u001b[39m(meth)\n\u001b[1;32m    578\u001b[0m \u001b[38;5;28;01mdef\u001b[39;00m \u001b[38;5;21mwrapper\u001b[39m(\u001b[38;5;241m*\u001b[39mmeth_args, \u001b[38;5;241m*\u001b[39m\u001b[38;5;241m*\u001b[39mmeth_kwargs):\n\u001b[1;32m    579\u001b[0m     \u001b[38;5;28;01mtry\u001b[39;00m:\n\u001b[0;32m--> 580\u001b[0m         \u001b[38;5;28;01mreturn\u001b[39;00m meth(\u001b[38;5;241m*\u001b[39mmeth_args, \u001b[38;5;241m*\u001b[39m\u001b[38;5;241m*\u001b[39mmeth_kwargs)\n\u001b[1;32m    581\u001b[0m     \u001b[38;5;28;01mexcept\u001b[39;00m PassManagerError \u001b[38;5;28;01mas\u001b[39;00m ex:\n\u001b[1;32m    582\u001b[0m         \u001b[38;5;28;01mraise\u001b[39;00m TranspilerError(ex\u001b[38;5;241m.\u001b[39mmessage) \u001b[38;5;28;01mfrom\u001b[39;00m \u001b[38;5;21;01mex\u001b[39;00m\n",
      "File \u001b[0;32m~/anaconda3/envs/QC/lib/python3.11/site-packages/qiskit/transpiler/passmanager.py:308\u001b[0m, in \u001b[0;36mPassManager.run\u001b[0;34m(self, circuits, output_name, callback)\u001b[0m\n\u001b[1;32m    306\u001b[0m previous, \u001b[38;5;28mself\u001b[39m\u001b[38;5;241m.\u001b[39m__skip_running_pass_manager \u001b[38;5;241m=\u001b[39m \u001b[38;5;28mself\u001b[39m\u001b[38;5;241m.\u001b[39m__skip_running_pass_manager, \u001b[38;5;28;01mTrue\u001b[39;00m\n\u001b[1;32m    307\u001b[0m \u001b[38;5;28;01mtry\u001b[39;00m:\n\u001b[0;32m--> 308\u001b[0m     \u001b[38;5;28;01mreturn\u001b[39;00m \u001b[38;5;28msuper\u001b[39m()\u001b[38;5;241m.\u001b[39mrun(\n\u001b[1;32m    309\u001b[0m         in_programs\u001b[38;5;241m=\u001b[39mcircuits,\n\u001b[1;32m    310\u001b[0m         callback\u001b[38;5;241m=\u001b[39mcallback,\n\u001b[1;32m    311\u001b[0m         output_name\u001b[38;5;241m=\u001b[39moutput_name,\n\u001b[1;32m    312\u001b[0m     )\n\u001b[1;32m    313\u001b[0m \u001b[38;5;28;01mfinally\u001b[39;00m:\n\u001b[1;32m    314\u001b[0m     \u001b[38;5;28mself\u001b[39m\u001b[38;5;241m.\u001b[39m__skip_running_pass_manager \u001b[38;5;241m=\u001b[39m previous\n",
      "File \u001b[0;32m~/anaconda3/envs/QC/lib/python3.11/site-packages/qiskit/passmanager/passmanager.py:222\u001b[0m, in \u001b[0;36mBasePassManager.run\u001b[0;34m(self, in_programs, callback, **kwargs)\u001b[0m\n\u001b[1;32m    219\u001b[0m     is_list \u001b[38;5;241m=\u001b[39m \u001b[38;5;28;01mFalse\u001b[39;00m\n\u001b[1;32m    221\u001b[0m \u001b[38;5;28;01mif\u001b[39;00m \u001b[38;5;28mlen\u001b[39m(in_programs) \u001b[38;5;241m==\u001b[39m \u001b[38;5;241m1\u001b[39m:\n\u001b[0;32m--> 222\u001b[0m     out_program \u001b[38;5;241m=\u001b[39m _run_workflow(\n\u001b[1;32m    223\u001b[0m         program\u001b[38;5;241m=\u001b[39min_programs[\u001b[38;5;241m0\u001b[39m],\n\u001b[1;32m    224\u001b[0m         pass_manager\u001b[38;5;241m=\u001b[39m\u001b[38;5;28mself\u001b[39m,\n\u001b[1;32m    225\u001b[0m         callback\u001b[38;5;241m=\u001b[39mcallback,\n\u001b[1;32m    226\u001b[0m         \u001b[38;5;241m*\u001b[39m\u001b[38;5;241m*\u001b[39mkwargs,\n\u001b[1;32m    227\u001b[0m     )\n\u001b[1;32m    228\u001b[0m     \u001b[38;5;28;01mif\u001b[39;00m is_list:\n\u001b[1;32m    229\u001b[0m         \u001b[38;5;28;01mreturn\u001b[39;00m [out_program]\n",
      "File \u001b[0;32m~/anaconda3/envs/QC/lib/python3.11/site-packages/qiskit/passmanager/passmanager.py:284\u001b[0m, in \u001b[0;36m_run_workflow\u001b[0;34m(program, pass_manager, **kwargs)\u001b[0m\n\u001b[1;32m    278\u001b[0m initial_status \u001b[38;5;241m=\u001b[39m WorkflowStatus()\n\u001b[1;32m    280\u001b[0m passmanager_ir \u001b[38;5;241m=\u001b[39m pass_manager\u001b[38;5;241m.\u001b[39m_passmanager_frontend(\n\u001b[1;32m    281\u001b[0m     input_program\u001b[38;5;241m=\u001b[39mprogram,\n\u001b[1;32m    282\u001b[0m     \u001b[38;5;241m*\u001b[39m\u001b[38;5;241m*\u001b[39mkwargs,\n\u001b[1;32m    283\u001b[0m )\n\u001b[0;32m--> 284\u001b[0m passmanager_ir, _ \u001b[38;5;241m=\u001b[39m flow_controller\u001b[38;5;241m.\u001b[39mexecute(\n\u001b[1;32m    285\u001b[0m     passmanager_ir\u001b[38;5;241m=\u001b[39mpassmanager_ir,\n\u001b[1;32m    286\u001b[0m     state\u001b[38;5;241m=\u001b[39mPassManagerState(\n\u001b[1;32m    287\u001b[0m         workflow_status\u001b[38;5;241m=\u001b[39minitial_status,\n\u001b[1;32m    288\u001b[0m         property_set\u001b[38;5;241m=\u001b[39mpass_manager\u001b[38;5;241m.\u001b[39mproperty_set,\n\u001b[1;32m    289\u001b[0m     ),\n\u001b[1;32m    290\u001b[0m     callback\u001b[38;5;241m=\u001b[39mkwargs\u001b[38;5;241m.\u001b[39mget(\u001b[38;5;124m\"\u001b[39m\u001b[38;5;124mcallback\u001b[39m\u001b[38;5;124m\"\u001b[39m, \u001b[38;5;28;01mNone\u001b[39;00m),\n\u001b[1;32m    291\u001b[0m )\n\u001b[1;32m    292\u001b[0m out_program \u001b[38;5;241m=\u001b[39m pass_manager\u001b[38;5;241m.\u001b[39m_passmanager_backend(\n\u001b[1;32m    293\u001b[0m     passmanager_ir\u001b[38;5;241m=\u001b[39mpassmanager_ir,\n\u001b[1;32m    294\u001b[0m     in_program\u001b[38;5;241m=\u001b[39mprogram,\n\u001b[1;32m    295\u001b[0m     \u001b[38;5;241m*\u001b[39m\u001b[38;5;241m*\u001b[39mkwargs,\n\u001b[1;32m    296\u001b[0m )\n\u001b[1;32m    298\u001b[0m \u001b[38;5;28;01mreturn\u001b[39;00m out_program\n",
      "File \u001b[0;32m~/anaconda3/envs/QC/lib/python3.11/site-packages/qiskit/passmanager/base_tasks.py:218\u001b[0m, in \u001b[0;36mBaseController.execute\u001b[0;34m(self, passmanager_ir, state, callback)\u001b[0m\n\u001b[1;32m    216\u001b[0m     \u001b[38;5;28;01mreturn\u001b[39;00m passmanager_ir, state\n\u001b[1;32m    217\u001b[0m \u001b[38;5;28;01mwhile\u001b[39;00m \u001b[38;5;28;01mTrue\u001b[39;00m:\n\u001b[0;32m--> 218\u001b[0m     passmanager_ir, state \u001b[38;5;241m=\u001b[39m next_task\u001b[38;5;241m.\u001b[39mexecute(\n\u001b[1;32m    219\u001b[0m         passmanager_ir\u001b[38;5;241m=\u001b[39mpassmanager_ir,\n\u001b[1;32m    220\u001b[0m         state\u001b[38;5;241m=\u001b[39mstate,\n\u001b[1;32m    221\u001b[0m         callback\u001b[38;5;241m=\u001b[39mcallback,\n\u001b[1;32m    222\u001b[0m     )\n\u001b[1;32m    223\u001b[0m     \u001b[38;5;28;01mtry\u001b[39;00m:\n\u001b[1;32m    224\u001b[0m         \u001b[38;5;66;03m# Sending the object through the generator implies the custom controllers\u001b[39;00m\n\u001b[1;32m    225\u001b[0m         \u001b[38;5;66;03m# can always rely on the latest data to choose the next task to run.\u001b[39;00m\n\u001b[1;32m    226\u001b[0m         next_task \u001b[38;5;241m=\u001b[39m task_generator\u001b[38;5;241m.\u001b[39msend(state)\n",
      "File \u001b[0;32m~/anaconda3/envs/QC/lib/python3.11/site-packages/qiskit/passmanager/base_tasks.py:218\u001b[0m, in \u001b[0;36mBaseController.execute\u001b[0;34m(self, passmanager_ir, state, callback)\u001b[0m\n\u001b[1;32m    216\u001b[0m     \u001b[38;5;28;01mreturn\u001b[39;00m passmanager_ir, state\n\u001b[1;32m    217\u001b[0m \u001b[38;5;28;01mwhile\u001b[39;00m \u001b[38;5;28;01mTrue\u001b[39;00m:\n\u001b[0;32m--> 218\u001b[0m     passmanager_ir, state \u001b[38;5;241m=\u001b[39m next_task\u001b[38;5;241m.\u001b[39mexecute(\n\u001b[1;32m    219\u001b[0m         passmanager_ir\u001b[38;5;241m=\u001b[39mpassmanager_ir,\n\u001b[1;32m    220\u001b[0m         state\u001b[38;5;241m=\u001b[39mstate,\n\u001b[1;32m    221\u001b[0m         callback\u001b[38;5;241m=\u001b[39mcallback,\n\u001b[1;32m    222\u001b[0m     )\n\u001b[1;32m    223\u001b[0m     \u001b[38;5;28;01mtry\u001b[39;00m:\n\u001b[1;32m    224\u001b[0m         \u001b[38;5;66;03m# Sending the object through the generator implies the custom controllers\u001b[39;00m\n\u001b[1;32m    225\u001b[0m         \u001b[38;5;66;03m# can always rely on the latest data to choose the next task to run.\u001b[39;00m\n\u001b[1;32m    226\u001b[0m         next_task \u001b[38;5;241m=\u001b[39m task_generator\u001b[38;5;241m.\u001b[39msend(state)\n",
      "File \u001b[0;32m~/anaconda3/envs/QC/lib/python3.11/site-packages/qiskit/transpiler/basepasses.py:195\u001b[0m, in \u001b[0;36mTransformationPass.execute\u001b[0;34m(self, passmanager_ir, state, callback)\u001b[0m\n\u001b[1;32m    189\u001b[0m \u001b[38;5;28;01mdef\u001b[39;00m \u001b[38;5;21mexecute\u001b[39m(\n\u001b[1;32m    190\u001b[0m     \u001b[38;5;28mself\u001b[39m,\n\u001b[1;32m    191\u001b[0m     passmanager_ir: PassManagerIR,\n\u001b[1;32m    192\u001b[0m     state: PassManagerState,\n\u001b[1;32m    193\u001b[0m     callback: Callable \u001b[38;5;241m=\u001b[39m \u001b[38;5;28;01mNone\u001b[39;00m,\n\u001b[1;32m    194\u001b[0m ) \u001b[38;5;241m-\u001b[39m\u001b[38;5;241m>\u001b[39m \u001b[38;5;28mtuple\u001b[39m[PassManagerIR, PassManagerState]:\n\u001b[0;32m--> 195\u001b[0m     new_dag, state \u001b[38;5;241m=\u001b[39m \u001b[38;5;28msuper\u001b[39m()\u001b[38;5;241m.\u001b[39mexecute(\n\u001b[1;32m    196\u001b[0m         passmanager_ir\u001b[38;5;241m=\u001b[39mpassmanager_ir,\n\u001b[1;32m    197\u001b[0m         state\u001b[38;5;241m=\u001b[39mstate,\n\u001b[1;32m    198\u001b[0m         callback\u001b[38;5;241m=\u001b[39mcallback,\n\u001b[1;32m    199\u001b[0m     )\n\u001b[1;32m    201\u001b[0m     \u001b[38;5;28;01mif\u001b[39;00m state\u001b[38;5;241m.\u001b[39mworkflow_status\u001b[38;5;241m.\u001b[39mprevious_run \u001b[38;5;241m==\u001b[39m RunState\u001b[38;5;241m.\u001b[39mSUCCESS:\n\u001b[1;32m    202\u001b[0m         \u001b[38;5;28;01mif\u001b[39;00m \u001b[38;5;28misinstance\u001b[39m(new_dag, DAGCircuit):\n\u001b[1;32m    203\u001b[0m             \u001b[38;5;66;03m# Copy calibration data from the original program\u001b[39;00m\n",
      "File \u001b[0;32m~/anaconda3/envs/QC/lib/python3.11/site-packages/qiskit/passmanager/base_tasks.py:98\u001b[0m, in \u001b[0;36mGenericPass.execute\u001b[0;34m(self, passmanager_ir, state, callback)\u001b[0m\n\u001b[1;32m     96\u001b[0m \u001b[38;5;28;01mtry\u001b[39;00m:\n\u001b[1;32m     97\u001b[0m     \u001b[38;5;28;01mif\u001b[39;00m \u001b[38;5;28mself\u001b[39m \u001b[38;5;129;01mnot\u001b[39;00m \u001b[38;5;129;01min\u001b[39;00m state\u001b[38;5;241m.\u001b[39mworkflow_status\u001b[38;5;241m.\u001b[39mcompleted_passes:\n\u001b[0;32m---> 98\u001b[0m         ret \u001b[38;5;241m=\u001b[39m \u001b[38;5;28mself\u001b[39m\u001b[38;5;241m.\u001b[39mrun(passmanager_ir)\n\u001b[1;32m     99\u001b[0m         run_state \u001b[38;5;241m=\u001b[39m RunState\u001b[38;5;241m.\u001b[39mSUCCESS\n\u001b[1;32m    100\u001b[0m     \u001b[38;5;28;01melse\u001b[39;00m:\n",
      "File \u001b[0;32m~/anaconda3/envs/QC/lib/python3.11/site-packages/qiskit/transpiler/passes/utils/control_flow.py:59\u001b[0m, in \u001b[0;36mtrivial_recurse.<locals>.out\u001b[0;34m(self, dag)\u001b[0m\n\u001b[1;32m     57\u001b[0m \u001b[38;5;28;01mfor\u001b[39;00m node \u001b[38;5;129;01min\u001b[39;00m dag\u001b[38;5;241m.\u001b[39mop_nodes(ControlFlowOp):\n\u001b[1;32m     58\u001b[0m     node\u001b[38;5;241m.\u001b[39mop \u001b[38;5;241m=\u001b[39m map_blocks(bound_wrapped_method, node\u001b[38;5;241m.\u001b[39mop)\n\u001b[0;32m---> 59\u001b[0m \u001b[38;5;28;01mreturn\u001b[39;00m method(\u001b[38;5;28mself\u001b[39m, dag)\n",
      "File \u001b[0;32m~/anaconda3/envs/QC/lib/python3.11/site-packages/qiskit/transpiler/passes/optimization/optimize_1q_decomposition.py:213\u001b[0m, in \u001b[0;36mOptimize1qGatesDecomposition.run\u001b[0;34m(self, dag)\u001b[0m\n\u001b[1;32m    210\u001b[0m \u001b[38;5;28;01melse\u001b[39;00m:\n\u001b[1;32m    211\u001b[0m     basis \u001b[38;5;241m=\u001b[39m \u001b[38;5;28mself\u001b[39m\u001b[38;5;241m.\u001b[39m_target\u001b[38;5;241m.\u001b[39moperation_names_for_qargs((qubit,))\n\u001b[0;32m--> 213\u001b[0m \u001b[38;5;28;01mif\u001b[39;00m best_circuit_sequence \u001b[38;5;129;01mis\u001b[39;00m \u001b[38;5;129;01mnot\u001b[39;00m \u001b[38;5;28;01mNone\u001b[39;00m \u001b[38;5;129;01mand\u001b[39;00m \u001b[38;5;28mself\u001b[39m\u001b[38;5;241m.\u001b[39m_substitution_checks(\n\u001b[1;32m    214\u001b[0m     dag, run, best_circuit_sequence, basis, qubit\n\u001b[1;32m    215\u001b[0m ):\n\u001b[1;32m    216\u001b[0m     new_dag \u001b[38;5;241m=\u001b[39m \u001b[38;5;28mself\u001b[39m\u001b[38;5;241m.\u001b[39m_gate_sequence_to_dag(best_circuit_sequence)\n\u001b[1;32m    217\u001b[0m     dag\u001b[38;5;241m.\u001b[39msubstitute_node_with_dag(run[\u001b[38;5;241m0\u001b[39m], new_dag)\n",
      "File \u001b[0;32m~/anaconda3/envs/QC/lib/python3.11/site-packages/qiskit/transpiler/passes/optimization/optimize_1q_decomposition.py:182\u001b[0m, in \u001b[0;36mOptimize1qGatesDecomposition._substitution_checks\u001b[0;34m(self, dag, old_run, new_circ, basis, qubit)\u001b[0m\n\u001b[1;32m    180\u001b[0m \u001b[38;5;28;01mif\u001b[39;00m \u001b[38;5;129;01mnot\u001b[39;00m uncalibrated_and_not_basis_p:\n\u001b[1;32m    181\u001b[0m     new_error \u001b[38;5;241m=\u001b[39m \u001b[38;5;28mself\u001b[39m\u001b[38;5;241m.\u001b[39m_error(new_circ, qubit)\n\u001b[0;32m--> 182\u001b[0m     old_error \u001b[38;5;241m=\u001b[39m \u001b[38;5;28mself\u001b[39m\u001b[38;5;241m.\u001b[39m_error(old_run, qubit)\n\u001b[1;32m    184\u001b[0m \u001b[38;5;28;01mreturn\u001b[39;00m (\n\u001b[1;32m    185\u001b[0m     uncalibrated_and_not_basis_p\n\u001b[1;32m    186\u001b[0m     \u001b[38;5;129;01mor\u001b[39;00m (uncalibrated_p \u001b[38;5;129;01mand\u001b[39;00m new_error \u001b[38;5;241m<\u001b[39m old_error)\n\u001b[1;32m    187\u001b[0m     \u001b[38;5;129;01mor\u001b[39;00m (math\u001b[38;5;241m.\u001b[39misclose(new_error[\u001b[38;5;241m0\u001b[39m], \u001b[38;5;241m0\u001b[39m) \u001b[38;5;129;01mand\u001b[39;00m \u001b[38;5;129;01mnot\u001b[39;00m math\u001b[38;5;241m.\u001b[39misclose(old_error[\u001b[38;5;241m0\u001b[39m], \u001b[38;5;241m0\u001b[39m))\n\u001b[1;32m    188\u001b[0m )\n",
      "File \u001b[0;32m~/anaconda3/envs/QC/lib/python3.11/site-packages/qiskit/transpiler/passes/optimization/optimize_1q_decomposition.py:238\u001b[0m, in \u001b[0;36mOptimize1qGatesDecomposition._error\u001b[0;34m(self, circuit, qubit)\u001b[0m\n\u001b[1;32m    234\u001b[0m     \u001b[38;5;28;01mreturn\u001b[39;00m euler_one_qubit_decomposer\u001b[38;5;241m.\u001b[39mcompute_error_one_qubit_sequence(\n\u001b[1;32m    235\u001b[0m         circuit, qubit, \u001b[38;5;28mself\u001b[39m\u001b[38;5;241m.\u001b[39merror_map\n\u001b[1;32m    236\u001b[0m     )\n\u001b[1;32m    237\u001b[0m \u001b[38;5;28;01melse\u001b[39;00m:\n\u001b[0;32m--> 238\u001b[0m     circuit_list \u001b[38;5;241m=\u001b[39m [(x\u001b[38;5;241m.\u001b[39mop\u001b[38;5;241m.\u001b[39mname, []) \u001b[38;5;28;01mfor\u001b[39;00m x \u001b[38;5;129;01min\u001b[39;00m circuit]\n\u001b[1;32m    239\u001b[0m     \u001b[38;5;28;01mreturn\u001b[39;00m euler_one_qubit_decomposer\u001b[38;5;241m.\u001b[39mcompute_error_list(\n\u001b[1;32m    240\u001b[0m         circuit_list, qubit, \u001b[38;5;28mself\u001b[39m\u001b[38;5;241m.\u001b[39merror_map\n\u001b[1;32m    241\u001b[0m     )\n",
      "File \u001b[0;32m~/anaconda3/envs/QC/lib/python3.11/site-packages/qiskit/transpiler/passes/optimization/optimize_1q_decomposition.py:238\u001b[0m, in \u001b[0;36m<listcomp>\u001b[0;34m(.0)\u001b[0m\n\u001b[1;32m    234\u001b[0m     \u001b[38;5;28;01mreturn\u001b[39;00m euler_one_qubit_decomposer\u001b[38;5;241m.\u001b[39mcompute_error_one_qubit_sequence(\n\u001b[1;32m    235\u001b[0m         circuit, qubit, \u001b[38;5;28mself\u001b[39m\u001b[38;5;241m.\u001b[39merror_map\n\u001b[1;32m    236\u001b[0m     )\n\u001b[1;32m    237\u001b[0m \u001b[38;5;28;01melse\u001b[39;00m:\n\u001b[0;32m--> 238\u001b[0m     circuit_list \u001b[38;5;241m=\u001b[39m [(x\u001b[38;5;241m.\u001b[39mop\u001b[38;5;241m.\u001b[39mname, []) \u001b[38;5;28;01mfor\u001b[39;00m x \u001b[38;5;129;01min\u001b[39;00m circuit]\n\u001b[1;32m    239\u001b[0m     \u001b[38;5;28;01mreturn\u001b[39;00m euler_one_qubit_decomposer\u001b[38;5;241m.\u001b[39mcompute_error_list(\n\u001b[1;32m    240\u001b[0m         circuit_list, qubit, \u001b[38;5;28mself\u001b[39m\u001b[38;5;241m.\u001b[39merror_map\n\u001b[1;32m    241\u001b[0m     )\n",
      "\u001b[0;31mKeyboardInterrupt\u001b[0m: "
     ]
    }
   ],
   "source": [
    "\n",
    "Loss_histories_L1, weights_L1, Loss_histories_L2, weights_L2, Loss_histories_L3, weights_L3 = [], [], [], [], [], []\n",
    "for i in range(5):\n",
    "    #loss_L1, weight_L1 = circuit_training(X_train, Y_train, 1)\n",
    "    #loss_L2, weight_L2 = circuit_training(X_train, Y_train, 2)\n",
    "    loss_L3, weight_L3 = circuit_training(X_train, Y_train, 3)\n",
    "\n",
    "    #Loss_histories_L1.append(loss_L1)\n",
    "    #Loss_histories_L2.append(loss_L2)\n",
    "    Loss_histories_L3.append(loss_L3)\n",
    "\n",
    "    #weights_L1.append(weight_L1)\n",
    "    #weights_L2.append(weight_L2)\n",
    "    weights_L3.append(weight_L3)\n",
    "\n",
    "f = open('data_reuploading_weights_and_loss_fashion.txt', 'a')\n",
    "for i in range(5):\n",
    "    f.write(f'Loss History L=3 {i + 1}:')\n",
    "    f.write('\\n')\n",
    "    f.write(str(Loss_histories_L3[i]))\n",
    "    f.write('\\n')\n",
    "for i in range(5):\n",
    "    f.write(f'Weights L=3 {i + 1}:')\n",
    "    f.write('\\n')\n",
    "    f.write(str(weights_L3[i]))\n",
    "f.close()\n",
    "\n"
   ]
  }
 ],
 "metadata": {
  "kernelspec": {
   "display_name": "QC",
   "language": "python",
   "name": "python3"
  },
  "language_info": {
   "codemirror_mode": {
    "name": "ipython",
    "version": 3
   },
   "file_extension": ".py",
   "mimetype": "text/x-python",
   "name": "python",
   "nbconvert_exporter": "python",
   "pygments_lexer": "ipython3",
   "version": "3.11.5"
  },
  "vscode": {
   "interpreter": {
    "hash": "c5108ee98eb47f7e6b2eeb3f4fcfe8c3b821806f46f3b96ac0193b078633d3d2"
   }
  }
 },
 "nbformat": 4,
 "nbformat_minor": 2
}
