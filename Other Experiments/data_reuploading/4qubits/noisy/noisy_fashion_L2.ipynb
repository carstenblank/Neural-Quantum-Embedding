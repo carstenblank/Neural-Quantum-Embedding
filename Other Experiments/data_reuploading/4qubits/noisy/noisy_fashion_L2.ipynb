{
 "cells": [
  {
   "attachments": {},
   "cell_type": "markdown",
   "metadata": {},
   "source": [
    "# Data Re-Uploading QCNN_TTN"
   ]
  },
  {
   "attachments": {},
   "cell_type": "markdown",
   "metadata": {},
   "source": [
    "This demo uses 4-qubit Quantum Convolutional Neural Network (QCNN) to see how pre-training the quantum embedding can be helpful for training a parameterized QML circuits for classfication tasks.\n",
    "\n",
    "If you are interested in detailed analysis of pre-training on 8-qubit device, check out \"/Result/earlystop 10 experiments/\" folder.\n",
    "\n",
    "If you are interested in the details about the QCNN used in this demo, check out https://arxiv.org/pdf/2108.00661.pdf.\n"
   ]
  },
  {
   "cell_type": "code",
   "execution_count": 1,
   "metadata": {},
   "outputs": [
    {
     "name": "stderr",
     "output_type": "stream",
     "text": [
      "2024-04-02 12:07:07.498283: I tensorflow/core/platform/cpu_feature_guard.cc:182] This TensorFlow binary is optimized to use available CPU instructions in performance-critical operations.\n",
      "To enable the following instructions: SSE4.1 SSE4.2 AVX AVX2 AVX_VNNI FMA, in other operations, rebuild TensorFlow with the appropriate compiler flags.\n"
     ]
    }
   ],
   "source": [
    "import matplotlib.pyplot as plt\n",
    "import sys\n",
    "sys.path.insert(0, '/home/tak/Github/QEmbedding/')\n",
    "import torch\n",
    "from torch import nn\n",
    "import data\n",
    "import embedding"
   ]
  },
  {
   "attachments": {},
   "cell_type": "markdown",
   "metadata": {},
   "source": [
    "IBMQ Fake provider"
   ]
  },
  {
   "cell_type": "code",
   "execution_count": 2,
   "metadata": {},
   "outputs": [
    {
     "name": "stderr",
     "output_type": "stream",
     "text": [
      "/tmp/ipykernel_275370/1611809002.py:8: DeprecationWarning: All fake backend instances based on real device snapshots (`FakeVigo`,`FakeSherbrooke`,...) have been migrated to the `qiskit_ibm_runtime` package. These classes are deprecated as of qiskit 0.46.0 and will be removed in qiskit 1.0.0. To migrate your code, run `pip install qiskit-ibm-runtime` and use `from qiskit_ibm_runtime.fake_provider import FakeExample` instead of `from qiskit.providers.fake_provider import FakeExample`. If you are using a custom fake backend implementation, you don't need to take any action.\n",
      "  noisy = FakeJakarta()\n"
     ]
    }
   ],
   "source": [
    "import pennylane as qml\n",
    "from pennylane import numpy as np\n",
    "from qiskit import IBMQ\n",
    "from qiskit.providers.fake_provider import FakeJakarta, FakeMontreal\n",
    "from qiskit_aer.noise import NoiseModel\n",
    "\n",
    "\n",
    "noisy = FakeJakarta()\n",
    "noise_model = NoiseModel.from_backend(noisy)\n",
    "coupling_map = noisy.configuration().coupling_map\n",
    "basis_gates = noise_model.basis_gates\n",
    "\n",
    "dev_fake = qml.device(\n",
    "    'qiskit.aer',\n",
    "    wires=4,\n",
    "    shots=1024,\n",
    "    noise_model=noise_model,\n",
    "    coupling_map=coupling_map,\n",
    "    basis_gates=basis_gates\n",
    ")"
   ]
  },
  {
   "attachments": {},
   "cell_type": "markdown",
   "metadata": {},
   "source": [
    "# Part1: Noisy Model1 & Model 2"
   ]
  },
  {
   "attachments": {},
   "cell_type": "markdown",
   "metadata": {},
   "source": [
    "Load the dataset for Model1 and Model2"
   ]
  },
  {
   "cell_type": "code",
   "execution_count": 3,
   "metadata": {},
   "outputs": [
    {
     "name": "stderr",
     "output_type": "stream",
     "text": [
      "2024-04-02 12:07:09.019040: I tensorflow/core/common_runtime/process_util.cc:146] Creating new thread pool with default inter op setting: 2. Tune using inter_op_parallelism_threads for best performance.\n"
     ]
    }
   ],
   "source": [
    "dev = qml.device('default.qubit', wires=4)\n",
    "feature_reduction = 'PCA4'\n",
    "classes = [0,1]\n",
    "X_train, X_test, Y_train, Y_test = data.data_load_and_process('fashion', feature_reduction=feature_reduction, classes=classes)"
   ]
  },
  {
   "attachments": {},
   "cell_type": "markdown",
   "metadata": {},
   "source": [
    "## Part1: Pre-training the embedding"
   ]
  },
  {
   "cell_type": "code",
   "execution_count": 4,
   "metadata": {},
   "outputs": [],
   "source": [
    "steps = 1000\n",
    "learning_rate = 0.01\n",
    "batch_size = 25\n",
    "ansatz = 'TTN'\n",
    "\n",
    "def data_reuploading_ansatz(params): #8 params\n",
    "    for i in range(4):\n",
    "        qml.RY(params[i], wires=i)\n",
    "    for i in range(3):\n",
    "        qml.IsingZZ(params[i+4], wires=[i,i+1])\n",
    "    qml.IsingZZ(params[7], wires=[3,0])\n",
    "\n",
    "def data_reuploading_embedding(num_layers, params, x):\n",
    "    for l in range(num_layers):\n",
    "        data_reuploading_ansatz(params[8 * l : 8 * (l + 1)])\n",
    "        embedding.Noisy_Four_QuantumEmbedding1(x)\n",
    "\n",
    "\n",
    "@qml.qnode(dev_fake)\n",
    "def data_reuploading_QCNN_classifier(num_layers, params, x):\n",
    "    data_reuploading_embedding(num_layers, params, x)\n",
    "    embedding.Noisy_QCNN_four(params[8 * num_layers: 8 * num_layers + 4], ansatz)\n",
    "    return qml.expval(qml.PauliZ(2))\n",
    "\n",
    "\n",
    "def Linear_Loss(labels, predictions):\n",
    "    loss = 0\n",
    "    for l,p in zip(labels, predictions):\n",
    "        loss += 0.5 * (1 - l * p)\n",
    "    return loss / len(labels)\n",
    "\n",
    "\n",
    "def cost(weights, X_batch, Y_batch, num_layers):\n",
    "    preds = [data_reuploading_QCNN_classifier(num_layers, weights, x) for x in X_batch]\n",
    "    return Linear_Loss(Y_batch, preds)\n",
    "\n",
    "\n",
    "def circuit_training(X_train, Y_train, num_layers):\n",
    "\n",
    "    if ansatz == 'SU4':\n",
    "        num_weights = (num_layers * 8) + 30\n",
    "    elif ansatz == 'TTN':\n",
    "        num_weights = (num_layers * 8) + 4\n",
    "\n",
    "    weights = np.random.random(num_weights, requires_grad = True)\n",
    "    opt = qml.NesterovMomentumOptimizer(stepsize=learning_rate)\n",
    "    loss_history = []\n",
    "    for it in range(steps):\n",
    "        batch_index = np.random.randint(0, len(X_train), (batch_size,))\n",
    "        X_batch = [X_train[i] for i in batch_index]\n",
    "        Y_batch = [Y_train[i] for i in batch_index]\n",
    "        weights, cost_new = opt.step_and_cost(lambda v: cost(v, X_batch, Y_batch, num_layers),\n",
    "                                                     weights)\n",
    "        loss_history.append(cost_new)\n",
    "        if it % 200 == 0:\n",
    "            print(\"iteration: \", it, \" cost: \", cost_new)\n",
    "    return loss_history, weights"
   ]
  },
  {
   "cell_type": "code",
   "execution_count": 5,
   "metadata": {},
   "outputs": [
    {
     "name": "stdout",
     "output_type": "stream",
     "text": [
      "iteration:  0  cost:  0.4933984375\n",
      "iteration:  200  cost:  0.488125\n",
      "iteration:  400  cost:  0.46078125\n"
     ]
    },
    {
     "ename": "KeyboardInterrupt",
     "evalue": "",
     "output_type": "error",
     "traceback": [
      "\u001b[0;31m---------------------------------------------------------------------------\u001b[0m",
      "\u001b[0;31mKeyError\u001b[0m                                  Traceback (most recent call last)",
      "File \u001b[0;32m~/anaconda3/envs/QC/lib/python3.11/copy.py:254\u001b[0m, in \u001b[0;36m_keep_alive\u001b[0;34m(x, memo)\u001b[0m\n\u001b[1;32m    253\u001b[0m \u001b[38;5;28;01mtry\u001b[39;00m:\n\u001b[0;32m--> 254\u001b[0m     memo[\u001b[38;5;28mid\u001b[39m(memo)]\u001b[38;5;241m.\u001b[39mappend(x)\n\u001b[1;32m    255\u001b[0m \u001b[38;5;28;01mexcept\u001b[39;00m \u001b[38;5;167;01mKeyError\u001b[39;00m:\n\u001b[1;32m    256\u001b[0m     \u001b[38;5;66;03m# aha, this is the first one :-)\u001b[39;00m\n",
      "\u001b[0;31mKeyError\u001b[0m: 140259074050240",
      "\nDuring handling of the above exception, another exception occurred:\n",
      "\u001b[0;31mKeyboardInterrupt\u001b[0m                         Traceback (most recent call last)",
      "Cell \u001b[0;32mIn[5], line 4\u001b[0m\n\u001b[1;32m      1\u001b[0m Loss_histories_L1, weights_L1, Loss_histories_L2, weights_L2, Loss_histories_L3, weights_L3 \u001b[38;5;241m=\u001b[39m [], [], [], [], [], []\n\u001b[1;32m      2\u001b[0m \u001b[38;5;28;01mfor\u001b[39;00m i \u001b[38;5;129;01min\u001b[39;00m \u001b[38;5;28mrange\u001b[39m(\u001b[38;5;241m5\u001b[39m):\n\u001b[1;32m      3\u001b[0m     \u001b[38;5;66;03m#loss_L1, weight_L1 = circuit_training(X_train, Y_train, 1)\u001b[39;00m\n\u001b[0;32m----> 4\u001b[0m     loss_L2, weight_L2 \u001b[38;5;241m=\u001b[39m circuit_training(X_train, Y_train, \u001b[38;5;241m2\u001b[39m)\n\u001b[1;32m      5\u001b[0m     \u001b[38;5;66;03m#loss_L3, weight_L3 = circuit_training(X_train, Y_train, 3)\u001b[39;00m\n\u001b[1;32m      6\u001b[0m \n\u001b[1;32m      7\u001b[0m     \u001b[38;5;66;03m#Loss_histories_L1.append(loss_L1)\u001b[39;00m\n\u001b[1;32m      8\u001b[0m     Loss_histories_L2\u001b[38;5;241m.\u001b[39mappend(loss_L2)\n",
      "Cell \u001b[0;32mIn[4], line 52\u001b[0m, in \u001b[0;36mcircuit_training\u001b[0;34m(X_train, Y_train, num_layers)\u001b[0m\n\u001b[1;32m     50\u001b[0m X_batch \u001b[38;5;241m=\u001b[39m [X_train[i] \u001b[38;5;28;01mfor\u001b[39;00m i \u001b[38;5;129;01min\u001b[39;00m batch_index]\n\u001b[1;32m     51\u001b[0m Y_batch \u001b[38;5;241m=\u001b[39m [Y_train[i] \u001b[38;5;28;01mfor\u001b[39;00m i \u001b[38;5;129;01min\u001b[39;00m batch_index]\n\u001b[0;32m---> 52\u001b[0m weights, cost_new \u001b[38;5;241m=\u001b[39m opt\u001b[38;5;241m.\u001b[39mstep_and_cost(\u001b[38;5;28;01mlambda\u001b[39;00m v: cost(v, X_batch, Y_batch, num_layers),\n\u001b[1;32m     53\u001b[0m                                              weights)\n\u001b[1;32m     54\u001b[0m loss_history\u001b[38;5;241m.\u001b[39mappend(cost_new)\n\u001b[1;32m     55\u001b[0m \u001b[38;5;28;01mif\u001b[39;00m it \u001b[38;5;241m%\u001b[39m \u001b[38;5;241m200\u001b[39m \u001b[38;5;241m==\u001b[39m \u001b[38;5;241m0\u001b[39m:\n",
      "File \u001b[0;32m~/anaconda3/envs/QC/lib/python3.11/site-packages/pennylane/optimize/gradient_descent.py:59\u001b[0m, in \u001b[0;36mGradientDescentOptimizer.step_and_cost\u001b[0;34m(self, objective_fn, grad_fn, *args, **kwargs)\u001b[0m\n\u001b[1;32m     39\u001b[0m \u001b[38;5;28;01mdef\u001b[39;00m \u001b[38;5;21mstep_and_cost\u001b[39m(\u001b[38;5;28mself\u001b[39m, objective_fn, \u001b[38;5;241m*\u001b[39margs, grad_fn\u001b[38;5;241m=\u001b[39m\u001b[38;5;28;01mNone\u001b[39;00m, \u001b[38;5;241m*\u001b[39m\u001b[38;5;241m*\u001b[39mkwargs):\n\u001b[1;32m     40\u001b[0m \u001b[38;5;250m    \u001b[39m\u001b[38;5;124;03m\"\"\"Update trainable arguments with one step of the optimizer and return the corresponding\u001b[39;00m\n\u001b[1;32m     41\u001b[0m \u001b[38;5;124;03m    objective function value prior to the step.\u001b[39;00m\n\u001b[1;32m     42\u001b[0m \n\u001b[0;32m   (...)\u001b[0m\n\u001b[1;32m     56\u001b[0m \u001b[38;5;124;03m        If single arg is provided, list [array] is replaced by array.\u001b[39;00m\n\u001b[1;32m     57\u001b[0m \u001b[38;5;124;03m    \"\"\"\u001b[39;00m\n\u001b[0;32m---> 59\u001b[0m     g, forward \u001b[38;5;241m=\u001b[39m \u001b[38;5;28mself\u001b[39m\u001b[38;5;241m.\u001b[39mcompute_grad(objective_fn, args, kwargs, grad_fn\u001b[38;5;241m=\u001b[39mgrad_fn)\n\u001b[1;32m     60\u001b[0m     new_args \u001b[38;5;241m=\u001b[39m \u001b[38;5;28mself\u001b[39m\u001b[38;5;241m.\u001b[39mapply_grad(g, args)\n\u001b[1;32m     62\u001b[0m     \u001b[38;5;28;01mif\u001b[39;00m forward \u001b[38;5;129;01mis\u001b[39;00m \u001b[38;5;28;01mNone\u001b[39;00m:\n",
      "File \u001b[0;32m~/anaconda3/envs/QC/lib/python3.11/site-packages/pennylane/optimize/nesterov_momentum.py:71\u001b[0m, in \u001b[0;36mNesterovMomentumOptimizer.compute_grad\u001b[0;34m(self, objective_fn, args, kwargs, grad_fn)\u001b[0m\n\u001b[1;32m     68\u001b[0m         shifted_args[index] \u001b[38;5;241m=\u001b[39m args[index] \u001b[38;5;241m-\u001b[39m \u001b[38;5;28mself\u001b[39m\u001b[38;5;241m.\u001b[39mmomentum \u001b[38;5;241m*\u001b[39m \u001b[38;5;28mself\u001b[39m\u001b[38;5;241m.\u001b[39maccumulation[index]\n\u001b[1;32m     70\u001b[0m g \u001b[38;5;241m=\u001b[39m get_gradient(objective_fn) \u001b[38;5;28;01mif\u001b[39;00m grad_fn \u001b[38;5;129;01mis\u001b[39;00m \u001b[38;5;28;01mNone\u001b[39;00m \u001b[38;5;28;01melse\u001b[39;00m grad_fn\n\u001b[0;32m---> 71\u001b[0m grad \u001b[38;5;241m=\u001b[39m g(\u001b[38;5;241m*\u001b[39mshifted_args, \u001b[38;5;241m*\u001b[39m\u001b[38;5;241m*\u001b[39mkwargs)\n\u001b[1;32m     72\u001b[0m forward \u001b[38;5;241m=\u001b[39m \u001b[38;5;28mgetattr\u001b[39m(g, \u001b[38;5;124m\"\u001b[39m\u001b[38;5;124mforward\u001b[39m\u001b[38;5;124m\"\u001b[39m, \u001b[38;5;28;01mNone\u001b[39;00m)\n\u001b[1;32m     74\u001b[0m grad \u001b[38;5;241m=\u001b[39m (grad,) \u001b[38;5;28;01mif\u001b[39;00m \u001b[38;5;28mlen\u001b[39m(trainable_indices) \u001b[38;5;241m==\u001b[39m \u001b[38;5;241m1\u001b[39m \u001b[38;5;28;01melse\u001b[39;00m grad\n",
      "File \u001b[0;32m~/anaconda3/envs/QC/lib/python3.11/site-packages/pennylane/_grad.py:117\u001b[0m, in \u001b[0;36mgrad.__call__\u001b[0;34m(self, *args, **kwargs)\u001b[0m\n\u001b[1;32m    114\u001b[0m     \u001b[38;5;28mself\u001b[39m\u001b[38;5;241m.\u001b[39m_forward \u001b[38;5;241m=\u001b[39m \u001b[38;5;28mself\u001b[39m\u001b[38;5;241m.\u001b[39m_fun(\u001b[38;5;241m*\u001b[39margs, \u001b[38;5;241m*\u001b[39m\u001b[38;5;241m*\u001b[39mkwargs)\n\u001b[1;32m    115\u001b[0m     \u001b[38;5;28;01mreturn\u001b[39;00m ()\n\u001b[0;32m--> 117\u001b[0m grad_value, ans \u001b[38;5;241m=\u001b[39m grad_fn(\u001b[38;5;241m*\u001b[39margs, \u001b[38;5;241m*\u001b[39m\u001b[38;5;241m*\u001b[39mkwargs)  \u001b[38;5;66;03m# pylint: disable=not-callable\u001b[39;00m\n\u001b[1;32m    118\u001b[0m \u001b[38;5;28mself\u001b[39m\u001b[38;5;241m.\u001b[39m_forward \u001b[38;5;241m=\u001b[39m ans\n\u001b[1;32m    120\u001b[0m \u001b[38;5;28;01mreturn\u001b[39;00m grad_value\n",
      "File \u001b[0;32m~/anaconda3/envs/QC/lib/python3.11/site-packages/autograd/wrap_util.py:20\u001b[0m, in \u001b[0;36munary_to_nary.<locals>.nary_operator.<locals>.nary_f\u001b[0;34m(*args, **kwargs)\u001b[0m\n\u001b[1;32m     18\u001b[0m \u001b[38;5;28;01melse\u001b[39;00m:\n\u001b[1;32m     19\u001b[0m     x \u001b[38;5;241m=\u001b[39m \u001b[38;5;28mtuple\u001b[39m(args[i] \u001b[38;5;28;01mfor\u001b[39;00m i \u001b[38;5;129;01min\u001b[39;00m argnum)\n\u001b[0;32m---> 20\u001b[0m \u001b[38;5;28;01mreturn\u001b[39;00m unary_operator(unary_f, x, \u001b[38;5;241m*\u001b[39mnary_op_args, \u001b[38;5;241m*\u001b[39m\u001b[38;5;241m*\u001b[39mnary_op_kwargs)\n",
      "File \u001b[0;32m~/anaconda3/envs/QC/lib/python3.11/site-packages/pennylane/_grad.py:143\u001b[0m, in \u001b[0;36mgrad._grad_with_forward\u001b[0;34m(fun, x)\u001b[0m\n\u001b[1;32m    137\u001b[0m \u001b[38;5;28;01mif\u001b[39;00m \u001b[38;5;129;01mnot\u001b[39;00m vspace(ans)\u001b[38;5;241m.\u001b[39msize \u001b[38;5;241m==\u001b[39m \u001b[38;5;241m1\u001b[39m:\n\u001b[1;32m    138\u001b[0m     \u001b[38;5;28;01mraise\u001b[39;00m \u001b[38;5;167;01mTypeError\u001b[39;00m(\n\u001b[1;32m    139\u001b[0m         \u001b[38;5;124m\"\u001b[39m\u001b[38;5;124mGrad only applies to real scalar-output functions. \u001b[39m\u001b[38;5;124m\"\u001b[39m\n\u001b[1;32m    140\u001b[0m         \u001b[38;5;124m\"\u001b[39m\u001b[38;5;124mTry jacobian, elementwise_grad or holomorphic_grad.\u001b[39m\u001b[38;5;124m\"\u001b[39m\n\u001b[1;32m    141\u001b[0m     )\n\u001b[0;32m--> 143\u001b[0m grad_value \u001b[38;5;241m=\u001b[39m vjp(vspace(ans)\u001b[38;5;241m.\u001b[39mones())\n\u001b[1;32m    144\u001b[0m \u001b[38;5;28;01mreturn\u001b[39;00m grad_value, ans\n",
      "File \u001b[0;32m~/anaconda3/envs/QC/lib/python3.11/site-packages/autograd/core.py:14\u001b[0m, in \u001b[0;36mmake_vjp.<locals>.vjp\u001b[0;34m(g)\u001b[0m\n\u001b[1;32m     12\u001b[0m     \u001b[38;5;28;01mdef\u001b[39;00m \u001b[38;5;21mvjp\u001b[39m(g): \u001b[38;5;28;01mreturn\u001b[39;00m vspace(x)\u001b[38;5;241m.\u001b[39mzeros()\n\u001b[1;32m     13\u001b[0m \u001b[38;5;28;01melse\u001b[39;00m:\n\u001b[0;32m---> 14\u001b[0m     \u001b[38;5;28;01mdef\u001b[39;00m \u001b[38;5;21mvjp\u001b[39m(g): \u001b[38;5;28;01mreturn\u001b[39;00m backward_pass(g, end_node)\n\u001b[1;32m     15\u001b[0m \u001b[38;5;28;01mreturn\u001b[39;00m vjp, end_value\n",
      "File \u001b[0;32m~/anaconda3/envs/QC/lib/python3.11/site-packages/autograd/core.py:21\u001b[0m, in \u001b[0;36mbackward_pass\u001b[0;34m(g, end_node)\u001b[0m\n\u001b[1;32m     19\u001b[0m \u001b[38;5;28;01mfor\u001b[39;00m node \u001b[38;5;129;01min\u001b[39;00m toposort(end_node):\n\u001b[1;32m     20\u001b[0m     outgrad \u001b[38;5;241m=\u001b[39m outgrads\u001b[38;5;241m.\u001b[39mpop(node)\n\u001b[0;32m---> 21\u001b[0m     ingrads \u001b[38;5;241m=\u001b[39m node\u001b[38;5;241m.\u001b[39mvjp(outgrad[\u001b[38;5;241m0\u001b[39m])\n\u001b[1;32m     22\u001b[0m     \u001b[38;5;28;01mfor\u001b[39;00m parent, ingrad \u001b[38;5;129;01min\u001b[39;00m \u001b[38;5;28mzip\u001b[39m(node\u001b[38;5;241m.\u001b[39mparents, ingrads):\n\u001b[1;32m     23\u001b[0m         outgrads[parent] \u001b[38;5;241m=\u001b[39m add_outgrads(outgrads\u001b[38;5;241m.\u001b[39mget(parent), ingrad)\n",
      "File \u001b[0;32m~/anaconda3/envs/QC/lib/python3.11/site-packages/autograd/core.py:67\u001b[0m, in \u001b[0;36mdefvjp.<locals>.vjp_argnums.<locals>.<lambda>\u001b[0;34m(g)\u001b[0m\n\u001b[1;32m     64\u001b[0m         \u001b[38;5;28;01mraise\u001b[39;00m \u001b[38;5;167;01mNotImplementedError\u001b[39;00m(\n\u001b[1;32m     65\u001b[0m             \u001b[38;5;124m\"\u001b[39m\u001b[38;5;124mVJP of \u001b[39m\u001b[38;5;132;01m{}\u001b[39;00m\u001b[38;5;124m wrt argnum 0 not defined\u001b[39m\u001b[38;5;124m\"\u001b[39m\u001b[38;5;241m.\u001b[39mformat(fun\u001b[38;5;241m.\u001b[39m\u001b[38;5;18m__name__\u001b[39m))\n\u001b[1;32m     66\u001b[0m     vjp \u001b[38;5;241m=\u001b[39m vjpfun(ans, \u001b[38;5;241m*\u001b[39margs, \u001b[38;5;241m*\u001b[39m\u001b[38;5;241m*\u001b[39mkwargs)\n\u001b[0;32m---> 67\u001b[0m     \u001b[38;5;28;01mreturn\u001b[39;00m \u001b[38;5;28;01mlambda\u001b[39;00m g: (vjp(g),)\n\u001b[1;32m     68\u001b[0m \u001b[38;5;28;01melif\u001b[39;00m L \u001b[38;5;241m==\u001b[39m \u001b[38;5;241m2\u001b[39m:\n\u001b[1;32m     69\u001b[0m     argnum_0, argnum_1 \u001b[38;5;241m=\u001b[39m argnums\n",
      "File \u001b[0;32m~/anaconda3/envs/QC/lib/python3.11/site-packages/pennylane/interfaces/autograd.py:441\u001b[0m, in \u001b[0;36mvjp.<locals>.grad_fn\u001b[0;34m(dy)\u001b[0m\n\u001b[1;32m    438\u001b[0m computing_jacobian \u001b[38;5;241m=\u001b[39m _n \u001b[38;5;241m==\u001b[39m max_diff\n\u001b[1;32m    440\u001b[0m \u001b[38;5;28;01mif\u001b[39;00m gradient_fn \u001b[38;5;129;01mand\u001b[39;00m gradient_fn\u001b[38;5;241m.\u001b[39m\u001b[38;5;18m__name__\u001b[39m \u001b[38;5;241m==\u001b[39m \u001b[38;5;124m\"\u001b[39m\u001b[38;5;124mparam_shift\u001b[39m\u001b[38;5;124m\"\u001b[39m \u001b[38;5;129;01mand\u001b[39;00m computing_jacobian:\n\u001b[0;32m--> 441\u001b[0m     jacs \u001b[38;5;241m=\u001b[39m _get_jac_with_caching()\n\u001b[1;32m    442\u001b[0m \u001b[38;5;28;01melse\u001b[39;00m:\n\u001b[1;32m    443\u001b[0m     jacs \u001b[38;5;241m=\u001b[39m ans[\u001b[38;5;241m1\u001b[39m]\n",
      "File \u001b[0;32m~/anaconda3/envs/QC/lib/python3.11/site-packages/pennylane/interfaces/autograd.py:425\u001b[0m, in \u001b[0;36mvjp.<locals>._get_jac_with_caching\u001b[0;34m()\u001b[0m\n\u001b[1;32m    422\u001b[0m     g_tapes, fn \u001b[38;5;241m=\u001b[39m gradient_fn(t, shots\u001b[38;5;241m=\u001b[39mdevice\u001b[38;5;241m.\u001b[39mshot_vector, \u001b[38;5;241m*\u001b[39m\u001b[38;5;241m*\u001b[39mgradient_kwargs)\n\u001b[1;32m    424\u001b[0m     unwrapped_tapes \u001b[38;5;241m=\u001b[39m \u001b[38;5;28mtuple\u001b[39m(convert_to_numpy_parameters(g_t) \u001b[38;5;28;01mfor\u001b[39;00m g_t \u001b[38;5;129;01min\u001b[39;00m g_tapes)\n\u001b[0;32m--> 425\u001b[0m     res, _ \u001b[38;5;241m=\u001b[39m execute_fn(unwrapped_tapes, \u001b[38;5;241m*\u001b[39m\u001b[38;5;241m*\u001b[39mgradient_kwargs)\n\u001b[1;32m    426\u001b[0m     jacs\u001b[38;5;241m.\u001b[39mappend(fn(res))\n\u001b[1;32m    428\u001b[0m cached_jac[\u001b[38;5;124m\"\u001b[39m\u001b[38;5;124mjacobian\u001b[39m\u001b[38;5;124m\"\u001b[39m] \u001b[38;5;241m=\u001b[39m jacs\n",
      "File \u001b[0;32m~/anaconda3/envs/QC/lib/python3.11/site-packages/pennylane/interfaces/execution.py:204\u001b[0m, in \u001b[0;36mcache_execute.<locals>.wrapper\u001b[0;34m(tapes, **kwargs)\u001b[0m\n\u001b[1;32m    200\u001b[0m         \u001b[38;5;28;01mreturn\u001b[39;00m (res, []) \u001b[38;5;28;01mif\u001b[39;00m return_tuple \u001b[38;5;28;01melse\u001b[39;00m res\n\u001b[1;32m    202\u001b[0m \u001b[38;5;28;01melse\u001b[39;00m:\n\u001b[1;32m    203\u001b[0m     \u001b[38;5;66;03m# execute all unique tapes that do not exist in the cache\u001b[39;00m\n\u001b[0;32m--> 204\u001b[0m     res \u001b[38;5;241m=\u001b[39m fn(execution_tapes\u001b[38;5;241m.\u001b[39mvalues(), \u001b[38;5;241m*\u001b[39m\u001b[38;5;241m*\u001b[39mkwargs)\n\u001b[1;32m    206\u001b[0m final_res \u001b[38;5;241m=\u001b[39m []\n\u001b[1;32m    208\u001b[0m \u001b[38;5;28;01mfor\u001b[39;00m i, tape \u001b[38;5;129;01min\u001b[39;00m \u001b[38;5;28menumerate\u001b[39m(tapes):\n",
      "File \u001b[0;32m~/anaconda3/envs/QC/lib/python3.11/site-packages/pennylane/interfaces/execution.py:130\u001b[0m, in \u001b[0;36mcache_execute.<locals>.fn\u001b[0;34m(tapes, **kwargs)\u001b[0m\n\u001b[1;32m    128\u001b[0m \u001b[38;5;28;01mdef\u001b[39;00m \u001b[38;5;21mfn\u001b[39m(tapes: Sequence[QuantumTape], \u001b[38;5;241m*\u001b[39m\u001b[38;5;241m*\u001b[39mkwargs):  \u001b[38;5;66;03m# pylint: disable=function-redefined\u001b[39;00m\n\u001b[1;32m    129\u001b[0m     tapes \u001b[38;5;241m=\u001b[39m [expand_fn(tape) \u001b[38;5;28;01mfor\u001b[39;00m tape \u001b[38;5;129;01min\u001b[39;00m tapes]\n\u001b[0;32m--> 130\u001b[0m     \u001b[38;5;28;01mreturn\u001b[39;00m original_fn(tapes, \u001b[38;5;241m*\u001b[39m\u001b[38;5;241m*\u001b[39mkwargs)\n",
      "File \u001b[0;32m~/anaconda3/envs/QC/lib/python3.11/contextlib.py:81\u001b[0m, in \u001b[0;36mContextDecorator.__call__.<locals>.inner\u001b[0;34m(*args, **kwds)\u001b[0m\n\u001b[1;32m     78\u001b[0m \u001b[38;5;129m@wraps\u001b[39m(func)\n\u001b[1;32m     79\u001b[0m \u001b[38;5;28;01mdef\u001b[39;00m \u001b[38;5;21minner\u001b[39m(\u001b[38;5;241m*\u001b[39margs, \u001b[38;5;241m*\u001b[39m\u001b[38;5;241m*\u001b[39mkwds):\n\u001b[1;32m     80\u001b[0m     \u001b[38;5;28;01mwith\u001b[39;00m \u001b[38;5;28mself\u001b[39m\u001b[38;5;241m.\u001b[39m_recreate_cm():\n\u001b[0;32m---> 81\u001b[0m         \u001b[38;5;28;01mreturn\u001b[39;00m func(\u001b[38;5;241m*\u001b[39margs, \u001b[38;5;241m*\u001b[39m\u001b[38;5;241m*\u001b[39mkwds)\n",
      "File \u001b[0;32m~/anaconda3/envs/QC/lib/python3.11/site-packages/pennylane_qiskit/qiskit_device.py:495\u001b[0m, in \u001b[0;36mQiskitDevice.batch_execute\u001b[0;34m(self, circuits, timeout)\u001b[0m\n\u001b[1;32m    492\u001b[0m \u001b[38;5;28;01mdef\u001b[39;00m \u001b[38;5;21mbatch_execute\u001b[39m(\u001b[38;5;28mself\u001b[39m, circuits, timeout: \u001b[38;5;28mint\u001b[39m \u001b[38;5;241m=\u001b[39m \u001b[38;5;28;01mNone\u001b[39;00m):\n\u001b[1;32m    493\u001b[0m     \u001b[38;5;66;03m# pylint: disable=missing-function-docstring\u001b[39;00m\n\u001b[0;32m--> 495\u001b[0m     compiled_circuits \u001b[38;5;241m=\u001b[39m \u001b[38;5;28mself\u001b[39m\u001b[38;5;241m.\u001b[39mcompile_circuits(circuits)\n\u001b[1;32m    497\u001b[0m     \u001b[38;5;66;03m# Send the batch of circuit objects using backend.run\u001b[39;00m\n\u001b[1;32m    498\u001b[0m     \u001b[38;5;28mself\u001b[39m\u001b[38;5;241m.\u001b[39m_current_job \u001b[38;5;241m=\u001b[39m \u001b[38;5;28mself\u001b[39m\u001b[38;5;241m.\u001b[39mbackend\u001b[38;5;241m.\u001b[39mrun(compiled_circuits, shots\u001b[38;5;241m=\u001b[39m\u001b[38;5;28mself\u001b[39m\u001b[38;5;241m.\u001b[39mshots, \u001b[38;5;241m*\u001b[39m\u001b[38;5;241m*\u001b[39m\u001b[38;5;28mself\u001b[39m\u001b[38;5;241m.\u001b[39mrun_args)\n",
      "File \u001b[0;32m~/anaconda3/envs/QC/lib/python3.11/site-packages/pennylane_qiskit/qiskit_device.py:484\u001b[0m, in \u001b[0;36mQiskitDevice.compile_circuits\u001b[0;34m(self, circuits)\u001b[0m\n\u001b[1;32m    480\u001b[0m \u001b[38;5;28;01mfor\u001b[39;00m circuit \u001b[38;5;129;01min\u001b[39;00m circuits:\n\u001b[1;32m    481\u001b[0m     \u001b[38;5;66;03m# We need to reset the device here, else it will\u001b[39;00m\n\u001b[1;32m    482\u001b[0m     \u001b[38;5;66;03m# not start the next computation in the zero state\u001b[39;00m\n\u001b[1;32m    483\u001b[0m     \u001b[38;5;28mself\u001b[39m\u001b[38;5;241m.\u001b[39mreset()\n\u001b[0;32m--> 484\u001b[0m     \u001b[38;5;28mself\u001b[39m\u001b[38;5;241m.\u001b[39mcreate_circuit_object(circuit\u001b[38;5;241m.\u001b[39moperations, rotations\u001b[38;5;241m=\u001b[39mcircuit\u001b[38;5;241m.\u001b[39mdiagonalizing_gates)\n\u001b[1;32m    486\u001b[0m     compiled_circ \u001b[38;5;241m=\u001b[39m \u001b[38;5;28mself\u001b[39m\u001b[38;5;241m.\u001b[39mcompile()\n\u001b[1;32m    487\u001b[0m     compiled_circ\u001b[38;5;241m.\u001b[39mname \u001b[38;5;241m=\u001b[39m \u001b[38;5;124mf\u001b[39m\u001b[38;5;124m\"\u001b[39m\u001b[38;5;124mcirc\u001b[39m\u001b[38;5;132;01m{\u001b[39;00m\u001b[38;5;28mlen\u001b[39m(compiled_circuits)\u001b[38;5;132;01m}\u001b[39;00m\u001b[38;5;124m\"\u001b[39m\n",
      "File \u001b[0;32m~/anaconda3/envs/QC/lib/python3.11/site-packages/pennylane_qiskit/qiskit_device.py:295\u001b[0m, in \u001b[0;36mQiskitDevice.create_circuit_object\u001b[0;34m(self, operations, **kwargs)\u001b[0m\n\u001b[1;32m    283\u001b[0m \u001b[38;5;250m\u001b[39m\u001b[38;5;124;03m\"\"\"Builds the circuit objects based on the operations and measurements\u001b[39;00m\n\u001b[1;32m    284\u001b[0m \u001b[38;5;124;03mspecified to apply.\u001b[39;00m\n\u001b[1;32m    285\u001b[0m \n\u001b[0;32m   (...)\u001b[0m\n\u001b[1;32m    291\u001b[0m \u001b[38;5;124;03m        pre-measurement into the eigenbasis of the observables.\u001b[39;00m\n\u001b[1;32m    292\u001b[0m \u001b[38;5;124;03m\"\"\"\u001b[39;00m\n\u001b[1;32m    293\u001b[0m rotations \u001b[38;5;241m=\u001b[39m kwargs\u001b[38;5;241m.\u001b[39mget(\u001b[38;5;124m\"\u001b[39m\u001b[38;5;124mrotations\u001b[39m\u001b[38;5;124m\"\u001b[39m, [])\n\u001b[0;32m--> 295\u001b[0m applied_operations \u001b[38;5;241m=\u001b[39m \u001b[38;5;28mself\u001b[39m\u001b[38;5;241m.\u001b[39mapply_operations(operations)\n\u001b[1;32m    297\u001b[0m \u001b[38;5;66;03m# Rotating the state for measurement in the computational basis\u001b[39;00m\n\u001b[1;32m    298\u001b[0m rotation_circuits \u001b[38;5;241m=\u001b[39m \u001b[38;5;28mself\u001b[39m\u001b[38;5;241m.\u001b[39mapply_operations(rotations)\n",
      "File \u001b[0;32m~/anaconda3/envs/QC/lib/python3.11/site-packages/pennylane_qiskit/qiskit_device.py:368\u001b[0m, in \u001b[0;36mQiskitDevice.apply_operations\u001b[0;34m(self, operations)\u001b[0m\n\u001b[1;32m    365\u001b[0m     gate \u001b[38;5;241m=\u001b[39m mapped_operation(\u001b[38;5;241m*\u001b[39mpar)\n\u001b[1;32m    367\u001b[0m     dag\u001b[38;5;241m.\u001b[39mapply_operation_back(gate, qargs\u001b[38;5;241m=\u001b[39mqregs)\n\u001b[0;32m--> 368\u001b[0m     circuit \u001b[38;5;241m=\u001b[39m dag_to_circuit(dag)\n\u001b[1;32m    369\u001b[0m     circuits\u001b[38;5;241m.\u001b[39mappend(circuit)\n\u001b[1;32m    371\u001b[0m \u001b[38;5;28;01mreturn\u001b[39;00m circuits\n",
      "File \u001b[0;32m~/anaconda3/envs/QC/lib/python3.11/site-packages/qiskit/converters/dag_to_circuit.py:72\u001b[0m, in \u001b[0;36mdag_to_circuit\u001b[0;34m(dag, copy_operations)\u001b[0m\n\u001b[1;32m     70\u001b[0m     op \u001b[38;5;241m=\u001b[39m node\u001b[38;5;241m.\u001b[39mop\n\u001b[1;32m     71\u001b[0m     \u001b[38;5;28;01mif\u001b[39;00m copy_operations:\n\u001b[0;32m---> 72\u001b[0m         op \u001b[38;5;241m=\u001b[39m copy\u001b[38;5;241m.\u001b[39mdeepcopy(op)\n\u001b[1;32m     73\u001b[0m     circuit\u001b[38;5;241m.\u001b[39m_append(CircuitInstruction(op, node\u001b[38;5;241m.\u001b[39mqargs, node\u001b[38;5;241m.\u001b[39mcargs))\n\u001b[1;32m     75\u001b[0m circuit\u001b[38;5;241m.\u001b[39mduration \u001b[38;5;241m=\u001b[39m dag\u001b[38;5;241m.\u001b[39mduration\n",
      "File \u001b[0;32m~/anaconda3/envs/QC/lib/python3.11/copy.py:177\u001b[0m, in \u001b[0;36mdeepcopy\u001b[0;34m(x, memo, _nil)\u001b[0m\n\u001b[1;32m    175\u001b[0m \u001b[38;5;28;01mif\u001b[39;00m y \u001b[38;5;129;01mis\u001b[39;00m \u001b[38;5;129;01mnot\u001b[39;00m x:\n\u001b[1;32m    176\u001b[0m     memo[d] \u001b[38;5;241m=\u001b[39m y\n\u001b[0;32m--> 177\u001b[0m     _keep_alive(x, memo) \u001b[38;5;66;03m# Make sure x lives at least as long as d\u001b[39;00m\n\u001b[1;32m    178\u001b[0m \u001b[38;5;28;01mreturn\u001b[39;00m y\n",
      "File \u001b[0;32m~/anaconda3/envs/QC/lib/python3.11/copy.py:257\u001b[0m, in \u001b[0;36m_keep_alive\u001b[0;34m(x, memo)\u001b[0m\n\u001b[1;32m    254\u001b[0m     memo[\u001b[38;5;28mid\u001b[39m(memo)]\u001b[38;5;241m.\u001b[39mappend(x)\n\u001b[1;32m    255\u001b[0m \u001b[38;5;28;01mexcept\u001b[39;00m \u001b[38;5;167;01mKeyError\u001b[39;00m:\n\u001b[1;32m    256\u001b[0m     \u001b[38;5;66;03m# aha, this is the first one :-)\u001b[39;00m\n\u001b[0;32m--> 257\u001b[0m     memo[\u001b[38;5;28mid\u001b[39m(memo)]\u001b[38;5;241m=\u001b[39m[x]\n",
      "\u001b[0;31mKeyboardInterrupt\u001b[0m: "
     ]
    }
   ],
   "source": [
    "\n",
    "Loss_histories_L1, weights_L1, Loss_histories_L2, weights_L2, Loss_histories_L3, weights_L3 = [], [], [], [], [], []\n",
    "for i in range(5):\n",
    "    #loss_L1, weight_L1 = circuit_training(X_train, Y_train, 1)\n",
    "    loss_L2, weight_L2 = circuit_training(X_train, Y_train, 2)\n",
    "    #loss_L3, weight_L3 = circuit_training(X_train, Y_train, 3)\n",
    "\n",
    "    #Loss_histories_L1.append(loss_L1)\n",
    "    Loss_histories_L2.append(loss_L2)\n",
    "    #Loss_histories_L3.append(loss_L3)\n",
    "\n",
    "    #weights_L1.append(weight_L1)\n",
    "    weights_L2.append(weight_L2)\n",
    "    #weights_L3.append(weight_L3)\n",
    "\n",
    "f = open('data_reuploading_weights_and_loss_fashion.txt', 'a')\n",
    "\n",
    "for i in range(5):\n",
    "    f.write(f'Loss History L=2 {i + 1}:')\n",
    "    f.write('\\n')\n",
    "    f.write(str(Loss_histories_L2[i]))\n",
    "    f.write('\\n')\n",
    "for i in range(5):\n",
    "    f.write(f'Weights L=2 {i + 1}:')\n",
    "    f.write('\\n')\n",
    "    f.write(str(weights_L2[i]))\n",
    "f.close()\n",
    "\n"
   ]
  },
  {
   "cell_type": "code",
   "execution_count": null,
   "metadata": {},
   "outputs": [],
   "source": []
  }
 ],
 "metadata": {
  "kernelspec": {
   "display_name": "QC",
   "language": "python",
   "name": "python3"
  },
  "language_info": {
   "codemirror_mode": {
    "name": "ipython",
    "version": 3
   },
   "file_extension": ".py",
   "mimetype": "text/x-python",
   "name": "python",
   "nbconvert_exporter": "python",
   "pygments_lexer": "ipython3",
   "version": "3.11.5"
  },
  "vscode": {
   "interpreter": {
    "hash": "c5108ee98eb47f7e6b2eeb3f4fcfe8c3b821806f46f3b96ac0193b078633d3d2"
   }
  }
 },
 "nbformat": 4,
 "nbformat_minor": 2
}
