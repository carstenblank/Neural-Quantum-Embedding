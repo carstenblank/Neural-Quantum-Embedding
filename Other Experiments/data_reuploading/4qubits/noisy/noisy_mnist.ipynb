{
 "cells": [
  {
   "attachments": {},
   "cell_type": "markdown",
   "metadata": {},
   "source": [
    "# Data Re-Uploading QCNN_TTN"
   ]
  },
  {
   "attachments": {},
   "cell_type": "markdown",
   "metadata": {},
   "source": [
    "This demo uses 4-qubit Quantum Convolutional Neural Network (QCNN) to see how pre-training the quantum embedding can be helpful for training a parameterized QML circuits for classfication tasks.\n",
    "\n",
    "If you are interested in detailed analysis of pre-training on 8-qubit device, check out \"/Result/earlystop 10 experiments/\" folder.\n",
    "\n",
    "If you are interested in the details about the QCNN used in this demo, check out https://arxiv.org/pdf/2108.00661.pdf.\n"
   ]
  },
  {
   "cell_type": "code",
   "execution_count": 1,
   "metadata": {},
   "outputs": [
    {
     "name": "stderr",
     "output_type": "stream",
     "text": [
      "2024-03-24 13:15:09.929850: I tensorflow/core/platform/cpu_feature_guard.cc:182] This TensorFlow binary is optimized to use available CPU instructions in performance-critical operations.\n",
      "To enable the following instructions: SSE4.1 SSE4.2 AVX AVX2 AVX_VNNI FMA, in other operations, rebuild TensorFlow with the appropriate compiler flags.\n"
     ]
    }
   ],
   "source": [
    "import matplotlib.pyplot as plt\n",
    "import sys\n",
    "sys.path.insert(0, '/home/tak/Github/QEmbedding/')\n",
    "import torch\n",
    "from torch import nn\n",
    "import data\n",
    "import embedding"
   ]
  },
  {
   "attachments": {},
   "cell_type": "markdown",
   "metadata": {},
   "source": [
    "IBMQ Fake provider"
   ]
  },
  {
   "cell_type": "code",
   "execution_count": 2,
   "metadata": {},
   "outputs": [],
   "source": [
    "import pennylane as qml\n",
    "from pennylane import numpy as np\n",
    "from qiskit import IBMQ\n",
    "from qiskit.providers.fake_provider import FakeJakarta, FakeMontreal\n",
    "from qiskit_aer.noise import NoiseModel\n",
    "\n",
    "\n",
    "noisy = FakeJakarta()\n",
    "noise_model = NoiseModel.from_backend(noisy)\n",
    "coupling_map = noisy.configuration().coupling_map\n",
    "basis_gates = noise_model.basis_gates\n",
    "\n",
    "dev_fake = qml.device(\n",
    "    'qiskit.aer',\n",
    "    wires=4,\n",
    "    shots=1024,\n",
    "    noise_model=noise_model,\n",
    "    coupling_map=coupling_map,\n",
    "    basis_gates=basis_gates\n",
    ")"
   ]
  },
  {
   "attachments": {},
   "cell_type": "markdown",
   "metadata": {},
   "source": [
    "# Part1: Noisy Model1 & Model 2"
   ]
  },
  {
   "attachments": {},
   "cell_type": "markdown",
   "metadata": {},
   "source": [
    "Load the dataset for Model1 and Model2"
   ]
  },
  {
   "cell_type": "code",
   "execution_count": 3,
   "metadata": {},
   "outputs": [
    {
     "name": "stderr",
     "output_type": "stream",
     "text": [
      "2024-03-24 13:15:16.950227: I tensorflow/core/common_runtime/process_util.cc:146] Creating new thread pool with default inter op setting: 2. Tune using inter_op_parallelism_threads for best performance.\n"
     ]
    }
   ],
   "source": [
    "dev = qml.device('default.qubit', wires=4)\n",
    "feature_reduction = 'PCA4'\n",
    "classes = [0,1]\n",
    "X_train, X_test, Y_train, Y_test = data.data_load_and_process('mnist', feature_reduction=feature_reduction, classes=classes)"
   ]
  },
  {
   "attachments": {},
   "cell_type": "markdown",
   "metadata": {},
   "source": [
    "## Part1: Pre-training the embedding"
   ]
  },
  {
   "cell_type": "code",
   "execution_count": 4,
   "metadata": {},
   "outputs": [],
   "source": [
    "steps = 1000\n",
    "learning_rate = 0.01\n",
    "batch_size = 25\n",
    "ansatz = 'TTN'\n",
    "\n",
    "def data_reuploading_ansatz(params): #8 params\n",
    "    for i in range(4):\n",
    "        qml.RY(params[i], wires=i)\n",
    "    for i in range(3):\n",
    "        qml.IsingZZ(params[i+4], wires=[i,i+1])\n",
    "    qml.IsingZZ(params[7], wires=[3,0])\n",
    "\n",
    "def data_reuploading_embedding(num_layers, params, x):\n",
    "    for l in range(num_layers):\n",
    "        data_reuploading_ansatz(params[8 * l : 8 * (l + 1)])\n",
    "        embedding.Noisy_Four_QuantumEmbedding1(x)\n",
    "\n",
    "\n",
    "@qml.qnode(dev_fake)\n",
    "def data_reuploading_QCNN_classifier(num_layers, params, x):\n",
    "    data_reuploading_embedding(num_layers, params, x)\n",
    "    embedding.Noisy_QCNN_four(params[8 * num_layers: 8 * num_layers + 4], ansatz)\n",
    "    return qml.expval(qml.PauliZ(2))\n",
    "\n",
    "\n",
    "def Linear_Loss(labels, predictions):\n",
    "    loss = 0\n",
    "    for l,p in zip(labels, predictions):\n",
    "        loss += 0.5 * (1 - l * p)\n",
    "    return loss / len(labels)\n",
    "\n",
    "\n",
    "def cost(weights, X_batch, Y_batch, num_layers):\n",
    "    preds = [data_reuploading_QCNN_classifier(num_layers, weights, x) for x in X_batch]\n",
    "    return Linear_Loss(Y_batch, preds)\n",
    "\n",
    "\n",
    "def circuit_training(X_train, Y_train, num_layers):\n",
    "\n",
    "    if ansatz == 'SU4':\n",
    "        num_weights = (num_layers * 8) + 30\n",
    "    elif ansatz == 'TTN':\n",
    "        num_weights = (num_layers * 8) + 4\n",
    "\n",
    "    weights = np.random.random(num_weights, requires_grad = True)\n",
    "    opt = qml.NesterovMomentumOptimizer(stepsize=learning_rate)\n",
    "    loss_history = []\n",
    "    for it in range(steps):\n",
    "        batch_index = np.random.randint(0, len(X_train), (batch_size,))\n",
    "        X_batch = [X_train[i] for i in batch_index]\n",
    "        Y_batch = [Y_train[i] for i in batch_index]\n",
    "        weights, cost_new = opt.step_and_cost(lambda v: cost(v, X_batch, Y_batch, num_layers),\n",
    "                                                     weights)\n",
    "        loss_history.append(cost_new)\n",
    "        if it % 200 == 0:\n",
    "            print(\"iteration: \", it, \" cost: \", cost_new)\n",
    "    return loss_history, weights"
   ]
  },
  {
   "cell_type": "code",
   "execution_count": 6,
   "metadata": {},
   "outputs": [
    {
     "name": "stdout",
     "output_type": "stream",
     "text": [
      "iteration:  0  cost:  0.4592578125\n",
      "iteration:  200  cost:  0.410234375\n",
      "iteration:  400  cost:  0.3971875\n",
      "iteration:  600  cost:  0.3321875\n",
      "iteration:  800  cost:  0.3296484375\n"
     ]
    }
   ],
   "source": [
    "\n",
    "Loss_histories_L1, weights_L1, Loss_histories_L2, weights_L2, Loss_histories_L3, weights_L3 = [], [], [], [], [], []\n",
    "for i in range(5):\n",
    "    loss_L1, weight_L1 = circuit_training(X_train, Y_train, 1)\n",
    "    loss_L2, weight_L2 = circuit_training(X_train, Y_train, 2)\n",
    "    loss_L3, weight_L3 = circuit_training(X_train, Y_train, 3)\n",
    "\n",
    "    Loss_histories_L1.append(loss_L1)\n",
    "    Loss_histories_L2.append(loss_L2)\n",
    "    Loss_histories_L3.append(loss_L3)\n",
    "\n",
    "    weights_L1.append(weight_L1)\n",
    "    weights_L2.append(weight_L2)\n",
    "    weights_L3.append(weight_L3)\n",
    "\n",
    "f = open('/home/tak/Github/QEmbedding/Results/QCNN_demonstration/Noisy/Loss_histories_and_weights_data_reuploading.txt', 'a')\n",
    "for i in range(5):\n",
    "    f.write(f'Loss History L=1 {i + 1}:')\n",
    "    f.write('\\n')\n",
    "    f.write(str(Loss_histories_L1[i]))\n",
    "    f.write('\\n')\n",
    "for i in range(5):\n",
    "    f.write(f'Weights L1 {i + 1}:')\n",
    "    f.write('\\n')\n",
    "    f.write(str(weights_L1[i]))\n",
    "\n",
    "\n",
    "for i in range(5):\n",
    "    f.write(f'Loss History L=2 {i + 1}:')\n",
    "    f.write('\\n')\n",
    "    f.write(str(Loss_histories_L2[i]))\n",
    "    f.write('\\n')\n",
    "for i in range(5):\n",
    "    f.write(f'Weights L=2 {i + 1}:')\n",
    "    f.write('\\n')\n",
    "    f.write(str(weights_L2[i]))\n",
    "\n",
    "for i in range(5):\n",
    "    f.write(f'Loss History L=3 {i + 1}:')\n",
    "    f.write('\\n')\n",
    "    f.write(str(Loss_histories_L3[i]))\n",
    "    f.write('\\n')\n",
    "for i in range(5):\n",
    "    f.write(f'Weights L=3 {i + 1}:')\n",
    "    f.write('\\n')\n",
    "    f.write(str(weights_L3[i]))\n",
    "f.close()\n",
    "\n"
   ]
  },
  {
   "attachments": {},
   "cell_type": "markdown",
   "metadata": {},
   "source": [
    "# Part 4: Result "
   ]
  },
  {
   "attachments": {},
   "cell_type": "markdown",
   "metadata": {},
   "source": [
    "Load the results"
   ]
  },
  {
   "cell_type": "code",
   "execution_count": null,
   "metadata": {},
   "outputs": [],
   "source": [
    "PATH_LH0 = '/Users/tak/Github/QEmbedding/Results/QCNN_demonstration/Noisy/Loss_histories_not_trained.txt'\n",
    "PATH_LH1 = '/Users/tak/Github/QEmbedding/Results/QCNN_demonstration/Noisy/Loss_histories_Model1.txt'\n",
    "PATH_LH2 = '/Users/tak/Github/QEmbedding/Results/QCNN_demonstration/Noisy/Loss_histories_Model2.txt'\n",
    "PATH_LH3 = '/Users/tak/Github/QEmbedding/Results/QCNN_demonstration/Noisy/Loss_histories_Model3.txt'\n",
    "PATH_LH_amp0 = '/Users/tak/Github/QEmbedding/Results/QCNN_demonstration/Noisy/Loss_histories_Model_amp_not_trained.txt'\n",
    "PATH_LH_amp1 = '/Users/tak/Github/QEmbedding/Results/QCNN_demonstration/Noisy/Loss_histories_Model_amp.txt'\n",
    "\n",
    "PATH_w0 = '/Users/tak/Github/QEmbedding/Results/QCNN_demonstration/Noisy/weights_not_trained.txt'\n",
    "PATH_w1 = '/Users/tak/Github/QEmbedding/Results/QCNN_demonstration/Noisy/weights_Model1.txt'\n",
    "PATH_w2 = '/Users/tak/Github/QEmbedding/Results/QCNN_demonstration/Noisy/weights_Model2.txt'\n",
    "PATH_w3 = '/Users/tak/Github/QEmbedding/Results/QCNN_demonstration/Noisy/weights_Model3.txt'\n",
    "PATH_w_amp0 = '/Users/tak/Github/QEmbedding/Results/QCNN_demonstration/Noisy/weights_Model_amp_not_trained.txt'\n",
    "PATH_w_amp1 = '/Users/tak/Github/QEmbedding/Results/QCNN_demonstration/Noisy/weights_Model_amp.txt'\n",
    "\n",
    "def data_read(PATH):\n",
    "  textfile = open(PATH, 'r')\n",
    "  data = np.array([])\n",
    "  for line in textfile:\n",
    "    a = np.array([float(v) for v in line.strip().split(\" \")])\n",
    "    data = np.append(data, a)\n",
    "  return data\n",
    "\n",
    "Loss_histories_not_trained = data_read(PATH_LH0).reshape(5,1000)\n",
    "Loss_histories_Model1_Fidelity = data_read(PATH_LH1).reshape(5,1000)\n",
    "Loss_histories_Model2_Fidelity = data_read(PATH_LH2).reshape(5,1000)\n",
    "Loss_histories_Model3_Fidelity = data_read(PATH_LH3).reshape(5,1000)\n",
    "Loss_histories_Model_amp_not_trained = data_read(PATH_LH_amp0).reshape(5,1000)\n",
    "Loss_histories_Model_amp = data_read(PATH_LH_amp1).reshape(5,1000)\n",
    "\n",
    "weights_not_trained = data_read(PATH_w0).reshape(5,4)\n",
    "weights_Model1_Fidelity = data_read(PATH_w1).reshape(5,4)\n",
    "weights_Model2_Fidelity = data_read(PATH_w2).reshape(5,4)\n",
    "weights_Model3_Fidelity = data_read(PATH_w3).reshape(5,4)\n",
    "weights_Model_amp_not_trained = data_read(PATH_w_amp0).reshape(5,4)\n",
    "weights_Model_amp = data_read(PATH_w_amp1).reshape(5,4)\n",
    "\n",
    "Not_trained_mean, Not_trained_std = Loss_histories_not_trained.mean(axis=0), Loss_histories_not_trained.std(axis=0)\n",
    "Model1_Fidelity_mean, Model1_Fidelity_std = Loss_histories_Model1_Fidelity.mean(axis=0), Loss_histories_Model1_Fidelity.std(axis=0)\n",
    "Model2_Fidelity_mean, Model2_Fidelity_std = Loss_histories_Model2_Fidelity.mean(axis=0), Loss_histories_Model2_Fidelity.std(axis=0)\n",
    "Model3_Fidelity_mean, Model3_Fidelity_std = Loss_histories_Model3_Fidelity.mean(axis=0), Loss_histories_Model3_Fidelity.std(axis=0)\n",
    "Model_amp_not_trained_mean, Model_amp_not_trained_std = Loss_histories_Model_amp_not_trained.mean(axis=0), Loss_histories_Model_amp_not_trained.std(axis=0)\n",
    "Model_amp_mean, Model_amp_std = Loss_histories_Model_amp.mean(axis=0), Loss_histories_Model_amp.std(axis=0)"
   ]
  },
  {
   "attachments": {},
   "cell_type": "markdown",
   "metadata": {},
   "source": [
    "Plot the results for Model 1,2,3"
   ]
  },
  {
   "cell_type": "code",
   "execution_count": null,
   "metadata": {},
   "outputs": [],
   "source": [
    "import seaborn as sns\n",
    "\n",
    "plt.rcParams['figure.figsize'] = [10, 5]\n",
    "fig, ax = plt.subplots()\n",
    "clrs = sns.color_palette(\"husl\", 4)\n",
    "with sns.axes_style(\"darkgrid\"):\n",
    "    ax.plot(range(len(Not_trained_mean)), Not_trained_mean, label=\"No Pre-training\", c=clrs[0])\n",
    "    ax.fill_between(range(len(Not_trained_mean)), Not_trained_mean-Not_trained_std, Not_trained_mean+Not_trained_std, alpha=0.3,facecolor=clrs[0])\n",
    "\n",
    "    ax.plot(range(len(Model1_Fidelity_mean)), Model1_Fidelity_mean, label=\"Noisy Model1 Pre-training\", c=clrs[1])\n",
    "    ax.fill_between(range(len(Model1_Fidelity_mean)), Model1_Fidelity_mean-Model1_Fidelity_std, Model1_Fidelity_mean+Model1_Fidelity_std, alpha=0.3,facecolor=clrs[1])\n",
    "    \n",
    "    ax.plot(range(len(Model2_Fidelity_mean)), Model2_Fidelity_mean, label=\"Noisy Model2 Pre-training\", c=clrs[2])\n",
    "    ax.fill_between(range(len(Model2_Fidelity_mean)), Model2_Fidelity_mean-Model2_Fidelity_std, Model2_Fidelity_mean+Model2_Fidelity_std, alpha=0.3,facecolor=clrs[2])\n",
    "\n",
    "    ax.plot(range(len(Model3_Fidelity_mean)), Model3_Fidelity_mean, label=\"Noisy Model2 Pre-training\", c=clrs[3])\n",
    "    ax.fill_between(range(len(Model3_Fidelity_mean)), Model3_Fidelity_mean-Model3_Fidelity_std, Model3_Fidelity_mean+Model3_Fidelity_std, alpha=0.3,facecolor=clrs[3])\n",
    "\n",
    "\n",
    "    ax.plot(range(1000), np.ones(1000) * LB_before_traindata, linestyle='dashed', linewidth=1.5, label=\"Lower Bound without Pre-training\", c=clrs[0])\n",
    "    ax.plot(range(1000), np.ones(1000) * LB_Model1_traindata, linestyle='dashed', linewidth=1.5, label=\"Lower Bound with Noisy Model1\", c=clrs[1])\n",
    "    ax.plot(range(1000), np.ones(1000) * LB_Model2_traindata, linestyle='dashed', linewidth=1.5, label=\"Lower Bound with Noisy Model2\", c=clrs[2])\n",
    "    ax.plot(range(1000), np.ones(1000) * LB_Model3_traindata, linestyle='dashed', linewidth=1.5, label=\"Lower Bound with Noisy Model3\", c=clrs[3])\n",
    "\n",
    "\n",
    "ax.set_xlabel(\"Iteration\")\n",
    "ax.set_ylabel(\"Loss\")\n",
    "ax.set_title(\"Noisy QCNN Loss History\")\n",
    "ax.legend()"
   ]
  },
  {
   "attachments": {},
   "cell_type": "markdown",
   "metadata": {},
   "source": [
    "Plot the results for Model Amplitude"
   ]
  },
  {
   "cell_type": "code",
   "execution_count": null,
   "metadata": {},
   "outputs": [],
   "source": [
    "LB_amp_before_traindata = 0.2314\n",
    "LB_amp_after_traindata = 0.0266\n",
    "import seaborn as sns\n",
    "\n",
    "plt.rcParams['figure.figsize'] = [10, 5]\n",
    "fig, ax = plt.subplots()\n",
    "clrs = sns.color_palette(\"husl\", 2)\n",
    "with sns.axes_style(\"darkgrid\"):\n",
    "    ax.plot(range(len(Model_amp_not_trained_mean)), Model_amp_not_trained_mean, label=\"No Pre-training\", c=clrs[0])\n",
    "    ax.fill_between(range(len(Model_amp_not_trained_mean)), Model_amp_not_trained_mean-Model_amp_not_trained_std, Model_amp_not_trained_mean+Model_amp_not_trained_std, alpha=0.3,facecolor=clrs[0])\n",
    "\n",
    "    ax.plot(range(len(Model_amp_mean)), Model_amp_mean, label=\"With Pre-training\", c=clrs[1])\n",
    "    ax.fill_between(range(len(Model_amp_mean)), Model_amp_mean-Model_amp_std, Model_amp_mean+Model_amp_std, alpha=0.3,facecolor=clrs[1])\n",
    "\n",
    "\n",
    "    ax.plot(range(1000), np.ones(1000) * LB_amp_before_traindata, linestyle='dashed', linewidth=1.5, label=\"Lower Bound without Pre-training\", c=clrs[0])\n",
    "    ax.plot(range(1000), np.ones(1000) * LB_amp_after_traindata, linestyle='dashed', linewidth=1.5, label=\"Lower Bound with Pre-training\", c=clrs[1])\n",
    "\n",
    "\n",
    "ax.set_xlabel(\"Iteration\")\n",
    "ax.set_ylabel(\"Loss\")\n",
    "ax.set_title(\"Noisy QCNN Loss History with Amplitude Embedding\")\n",
    "ax.legend()"
   ]
  },
  {
   "attachments": {},
   "cell_type": "markdown",
   "metadata": {},
   "source": [
    "Calculate the classification accuracies for Model1,2"
   ]
  },
  {
   "cell_type": "code",
   "execution_count": null,
   "metadata": {},
   "outputs": [],
   "source": [
    "feature_reduction = 'PCA4'\n",
    "X_train, X_test, Y_train, Y_test = data.data_load_and_process('mnist', feature_reduction=feature_reduction, classes=classes)\n",
    "\n",
    "X_train, X_test = torch.tensor(X_train).to(torch.float32), torch.tensor(X_test).to(torch.float32)\n",
    "Y_train = [-1 if y == 0 else 1 for y in Y_train]\n",
    "Y_test = [-1 if y == 0 else 1 for y in Y_test]"
   ]
  },
  {
   "cell_type": "code",
   "execution_count": null,
   "metadata": {},
   "outputs": [],
   "source": [
    "def accuracy_test(predictions, labels):\n",
    "    acc = 0\n",
    "    for l, p in zip(labels, predictions):\n",
    "        if np.abs(l - p) < 1:\n",
    "            acc = acc + 1\n",
    "    return acc / len(labels)\n",
    "\n",
    "\n",
    "accuracies_not_trained, accuracies_Model1_Fidelity, accuracies_Model2_Fidelity = [], [], []\n",
    "\n",
    "for i in range(5):\n",
    "    prediction_not_trained = [Noisy_QCNN_classifier(weights_not_trained[i], x, Trained=False) for x in X_test]\n",
    "    prediction_Model1_Fidelity = [Noisy_QCNN_classifier(weights_Model1_Fidelity[i], x, Trained='Model1_Fidelity') for x in X_test]\n",
    "    prediction_Model2_Fidelity = [Noisy_QCNN_classifier(weights_Model2_Fidelity[i], x, Trained='Model2_Fidelity') for x in X_test]\n",
    "    \n",
    "    accuracy_not_trained = accuracy_test(prediction_not_trained, Y_test)\n",
    "    accuracy_Model1_Fidelity = accuracy_test(prediction_Model1_Fidelity, Y_test)\n",
    "    accuracy_Model2_Fidelity = accuracy_test(prediction_Model2_Fidelity, Y_test)\n",
    "\n",
    "    accuracies_not_trained.append(accuracy_not_trained)\n",
    "    accuracies_Model1_Fidelity.append(accuracy_Model1_Fidelity)\n",
    "    accuracies_Model2_Fidelity.append(accuracy_Model2_Fidelity)\n",
    "\n",
    "accuracies_not_trained = np.array(accuracies_not_trained)\n",
    "accuracies_Model1_Fidelity, accuracies_Model2_Fidelity = np.array(accuracies_Model1_Fidelity), np.array(accuracies_Model2_Fidelity)"
   ]
  },
  {
   "attachments": {},
   "cell_type": "markdown",
   "metadata": {},
   "source": [
    "Calculate the accuracies for Model 3"
   ]
  },
  {
   "cell_type": "code",
   "execution_count": null,
   "metadata": {},
   "outputs": [],
   "source": [
    "feature_reduction = False\n",
    "X_train, X_test, Y_train, Y_test = data.data_load_and_process('mnist', feature_reduction=feature_reduction, classes=classes)\n",
    "\n",
    "X_train, X_test = torch.tensor(X_train).to(torch.float32), torch.tensor(X_test).to(torch.float32)\n",
    "X_train, X_test = X_train.permute(0, 3, 1, 2), X_test.permute(0, 3, 1, 2)\n",
    "Y_train = [-1 if y == 0 else 1 for y in Y_train]\n",
    "Y_test = [-1 if y == 0 else 1 for y in Y_test]"
   ]
  },
  {
   "cell_type": "code",
   "execution_count": null,
   "metadata": {},
   "outputs": [],
   "source": [
    "accuracies_Model3_Fidelity = []\n",
    "\n",
    "for i in range(5):\n",
    "    prediction_Model3_Fidelity = [Noisy_QCNN_classifier(weights_Model3_Fidelity[i], x, Trained='Model3_Fidelity') for x in X_test]\n",
    "    accuracy_Model3_Fidelity = accuracy_test(prediction_Model3_Fidelity, Y_test)\n",
    "    accuracies_Model3_Fidelity.append(accuracy_Model3_Fidelity)\n",
    "\n",
    "accuracies_Model3_Fidelity =np.array(accuracies_Model3_Fidelity)"
   ]
  },
  {
   "attachments": {},
   "cell_type": "markdown",
   "metadata": {},
   "source": [
    "Calculate the accuracies for Model Amplitude"
   ]
  },
  {
   "cell_type": "code",
   "execution_count": null,
   "metadata": {},
   "outputs": [],
   "source": [
    "feature_reduction = 'PCA16'\n",
    "X_train, X_test, Y_train, Y_test = data.data_load_and_process('mnist', feature_reduction=feature_reduction, classes=classes)\n",
    "\n",
    "X_train, X_test = torch.tensor(X_train).to(torch.float32), torch.tensor(X_test).to(torch.float32)\n",
    "Y_train = [-1 if y == 0 else 1 for y in Y_train]\n",
    "Y_test = [-1 if y == 0 else 1 for y in Y_test]"
   ]
  },
  {
   "cell_type": "code",
   "execution_count": null,
   "metadata": {},
   "outputs": [],
   "source": [
    "accuracies_amp_not_trained, accuracies_amp = [], []\n",
    "\n",
    "for i in range(5):\n",
    "    prediction_amp_not_trained = [Noisy_QCNN_classifier(weights_Model_amp_not_trained[i], x, Trained='Model_amp_not_trained') for x in X_test]\n",
    "    prediction_amp = [Noisy_QCNN_classifier(weights_Model_amp[i], x, Trained='Model_amp') for x in X_test]\n",
    "    \n",
    "\n",
    "    accuracy_amp_not_trained = accuracy_test(prediction_amp_not_trained, Y_test)\n",
    "    accuracy_amp = accuracy_test(prediction_amp, Y_test)\n",
    "\n",
    "    accuracies_amp_not_trained.append(accuracy_amp_not_trained)\n",
    "    accuracies_amp.append(accuracy_amp)\n",
    "\n",
    "\n",
    "accuracies_amp_not_trained, accuracies_amp = np.array(accuracies_amp_not_trained), np.array(accuracies_amp)"
   ]
  },
  {
   "cell_type": "code",
   "execution_count": null,
   "metadata": {},
   "outputs": [],
   "source": [
    "\n",
    "print(\"Noisy QCNN classification accuracies:\\n\")\n",
    "print(\"-------------------------------------\\n\")\n",
    "print(f\" Accuracy without pre-training: {accuracies_not_trained.mean()} ± {accuracies_not_trained.std()}\")\n",
    "print(f\" Accuracy after pre-training with Noisy_Model1_Fidelity: {accuracies_Model1_Fidelity.mean()} ± {accuracies_Model1_Fidelity.std()}\")\n",
    "print(f\" Accuracy after pre-training with Noisy_Model2_Fidelity: {accuracies_Model2_Fidelity.mean()} ± {accuracies_Model2_Fidelity.std()}\")\n",
    "print(f\" Accuracy after pre-training with Noisy_Model3_Fidelity: {accuracies_Model3_Fidelity.mean()} ± {accuracies_Model3_Fidelity.std()}\")\n",
    "print(\"\\n\")\n",
    "print(\"\\n\")\n",
    "print(\"Noisy QCNN classification accuracies (Amplitude Embedding):\\n\")\n",
    "print(\"-------------------------------------\\n\")\n",
    "print(f\" Accuracy (Amplitude) without pre-training: {accuracies_amp_not_trained.mean()} ± {accuracies_amp_not_trained.std()}\")\n",
    "print(f\" Accuracy (Amplitude) with pre-training: {accuracies_amp.mean()} ± {accuracies_amp.std()}\")\n",
    "\n"
   ]
  },
  {
   "cell_type": "code",
   "execution_count": null,
   "metadata": {},
   "outputs": [],
   "source": []
  }
 ],
 "metadata": {
  "kernelspec": {
   "display_name": "QC",
   "language": "python",
   "name": "python3"
  },
  "language_info": {
   "codemirror_mode": {
    "name": "ipython",
    "version": 3
   },
   "file_extension": ".py",
   "mimetype": "text/x-python",
   "name": "python",
   "nbconvert_exporter": "python",
   "pygments_lexer": "ipython3",
   "version": "3.11.5"
  },
  "vscode": {
   "interpreter": {
    "hash": "c5108ee98eb47f7e6b2eeb3f4fcfe8c3b821806f46f3b96ac0193b078633d3d2"
   }
  }
 },
 "nbformat": 4,
 "nbformat_minor": 2
}
