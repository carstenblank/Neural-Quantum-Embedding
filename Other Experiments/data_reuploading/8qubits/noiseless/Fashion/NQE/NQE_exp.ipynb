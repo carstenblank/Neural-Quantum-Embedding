{
 "cells": [
  {
   "attachments": {},
   "cell_type": "markdown",
   "metadata": {},
   "source": [
    "# 8 qubit experiments"
   ]
  },
  {
   "cell_type": "code",
   "execution_count": 1,
   "metadata": {},
   "outputs": [],
   "source": [
    "from pennylane import numpy as np\n",
    "import matplotlib.pyplot as plt\n",
    "import sys\n",
    "sys.path.insert(0, '/home/tak/Github/QEmbedding/')\n",
    "import torch\n",
    "from torch import nn\n",
    "import pennylane as qml\n",
    "import embedding\n",
    "import data\n",
    "\n",
    "dev = qml.device('default.qubit', wires=8)"
   ]
  },
  {
   "attachments": {},
   "cell_type": "markdown",
   "metadata": {},
   "source": [
    "# NQE Optimization"
   ]
  },
  {
   "cell_type": "code",
   "execution_count": 2,
   "metadata": {},
   "outputs": [],
   "source": [
    "@qml.qnode(dev, interface=\"torch\")\n",
    "def Four_circuit2(inputs): \n",
    "    embedding.QuantumEmbedding2(inputs[0:16])\n",
    "    embedding.QuantumEmbedding2_inverse(inputs[16:32])\n",
    "    return qml.probs(wires=range(8))\n",
    "\n",
    "class PCA_NQE(torch.nn.Module):\n",
    "    def __init__(self):\n",
    "        super().__init__()\n",
    "        self.qlayer2 = qml.qnn.TorchLayer(Four_circuit2, weight_shapes={})\n",
    "        self.linear_relu_stack2 = nn.Sequential(\n",
    "            nn.Linear(8, 24),\n",
    "            nn.ReLU(),\n",
    "            nn.Linear(24, 24),\n",
    "            nn.ReLU(),\n",
    "            nn.Linear(24, 16)\n",
    "        )\n",
    "    def forward(self, x1, x2):\n",
    "        x1 = self.linear_relu_stack2(x1)\n",
    "        x2 = self.linear_relu_stack2(x2)\n",
    "        x = torch.concat([x1, x2], 1)\n",
    "        x = self.qlayer2(x)\n",
    "        return x[:,0]\n",
    "\n",
    "\n",
    "class NQE(torch.nn.Module):\n",
    "    def __init__(self):\n",
    "        super().__init__()\n",
    "        self.qlayer3 = qml.qnn.TorchLayer(Four_circuit2, weight_shapes={})\n",
    "        self.layer1 = torch.nn.Sequential(\n",
    "            torch.nn.Conv2d(1, 1, kernel_size=3, stride=1, padding=1),\n",
    "            torch.nn.ReLU(),\n",
    "            torch.nn.MaxPool2d(kernel_size=2, stride=2)\n",
    "        )\n",
    "\n",
    "        # Layer2: 14 * 14 -> 7 * 7\n",
    "        self.layer2 = torch.nn.Sequential(\n",
    "            torch.nn.Conv2d(1, 1, kernel_size=3, stride=1, padding=1),\n",
    "            torch.nn.ReLU(),\n",
    "            torch.nn.MaxPool2d(kernel_size=2, stride=2)\n",
    "        )\n",
    "\n",
    "        # Fully connected Layers 7 * 7 -> 7\n",
    "        self.fc = torch.nn.Linear(7 * 7, 16, bias=True)\n",
    "        \n",
    "    def forward(self, x1, x2):\n",
    "        x1 = self.layer1(x1)\n",
    "        x1 = self.layer2(x1)\n",
    "        x1 = x1.view(-1, 7 * 7)\n",
    "        x1 = self.fc(x1)\n",
    "\n",
    "        x2 = self.layer1(x2)\n",
    "        x2 = self.layer2(x2)\n",
    "        x2 = x2.view(-1, 7 * 7)\n",
    "        x2 = self.fc(x2)\n",
    "\n",
    "        x = torch.concat([x1, x2], 1)\n",
    "        x = self.qlayer3(x)\n",
    "        return x[:,0]"
   ]
  },
  {
   "cell_type": "code",
   "execution_count": 3,
   "metadata": {},
   "outputs": [],
   "source": [
    "def new_data(batch_size, X, Y, feature_reduction):\n",
    "    X1_new, X2_new, Y_new = [], [], []\n",
    "    for i in range(batch_size):\n",
    "        n, m = np.random.randint(len(X)), np.random.randint(len(X))\n",
    "        X1_new.append(X[n])\n",
    "        X2_new.append(X[m])\n",
    "        if Y[n] == Y[m]:\n",
    "            Y_new.append(1)\n",
    "        else:\n",
    "            Y_new.append(0)\n",
    "\n",
    "    X1_new, X2_new, Y_new = torch.tensor(X1_new).to(torch.float32), torch.tensor(X2_new).to(torch.float32), torch.tensor(Y_new).to(torch.float32)\n",
    "    if feature_reduction == False:\n",
    "        X1_new = X1_new.permute(0, 3, 1, 2)\n",
    "        X2_new = X2_new.permute(0, 3, 1, 2)\n",
    "    return X1_new, X2_new, Y_new\n",
    "\n",
    "def train_models(model_name, X_train, Y_train, feature_reduction):\n",
    "    if model_name == 'PCA-NQE':\n",
    "        model = PCA_NQE()\n",
    "    elif model_name == 'NQE':\n",
    "        model = NQE()\n",
    "\n",
    "    model.train()\n",
    "\n",
    "    loss_fn = torch.nn.MSELoss()\n",
    "    opt = torch.optim.SGD(model.parameters(), lr=0.01)\n",
    "    for it in range(501):\n",
    "\n",
    "        X1_batch, X2_batch, Y_batch = new_data(25, X_train, Y_train, feature_reduction)\n",
    "        X1_batch, X2_batch, Y_batch = X1_batch, X2_batch, Y_batch\n",
    "\n",
    "        pred = model(X1_batch, X2_batch)\n",
    "        pred, Y_batch = pred.to(torch.float32), Y_batch.to(torch.float32)\n",
    "        loss = loss_fn(pred, Y_batch)\n",
    "\n",
    "        opt.zero_grad()\n",
    "        loss.backward()\n",
    "        opt.step()\n",
    "\n",
    "        if it % 50 == 0:\n",
    "            print(f\"Iterations: {it} Loss: {loss.item()}\")\n",
    "            PATH = f'{model_name}{it}.pt'\n",
    "            torch.save(model.state_dict(), PATH)\n"
   ]
  },
  {
   "cell_type": "code",
   "execution_count": 4,
   "metadata": {},
   "outputs": [
    {
     "name": "stderr",
     "output_type": "stream",
     "text": [
      "/tmp/ipykernel_149522/1218021825.py:12: UserWarning: Creating a tensor from a list of numpy.ndarrays is extremely slow. Please consider converting the list to a single numpy.ndarray with numpy.array() before converting to a tensor. (Triggered internally at ../torch/csrc/utils/tensor_new.cpp:245.)\n",
      "  X1_new, X2_new, Y_new = torch.tensor(X1_new).to(torch.float32), torch.tensor(X2_new).to(torch.float32), torch.tensor(Y_new).to(torch.float32)\n",
      "/home/tak/anaconda3/envs/QC/lib/python3.11/site-packages/torch/autograd/__init__.py:200: UserWarning: CUDA initialization: Unexpected error from cudaGetDeviceCount(). Did you run some cuda functions before calling NumCudaDevices() that might have already set an error? Error 804: forward compatibility was attempted on non supported HW (Triggered internally at ../c10/cuda/CUDAFunctions.cpp:109.)\n",
      "  Variable._execution_engine.run_backward(  # Calls into the C++ engine to run the backward pass\n"
     ]
    },
    {
     "name": "stdout",
     "output_type": "stream",
     "text": [
      "Iterations: 0 Loss: 0.198460191488266\n",
      "Iterations: 50 Loss: 0.19422292709350586\n",
      "Iterations: 100 Loss: 0.10261430591344833\n",
      "Iterations: 150 Loss: 0.15560847520828247\n",
      "Iterations: 200 Loss: 0.07348191738128662\n",
      "Iterations: 250 Loss: 0.09121546894311905\n",
      "Iterations: 300 Loss: 0.0743735134601593\n",
      "Iterations: 350 Loss: 0.1320861577987671\n",
      "Iterations: 400 Loss: 0.12370553612709045\n",
      "Iterations: 450 Loss: 0.0486019141972065\n",
      "Iterations: 500 Loss: 0.028264760971069336\n"
     ]
    }
   ],
   "source": [
    "feature_reduction = 'PCA8'\n",
    "classes = [0,1]\n",
    "X_train, X_test, Y_train, Y_test = data.data_load_and_process('fashion', feature_reduction=feature_reduction, classes=classes)\n",
    "train_models('PCA-NQE', X_train, Y_train, feature_reduction)"
   ]
  },
  {
   "cell_type": "code",
   "execution_count": 5,
   "metadata": {},
   "outputs": [
    {
     "name": "stdout",
     "output_type": "stream",
     "text": [
      "Iterations: 0 Loss: 0.42008981108665466\n",
      "Iterations: 50 Loss: 0.11080687493085861\n",
      "Iterations: 100 Loss: 0.19489040970802307\n",
      "Iterations: 150 Loss: 0.11417374014854431\n",
      "Iterations: 200 Loss: 0.09839283674955368\n",
      "Iterations: 250 Loss: 0.08219244331121445\n",
      "Iterations: 300 Loss: 0.10133208334445953\n",
      "Iterations: 350 Loss: 0.0918990969657898\n",
      "Iterations: 400 Loss: 0.055901821702718735\n",
      "Iterations: 450 Loss: 0.0806964784860611\n",
      "Iterations: 500 Loss: 0.0500900037586689\n"
     ]
    }
   ],
   "source": [
    "feature_reduction = False\n",
    "classes = [0,1]\n",
    "X_train, X_test, Y_train, Y_test = data.data_load_and_process('fashion', feature_reduction=feature_reduction, classes=classes)\n",
    "train_models('NQE', X_train, Y_train, feature_reduction)"
   ]
  },
  {
   "cell_type": "markdown",
   "metadata": {},
   "source": [
    "# QCNN Training"
   ]
  },
  {
   "cell_type": "code",
   "execution_count": 6,
   "metadata": {},
   "outputs": [],
   "source": [
    "batch_size = 128\n",
    "steps = 1000\n",
    "ansatz = \"SU4\"\n",
    "learning_rate = 0.01"
   ]
  },
  {
   "cell_type": "code",
   "execution_count": 7,
   "metadata": {},
   "outputs": [],
   "source": [
    "\n",
    "class x_transform2(torch.nn.Module):\n",
    "    def __init__(self):\n",
    "        super().__init__()\n",
    "        self.linear_relu_stack2 = nn.Sequential(\n",
    "            nn.Linear(8, 24),\n",
    "            nn.ReLU(),\n",
    "            nn.Linear(24, 24),\n",
    "            nn.ReLU(),\n",
    "            nn.Linear(24, 16)\n",
    "        )\n",
    "        \n",
    "    def forward(self, x):\n",
    "        x = self.linear_relu_stack2(x)\n",
    "        return x.detach().numpy()\n",
    "\n",
    "\n",
    "class x_transform3(torch.nn.Module):\n",
    "    def __init__(self):\n",
    "        super().__init__()\n",
    "        self.layer1 = torch.nn.Sequential(\n",
    "            torch.nn.Conv2d(1, 1, kernel_size=3, stride=1, padding=1),\n",
    "            torch.nn.ReLU(),\n",
    "            torch.nn.MaxPool2d(kernel_size=2, stride=2)\n",
    "        )\n",
    "\n",
    "        # Layer2: 14 * 14 -> 7 * 7\n",
    "        self.layer2 = torch.nn.Sequential(\n",
    "            torch.nn.Conv2d(1, 1, kernel_size=3, stride=1, padding=1),\n",
    "            torch.nn.ReLU(),\n",
    "            torch.nn.MaxPool2d(kernel_size=2, stride=2)\n",
    "        )\n",
    "\n",
    "        # Fully connected Layers 7 * 7 -> 7\n",
    "        self.fc = torch.nn.Linear(7 * 7, 16, bias=True)\n",
    "        \n",
    "    def forward(self, x):\n",
    "        x = self.layer1(x)\n",
    "        x = self.layer2(x)\n",
    "        x = x.view(-1, 7 * 7)\n",
    "        x = self.fc(x)\n",
    "        return x.detach().numpy()\n",
    "\n",
    "model2 = x_transform2()\n",
    "model3 = x_transform3()"
   ]
  },
  {
   "cell_type": "code",
   "execution_count": 8,
   "metadata": {},
   "outputs": [],
   "source": [
    "def statepreparation(x, Trained):\n",
    "    if Trained == False:\n",
    "        embedding.QuantumEmbedding1(x)\n",
    "    elif Trained == 'PCA-NQE':\n",
    "        model2.load_state_dict(torch.load('PCA-NQE500.pt'))\n",
    "        x = model2(torch.tensor(x))\n",
    "        embedding.QuantumEmbedding2(x)\n",
    "    elif Trained == 'NQE':\n",
    "        model3.load_state_dict(torch.load('NQE500.pt'))\n",
    "        x = model3(torch.tensor(x))\n",
    "        embedding.QuantumEmbedding2(x[0])\n",
    "\n",
    "\n",
    "@qml.qnode(dev)\n",
    "def QCNN_classifier(params, x, Trained):\n",
    "    statepreparation(x, Trained)\n",
    "    embedding.QCNN_eight(params, ansatz)\n",
    "    return qml.expval(qml.PauliZ(4))\n",
    "\n",
    "\n",
    "def Linear_Loss(labels, predictions):\n",
    "    loss = 0\n",
    "    for l,p in zip(labels, predictions):\n",
    "        loss += 0.5 * (1 - l * p)\n",
    "    return loss / len(labels)\n",
    "\n",
    "\n",
    "def cost(weights, X_batch, Y_batch, Trained):\n",
    "    preds = [QCNN_classifier(weights, x, Trained) for x in X_batch]\n",
    "    return Linear_Loss(Y_batch, preds)\n",
    "\n",
    "\n",
    "def circuit_training(X_train, Y_train, Trained):\n",
    "\n",
    "    if ansatz == 'SU4':\n",
    "        num_weights = 45\n",
    "    elif ansatz == 'TTN':\n",
    "        num_weights = 6\n",
    "\n",
    "    weights = np.random.random(num_weights, requires_grad = True)\n",
    "    opt = qml.NesterovMomentumOptimizer(stepsize=learning_rate)\n",
    "    loss_history = []\n",
    "    for it in range(steps):\n",
    "        batch_index = np.random.randint(0, len(X_train), (batch_size,))\n",
    "        X_batch = [X_train[i] for i in batch_index]\n",
    "        Y_batch = [Y_train[i] for i in batch_index]\n",
    "        weights, cost_new = opt.step_and_cost(lambda v: cost(v, X_batch, Y_batch, Trained),\n",
    "                                                     weights)\n",
    "        loss_history.append(cost_new)\n",
    "        if it % 200 == 0:\n",
    "            print(\"iteration: \", it, \" cost: \", cost_new)\n",
    "    return loss_history, weights"
   ]
  },
  {
   "cell_type": "code",
   "execution_count": 9,
   "metadata": {},
   "outputs": [],
   "source": [
    "feature_reduction = 'PCA8'\n",
    "classes = [0,1]\n",
    "X_train, X_test, Y_train, Y_test = data.data_load_and_process('fashion', feature_reduction=feature_reduction, classes=classes)\n",
    "#X_train, X_test = torch.tensor(X_train).to(torch.float32), torch.tensor(X_test).to(torch.float32)\n",
    "Y_train = [-1 if y == 0 else 1 for y in Y_train]\n",
    "Y_test = [-1 if y == 0 else 1 for y in Y_test]"
   ]
  },
  {
   "cell_type": "code",
   "execution_count": 10,
   "metadata": {},
   "outputs": [
    {
     "name": "stderr",
     "output_type": "stream",
     "text": [
      "/home/tak/anaconda3/envs/QC/lib/python3.11/site-packages/autograd/numpy/numpy_vjps.py:698: ComplexWarning: Casting complex values to real discards the imaginary part\n",
      "  onp.add.at(A, idx, x)\n"
     ]
    },
    {
     "name": "stdout",
     "output_type": "stream",
     "text": [
      "iteration:  0  cost:  0.487860053034488\n",
      "iteration:  200  cost:  0.46471030936116947\n",
      "iteration:  400  cost:  0.4480632176000887\n",
      "iteration:  600  cost:  0.44129103859960667\n",
      "iteration:  800  cost:  0.3886443922708062\n",
      "iteration:  0  cost:  0.4970359216912231\n",
      "iteration:  200  cost:  0.31082109275267794\n",
      "iteration:  400  cost:  0.2493271593840733\n",
      "iteration:  600  cost:  0.20669253387309117\n",
      "iteration:  800  cost:  0.19790763212317897\n",
      "iteration:  0  cost:  0.5030103869168827\n",
      "iteration:  200  cost:  0.4581328076673483\n",
      "iteration:  400  cost:  0.4479496472697864\n",
      "iteration:  600  cost:  0.4277079638599273\n",
      "iteration:  800  cost:  0.4138045988482103\n",
      "iteration:  0  cost:  0.5157712468523009\n",
      "iteration:  200  cost:  0.26849955725715446\n",
      "iteration:  400  cost:  0.19370990500958216\n",
      "iteration:  600  cost:  0.2115366162193844\n",
      "iteration:  800  cost:  0.21023782752406817\n",
      "iteration:  0  cost:  0.4998787775403947\n",
      "iteration:  200  cost:  0.4620933422249828\n",
      "iteration:  400  cost:  0.45694415494410484\n",
      "iteration:  600  cost:  0.4228102027191838\n",
      "iteration:  800  cost:  0.4461515370295522\n",
      "iteration:  0  cost:  0.5253352806808529\n",
      "iteration:  200  cost:  0.31895203696030977\n",
      "iteration:  400  cost:  0.2374433484055161\n",
      "iteration:  600  cost:  0.23287224426178943\n",
      "iteration:  800  cost:  0.21215995487055078\n",
      "iteration:  0  cost:  0.5422635103287656\n",
      "iteration:  200  cost:  0.4478682488492137\n",
      "iteration:  400  cost:  0.4403629645299395\n",
      "iteration:  600  cost:  0.4490285095210827\n",
      "iteration:  800  cost:  0.4320136845058134\n",
      "iteration:  0  cost:  0.4967639944737058\n",
      "iteration:  200  cost:  0.24383531257841282\n",
      "iteration:  400  cost:  0.19311744556499782\n",
      "iteration:  600  cost:  0.20047337133471058\n",
      "iteration:  800  cost:  0.21262741135841046\n",
      "iteration:  0  cost:  0.5032368652720673\n",
      "iteration:  200  cost:  0.45938999865266056\n",
      "iteration:  400  cost:  0.448567993812431\n",
      "iteration:  600  cost:  0.4447349873593589\n",
      "iteration:  800  cost:  0.42081407031113033\n",
      "iteration:  0  cost:  0.46253285657083915\n",
      "iteration:  200  cost:  0.24632324827891613\n",
      "iteration:  400  cost:  0.21747205216157708\n",
      "iteration:  600  cost:  0.1918051418737001\n",
      "iteration:  800  cost:  0.1885089480013068\n"
     ]
    }
   ],
   "source": [
    "Loss_histories_not_trained, weights_not_trained, Loss_histories_Model2_Fidelity, weights_Model2_Fidelity = [], [], [], []\n",
    "for i in range(5):\n",
    "    loss_not_trained, weight_not_trained = circuit_training(X_train, Y_train, False)\n",
    "    loss_Model2_Fidelity, weight_Model2_Fidelity = circuit_training(X_train, Y_train, 'PCA-NQE')\n",
    "\n",
    "    Loss_histories_not_trained.append(loss_not_trained)\n",
    "    Loss_histories_Model2_Fidelity.append(loss_Model2_Fidelity)\n",
    "\n",
    "    weights_not_trained.append(weight_not_trained)\n",
    "    weights_Model2_Fidelity.append(weight_Model2_Fidelity)\n",
    "\n",
    "    \n",
    "f = open('weights and losses.txt', 'a')\n",
    "for i in range(5):\n",
    "    f.write(f'Loss History without NQE {i + 1}:')\n",
    "    f.write('\\n')\n",
    "    f.write(str(Loss_histories_not_trained[i]))\n",
    "    f.write('\\n')\n",
    "for i in range(5):\n",
    "    f.write(f'Weights without NQE {i + 1}:')\n",
    "    f.write('\\n')\n",
    "    f.write(str(weights_not_trained[i]))\n",
    "\n",
    "\n",
    "\n",
    "for i in range(5):\n",
    "    f.write(f'Loss History with PCA-NQE {i + 1}:')\n",
    "    f.write('\\n')\n",
    "    f.write(str(Loss_histories_Model2_Fidelity[i]))\n",
    "    f.write('\\n')\n",
    "for i in range(5):\n",
    "    f.write(f'Weights with PCA-NQE {i + 1}:')\n",
    "    f.write('\\n')\n",
    "    f.write(str(weights_Model2_Fidelity[i]))\n",
    "f.close()"
   ]
  },
  {
   "cell_type": "code",
   "execution_count": 11,
   "metadata": {},
   "outputs": [],
   "source": [
    "feature_reduction = False\n",
    "classes=[0,1]\n",
    "X_train, X_test, Y_train, Y_test = data.data_load_and_process('fashion', feature_reduction=feature_reduction, classes=classes)\n",
    "X_train, X_test = torch.tensor(X_train).to(torch.float32), torch.tensor(X_test).to(torch.float32)\n",
    "X_train, X_test = X_train.permute(0, 3, 1, 2).detach().numpy(), X_test.permute(0, 3, 1, 2).detach().numpy()\n",
    "Y_train = [-1 if y == 0 else 1 for y in Y_train]\n",
    "Y_test = [-1 if y == 0 else 1 for y in Y_test]"
   ]
  },
  {
   "cell_type": "code",
   "execution_count": 12,
   "metadata": {},
   "outputs": [
    {
     "name": "stdout",
     "output_type": "stream",
     "text": [
      "iteration:  0  cost:  0.48387418847300445\n",
      "iteration:  200  cost:  0.30951393217421685\n",
      "iteration:  400  cost:  0.29621417895504676\n",
      "iteration:  600  cost:  0.25347995377541516\n",
      "iteration:  800  cost:  0.26186234000010594\n",
      "iteration:  0  cost:  0.504281965302603\n",
      "iteration:  200  cost:  0.35228974232842697\n",
      "iteration:  400  cost:  0.31438348035159536\n",
      "iteration:  600  cost:  0.2934066754338833\n",
      "iteration:  800  cost:  0.28926484126418855\n",
      "iteration:  0  cost:  0.44243317943873856\n",
      "iteration:  200  cost:  0.30466879599223434\n",
      "iteration:  400  cost:  0.29362643470068833\n",
      "iteration:  600  cost:  0.2461449603715041\n",
      "iteration:  800  cost:  0.2645034003158652\n",
      "iteration:  0  cost:  0.5615106602892478\n",
      "iteration:  200  cost:  0.3217841279486802\n",
      "iteration:  400  cost:  0.3024374988560144\n",
      "iteration:  600  cost:  0.2914946686296924\n",
      "iteration:  800  cost:  0.27261272865607233\n",
      "iteration:  0  cost:  0.5169235671255265\n",
      "iteration:  200  cost:  0.32888989944096686\n",
      "iteration:  400  cost:  0.2176178271091765\n",
      "iteration:  600  cost:  0.19278729796512445\n",
      "iteration:  800  cost:  0.18211991845981082\n"
     ]
    }
   ],
   "source": [
    "Loss_histories_Model3_Fidelity, weights_Model3_Fidelity = [], []\n",
    "for i in range(5):\n",
    "\n",
    "    loss_Model3_Fidelity, weight_Model3_Fidelity = circuit_training(X_train, Y_train, 'NQE')\n",
    "\n",
    "    Loss_histories_Model3_Fidelity.append(loss_Model3_Fidelity)\n",
    "    weights_Model3_Fidelity.append(weight_Model3_Fidelity)\n",
    "\n",
    "f = open('weights and losses.txt', 'a')\n",
    "for i in range(5):\n",
    "    f.write(f'Loss History with NQE {i + 1}:')\n",
    "    f.write('\\n')\n",
    "    f.write(str(Loss_histories_Model3_Fidelity[i]))\n",
    "    f.write('\\n')\n",
    "for i in range(5):\n",
    "    f.write(f'Weights with NQE{i + 1}:')\n",
    "    f.write('\\n')\n",
    "    f.write(str(weights_Model3_Fidelity[i]))\n",
    "f.close()"
   ]
  },
  {
   "attachments": {},
   "cell_type": "markdown",
   "metadata": {},
   "source": [
    "# Part 4: Result "
   ]
  },
  {
   "cell_type": "code",
   "execution_count": 2,
   "metadata": {},
   "outputs": [],
   "source": [
    "def data_read(PATH):\n",
    "  textfile = open(PATH, 'r')\n",
    "  data = np.array([])\n",
    "  for line in textfile:\n",
    "    a = np.array([float(v) for v in line.strip().split(\" \")])\n",
    "    data = np.append(data, a)\n",
    "  return data\n",
    "\n",
    "Loss_histories = data_read(\"Loss History.txt\").reshape(3, 5000)\n",
    "Loss_histories_not_trained = Loss_histories[0].reshape(5,1000)\n",
    "Loss_histories_Model2 = Loss_histories[1].reshape(5,1000)\n",
    "Loss_histories_Model3 = Loss_histories[2].reshape(5,1000)\n",
    "\n",
    "\n",
    "Weights = data_read(\"Weights.txt\").reshape(3, 5 * 45)\n",
    "weights_not_trained = Weights[0].reshape(5, 45)\n",
    "weights_Model2 = Weights[1].reshape(5, 45)\n",
    "weights_Model3 = Weights[2].reshape(5, 45)\n",
    "\n",
    "\n",
    "LH0_mean, LH0_std = Loss_histories_not_trained.mean(axis=0), Loss_histories_not_trained.std(axis=0)\n",
    "LH2_mean, LH2_std = Loss_histories_Model2.mean(axis=0), Loss_histories_Model2.std(axis=0)\n",
    "LH3_mean, LH3_std = Loss_histories_Model3.mean(axis=0), Loss_histories_Model3.std(axis=0)"
   ]
  },
  {
   "cell_type": "code",
   "execution_count": 14,
   "metadata": {},
   "outputs": [],
   "source": [
    "LB_without_NQE = 0.5 * (1 - 0.3339)\n",
    "LB_with_PCA_NQE = 0.5 * (1 - 0.8733367)\n",
    "LB_with_NQE = 0.5 * (1 - 0.8900282)"
   ]
  },
  {
   "cell_type": "code",
   "execution_count": 15,
   "metadata": {},
   "outputs": [
    {
     "data": {
      "text/plain": [
       "<matplotlib.legend.Legend at 0x7f74dd18e310>"
      ]
     },
     "execution_count": 15,
     "metadata": {},
     "output_type": "execute_result"
    },
    {
     "data": {
      "image/png": "[encoded data removed]",
      "text/plain": [
       "<Figure size 1000x500 with 1 Axes>"
      ]
     },
     "metadata": {},
     "output_type": "display_data"
    }
   ],
   "source": [
    "import seaborn as sns\n",
    "n = 10\n",
    "plt.rcParams['figure.figsize'] = [10, 5]\n",
    "plt.rcParams.update({'font.size': 13})\n",
    "fig, ax = plt.subplots()\n",
    "clrs = sns.color_palette(\"husl\", 3)\n",
    "with sns.axes_style(\"darkgrid\"):    \n",
    "    ax.plot(np.array(range(len(LH2_mean[::n]))) * n, LH2_mean[::n], label=\"PCA-NQE\", linestyle='dashed', c=clrs[0])\n",
    "    ax.fill_between(np.array(range(len(LH2_mean[::n]))) * n, LH2_mean[::n]-LH2_std[::n], LH2_mean[::n]+LH2_std[::n], alpha=0.3,facecolor=clrs[0])\n",
    "\n",
    "    ax.plot(np.array(range(len(LH3_mean[::n]))) * n, LH3_mean[::n], label=\"NQE\", linestyle='dashdot', c=clrs[1])\n",
    "    ax.fill_between(np.array(range(len(LH3_mean[::n]))) * n, LH3_mean[::n]-LH3_std[::n], LH3_mean[::n]+LH3_std[::n], alpha=0.3,facecolor=clrs[1])\n",
    "\n",
    "    ax.plot(np.array(range(len(LH0_mean[::n]))) * n, LH0_mean[::n], label=\"Without NQE\", linestyle='solid', c=clrs[2])\n",
    "    ax.fill_between(np.array(range(len(LH0_mean[::n]))) * n, LH0_mean[::n]-LH0_std[::n], LH0_mean[::n]+LH0_std[::n], alpha=0.3,facecolor=clrs[2])\n",
    "\n",
    "\n",
    "   \n",
    "    ax.plot(range(1000), np.ones(1000) * LB_with_PCA_NQE, linestyle='dashed', linewidth=3.0, label=\"Lower Bound PCA-NQE\", c=clrs[0])\n",
    "    ax.plot(range(1000), np.ones(1000) * LB_with_NQE, linestyle='dashdot', linewidth=3.0, label=\"Lower Bound NQE\", c=clrs[1])\n",
    "    ax.plot(range(1000), np.ones(1000) * LB_without_NQE, linestyle='solid', linewidth=3.0, label=\"Lower Bound without NQE\", c=clrs[2])\n",
    "\n",
    "\n",
    "ax.set_xlabel(\"Iteration\")\n",
    "ax.set_ylabel(\"Loss\")\n",
    "ax.set_title(\"Noiseless QCNN Loss History\")\n",
    "ax.legend(fontsize=13, ncol=2)"
   ]
  },
  {
   "attachments": {},
   "cell_type": "markdown",
   "metadata": {},
   "source": [
    "Calculate the classification accuracies for Model1,2"
   ]
  },
  {
   "cell_type": "code",
   "execution_count": 16,
   "metadata": {},
   "outputs": [],
   "source": [
    "feature_reduction = 'PCA8'\n",
    "X_train, X_test, Y_train, Y_test = data.data_load_and_process('fashion', feature_reduction=feature_reduction, classes=classes)\n",
    "\n",
    "X_train, X_test = torch.tensor(X_train).to(torch.float32), torch.tensor(X_test).to(torch.float32)\n",
    "Y_train = [-1 if y == 0 else 1 for y in Y_train]\n",
    "Y_test = [-1 if y == 0 else 1 for y in Y_test]"
   ]
  },
  {
   "cell_type": "code",
   "execution_count": 18,
   "metadata": {},
   "outputs": [
    {
     "name": "stderr",
     "output_type": "stream",
     "text": [
      "/home/tak/anaconda3/envs/QC/lib/python3.11/site-packages/pennylane/math/utils.py:223: UserWarning: Contains tensors of types {'autograd', 'torch'}; dispatch will prioritize TensorFlow, PyTorch, and  Jax over Autograd. Consider replacing Autograd with vanilla NumPy.\n",
      "  warnings.warn(\n",
      "/tmp/ipykernel_149522/951711739.py:6: UserWarning: To copy construct from a tensor, it is recommended to use sourceTensor.clone().detach() or sourceTensor.clone().detach().requires_grad_(True), rather than torch.tensor(sourceTensor).\n",
      "  x = model2(torch.tensor(x))\n"
     ]
    }
   ],
   "source": [
    "def accuracy_test(predictions, labels):\n",
    "    acc = 0\n",
    "    for l, p in zip(labels, predictions):\n",
    "        if np.abs(l - p) < 1:\n",
    "            acc = acc + 1\n",
    "    return acc / len(labels)\n",
    "\n",
    "\n",
    "accuracies_not_trained, accuracies_Model2_Fidelity = [], []\n",
    "\n",
    "for i in range(5):\n",
    "    prediction_not_trained = [QCNN_classifier(weights_not_trained[i], x, Trained=False) for x in X_test]\n",
    "    prediction_Model2_Fidelity = [QCNN_classifier(weights_Model2[i], x, Trained='PCA-NQE') for x in X_test]\n",
    "    \n",
    "    accuracy_not_trained = accuracy_test(prediction_not_trained, Y_test)\n",
    "    accuracy_Model2_Fidelity = accuracy_test(prediction_Model2_Fidelity, Y_test)\n",
    "\n",
    "    accuracies_not_trained.append(accuracy_not_trained)\n",
    "    accuracies_Model2_Fidelity.append(accuracy_Model2_Fidelity)\n",
    "\n",
    "accuracies_not_trained = np.array(accuracies_not_trained)\n",
    "accuracies_Model2_Fidelity = np.array(accuracies_Model2_Fidelity)"
   ]
  },
  {
   "cell_type": "code",
   "execution_count": 19,
   "metadata": {},
   "outputs": [],
   "source": [
    "feature_reduction = False\n",
    "X_train, X_test, Y_train, Y_test = data.data_load_and_process('fashion', feature_reduction=feature_reduction, classes=classes)\n",
    "\n",
    "X_train, X_test = torch.tensor(X_train).to(torch.float32), torch.tensor(X_test).to(torch.float32)\n",
    "X_train, X_test = X_train.permute(0, 3, 1, 2), X_test.permute(0, 3, 1, 2)\n",
    "Y_train = [-1 if y == 0 else 1 for y in Y_train]\n",
    "Y_test = [-1 if y == 0 else 1 for y in Y_test]"
   ]
  },
  {
   "cell_type": "code",
   "execution_count": 20,
   "metadata": {},
   "outputs": [
    {
     "name": "stderr",
     "output_type": "stream",
     "text": [
      "/tmp/ipykernel_149522/951711739.py:10: UserWarning: To copy construct from a tensor, it is recommended to use sourceTensor.clone().detach() or sourceTensor.clone().detach().requires_grad_(True), rather than torch.tensor(sourceTensor).\n",
      "  x = model3(torch.tensor(x))\n"
     ]
    }
   ],
   "source": [
    "accuracies_Model3_Fidelity = []\n",
    "\n",
    "for i in range(5):\n",
    "    prediction_Model3_Fidelity = [QCNN_classifier(weights_Model3[i], x, Trained='NQE') for x in X_test]\n",
    "    accuracy_Model3_Fidelity = accuracy_test(prediction_Model3_Fidelity, Y_test)\n",
    "    accuracies_Model3_Fidelity.append(accuracy_Model3_Fidelity)\n",
    "\n",
    "accuracies_Model3_Fidelity =np.array(accuracies_Model3_Fidelity)"
   ]
  },
  {
   "cell_type": "code",
   "execution_count": 22,
   "metadata": {},
   "outputs": [
    {
     "name": "stdout",
     "output_type": "stream",
     "text": [
      "QCNN classification accuracies:\n",
      "\n",
      "-------------------------------------\n",
      "\n",
      " Accuracy without NQE: 0.6762 ± 0.0498182697411301\n",
      " Accuracy with PCA-NQE: 0.9461999999999999 ± 0.0017776388834631269\n",
      " Accuracy with NQE: 0.9456 ± 0.004641120554348943\n"
     ]
    }
   ],
   "source": [
    "\n",
    "print(\"QCNN classification accuracies:\\n\")\n",
    "print(\"-------------------------------------\\n\")\n",
    "print(f\" Accuracy without NQE: {accuracies_not_trained.mean()} ± {accuracies_not_trained.std()}\")\n",
    "print(f\" Accuracy with PCA-NQE: {accuracies_Model2_Fidelity.mean()} ± {accuracies_Model2_Fidelity.std()}\")\n",
    "print(f\" Accuracy with NQE: {accuracies_Model3_Fidelity.mean()} ± {accuracies_Model3_Fidelity.std()}\")\n"
   ]
  },
  {
   "cell_type": "code",
   "execution_count": 3,
   "metadata": {},
   "outputs": [],
   "source": [
    "@qml.qnode(dev, interface=\"torch\")\n",
    "def Circuit_Distance1(inputs): \n",
    "    embedding.QuantumEmbedding1(inputs)\n",
    "    return qml.density_matrix(wires=range(8))\n",
    "\n",
    "@qml.qnode(dev, interface=\"torch\")\n",
    "def Circuit_Distance2(inputs): \n",
    "    embedding.QuantumEmbedding2(inputs)\n",
    "    return qml.density_matrix(wires=range(8))\n",
    "\n",
    "\n",
    "class Distances1(torch.nn.Module):\n",
    "    def __init__(self):\n",
    "        super().__init__()\n",
    "        self.qlayer1 = qml.qnn.TorchLayer(Circuit_Distance1, weight_shapes={})\n",
    "   \n",
    "    def forward(self, x1, x0):\n",
    "        rhos1 = self.qlayer1(x1)\n",
    "        rhos0 = self.qlayer1(x0)\n",
    "\n",
    "        rho1 = torch.sum(rhos1, dim=0) / len(x1)\n",
    "        rho0 = torch.sum(rhos0, dim=0) / len(x0)\n",
    "        rho_diff = rho1 - rho0\n",
    "        eigvals = torch.linalg.eigvals(rho_diff)\n",
    "        return 0.5 * torch.real(torch.sum(torch.abs(eigvals)))\n",
    "    \n",
    "class Distances2(torch.nn.Module):\n",
    "    def __init__(self):\n",
    "        super().__init__()\n",
    "        self.qlayer2 = qml.qnn.TorchLayer(Circuit_Distance2, weight_shapes={})\n",
    "        self.linear_relu_stack2 = nn.Sequential(\n",
    "            nn.Linear(8, 24),\n",
    "            nn.ReLU(),\n",
    "            nn.Linear(24, 24),\n",
    "            nn.ReLU(),\n",
    "            nn.Linear(24, 16)\n",
    "        )\n",
    "    def forward(self, x1, x0):\n",
    "        x1 = self.linear_relu_stack2(x1)\n",
    "        x0 = self.linear_relu_stack2(x0)\n",
    "        rhos1 = self.qlayer2(x1)\n",
    "        rhos0 = self.qlayer2(x0)\n",
    "\n",
    "        rho1 = torch.sum(rhos1, dim=0) / len(x1)\n",
    "        rho0 = torch.sum(rhos0, dim=0) / len(x0)\n",
    "        rho_diff = rho1 - rho0\n",
    "        eigvals = torch.linalg.eigvals(rho_diff)\n",
    "        return 0.5 * torch.real(torch.sum(torch.abs(eigvals)))\n",
    "\n",
    "\n",
    "class Distances3(torch.nn.Module):\n",
    "    def __init__(self):\n",
    "        super().__init__()\n",
    "        self.qlayer3 = qml.qnn.TorchLayer(Circuit_Distance2, weight_shapes={})\n",
    "        self.layer1 = torch.nn.Sequential(\n",
    "            torch.nn.Conv2d(1, 1, kernel_size=3, stride=1, padding=1),\n",
    "            torch.nn.ReLU(),\n",
    "            torch.nn.MaxPool2d(kernel_size=2, stride=2)\n",
    "        )\n",
    "\n",
    "        # Layer2: 14 * 14 -> 7 * 7\n",
    "        self.layer2 = torch.nn.Sequential(\n",
    "            torch.nn.Conv2d(1, 1, kernel_size=3, stride=1, padding=1),\n",
    "            torch.nn.ReLU(),\n",
    "            torch.nn.MaxPool2d(kernel_size=2, stride=2)\n",
    "        )\n",
    "\n",
    "        # Fully connected Layers 7 * 7 -> 7\n",
    "        self.fc = torch.nn.Linear(7 * 7, 16, bias=True)\n",
    "    \n",
    "    def forward(self, x1, x0):\n",
    "        x1 = self.layer1(x1)\n",
    "        x1 = self.layer2(x1)\n",
    "        x1 = x1.view(-1, 7 * 7)\n",
    "        x1 = self.fc(x1)\n",
    "\n",
    "        x0 = self.layer1(x0)\n",
    "        x0 = self.layer2(x0)\n",
    "        x0 = x0.view(-1, 7 * 7)\n",
    "        x0 = self.fc(x0)\n",
    "\n",
    "        rhos1 = self.qlayer3(x1)\n",
    "        rhos0 = self.qlayer3(x0)\n",
    "        \n",
    "        rho1 = torch.sum(rhos1, dim=0) / len(x1)\n",
    "        rho0 = torch.sum(rhos0, dim=0) / len(x0)\n",
    "        rho_diff = rho1 - rho0\n",
    "        eigvals = torch.linalg.eigvals(rho_diff)\n",
    "        return 0.5 * torch.real(torch.sum(torch.abs(eigvals)))\n",
    "\n",
    "\n",
    "def D(PATH, Model, X1, X0):\n",
    "    if Model == 'Model2':\n",
    "        Distance = Distances2()\n",
    "    elif Model == 'Model3':\n",
    "        Distance = Distances3()\n",
    "    \n",
    "    Distance.load_state_dict(torch.load(PATH))\n",
    "    return Distance(X1, X0)"
   ]
  },
  {
   "cell_type": "code",
   "execution_count": 4,
   "metadata": {},
   "outputs": [
    {
     "name": "stderr",
     "output_type": "stream",
     "text": [
      "/tmp/ipykernel_267463/3046242410.py:11: UserWarning: Creating a tensor from a list of numpy.ndarrays is extremely slow. Please consider converting the list to a single numpy.ndarray with numpy.array() before converting to a tensor. (Triggered internally at ../torch/csrc/utils/tensor_new.cpp:245.)\n",
      "  X1_test, X0_test = torch.tensor(X1_test).to(torch.float32), torch.tensor(X0_test).to(torch.float32)\n"
     ]
    }
   ],
   "source": [
    "feature_reduction = 'PCA8'\n",
    "classes = [0,1]\n",
    "X_train, X_test, Y_train, Y_test = data.data_load_and_process('fashion', feature_reduction=feature_reduction, classes=classes)\n",
    "\n",
    "X1_test, X0_test = [], []\n",
    "for i in range(len(X_test)):\n",
    "    if Y_test[i] == 1:\n",
    "        X1_test.append(X_test[i])\n",
    "    else:\n",
    "        X0_test.append(X_test[i])\n",
    "X1_test, X0_test = torch.tensor(X1_test).to(torch.float32), torch.tensor(X0_test).to(torch.float32)\n",
    "\n",
    "X1_train, X0_train = [], []\n",
    "for i in range(len(X_train)):\n",
    "    if Y_train[i] == 1:\n",
    "        X1_train.append(X_train[i])\n",
    "    else:\n",
    "        X0_train.append(X_train[i])\n",
    "X1_train, X0_train = torch.tensor(X1_train).to(torch.float32), torch.tensor(X0_train).to(torch.float32)"
   ]
  },
  {
   "cell_type": "code",
   "execution_count": 7,
   "metadata": {},
   "outputs": [
    {
     "name": "stderr",
     "output_type": "stream",
     "text": [
      "/home/tak/anaconda3/envs/QC/lib/python3.11/site-packages/pennylane/qnn/torch.py:331: UserWarning: Casting complex values to real discards the imaginary part (Triggered internally at ../aten/src/ATen/native/Copy.cpp:276.)\n",
      "  return res.type(x.dtype)\n"
     ]
    },
    {
     "name": "stdout",
     "output_type": "stream",
     "text": [
      "Test: 0.7950066328048706, Train:0.8065223693847656\n"
     ]
    }
   ],
   "source": [
    "Distance2 = Distances2()\n",
    "Distance3 = Distances3()\n",
    "Distance2.load_state_dict(torch.load('PCA-NQE500.pt'))\n",
    "Distance3.load_state_dict(torch.load('NQE500.pt'))\n",
    "\n",
    "print(f\"Test: {Distance2(X1_test, X0_test)}, Train:{Distance2(X1_train, X0_train)}\")"
   ]
  },
  {
   "cell_type": "code",
   "execution_count": 8,
   "metadata": {},
   "outputs": [],
   "source": [
    "feature_reduction = False\n",
    "classes = [0,1]\n",
    "X_train, X_test, Y_train, Y_test = data.data_load_and_process('fashion', feature_reduction=feature_reduction, classes=classes)\n",
    "\n",
    "X1_test, X0_test = [], []\n",
    "for i in range(len(X_test)):\n",
    "    if Y_test[i] == 1:\n",
    "        X1_test.append(X_test[i])\n",
    "    else:\n",
    "        X0_test.append(X_test[i])\n",
    "X1_test, X0_test = torch.tensor(X1_test).to(torch.float32), torch.tensor(X0_test).to(torch.float32)\n",
    "X1_test, X0_test = X1_test.permute(0, 3, 1, 2), X0_test.permute(0, 3, 1, 2)\n",
    "\n",
    "X1_train, X0_train = [], []\n",
    "for i in range(len(X_train)):\n",
    "    if Y_train[i] == 1:\n",
    "        X1_train.append(X_train[i])\n",
    "    else:\n",
    "        X0_train.append(X_train[i])\n",
    "X1_train, X0_train = torch.tensor(X1_train).to(torch.float32), torch.tensor(X0_train).to(torch.float32)\n",
    "X1_train, X0_train = X1_train.permute(0, 3, 1, 2), X0_train.permute(0, 3, 1, 2)"
   ]
  },
  {
   "cell_type": "code",
   "execution_count": 9,
   "metadata": {},
   "outputs": [
    {
     "name": "stdout",
     "output_type": "stream",
     "text": [
      "Test: 0.8115747570991516, Train:0.8178549408912659\n"
     ]
    }
   ],
   "source": [
    "print(f\"Test: {Distance3(X1_test, X0_test)}, Train:{Distance3(X1_train, X0_train)}\")"
   ]
  },
  {
   "cell_type": "code",
   "execution_count": null,
   "metadata": {},
   "outputs": [],
   "source": []
  }
 ],
 "metadata": {
  "kernelspec": {
   "display_name": "QC",
   "language": "python",
   "name": "python3"
  },
  "language_info": {
   "codemirror_mode": {
    "name": "ipython",
    "version": 3
   },
   "file_extension": ".py",
   "mimetype": "text/x-python",
   "name": "python",
   "nbconvert_exporter": "python",
   "pygments_lexer": "ipython3",
   "version": "3.11.5"
  },
  "vscode": {
   "interpreter": {
    "hash": "c5108ee98eb47f7e6b2eeb3f4fcfe8c3b821806f46f3b96ac0193b078633d3d2"
   }
  }
 },
 "nbformat": 4,
 "nbformat_minor": 2
}
