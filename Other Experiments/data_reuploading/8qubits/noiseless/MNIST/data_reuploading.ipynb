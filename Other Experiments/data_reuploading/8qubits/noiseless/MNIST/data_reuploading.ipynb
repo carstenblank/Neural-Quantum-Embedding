{
 "cells": [
  {
   "attachments": {},
   "cell_type": "markdown",
   "metadata": {},
   "source": [
    "# Noisy QCNN mnist MNIST"
   ]
  },
  {
   "cell_type": "code",
   "execution_count": 1,
   "metadata": {},
   "outputs": [
    {
     "ename": "ModuleNotFoundError",
     "evalue": "No module named 'embedding'",
     "output_type": "error",
     "traceback": [
      "\u001b[0;31m---------------------------------------------------------------------------\u001b[0m",
      "\u001b[0;31mModuleNotFoundError\u001b[0m                       Traceback (most recent call last)",
      "Cell \u001b[0;32mIn[1], line 8\u001b[0m\n\u001b[1;32m      6\u001b[0m \u001b[38;5;28;01mfrom\u001b[39;00m \u001b[38;5;21;01mtorch\u001b[39;00m \u001b[38;5;28;01mimport\u001b[39;00m nn\n\u001b[1;32m      7\u001b[0m \u001b[38;5;28;01mimport\u001b[39;00m \u001b[38;5;21;01mpennylane\u001b[39;00m \u001b[38;5;28;01mas\u001b[39;00m \u001b[38;5;21;01mqml\u001b[39;00m\n\u001b[0;32m----> 8\u001b[0m \u001b[38;5;28;01mimport\u001b[39;00m \u001b[38;5;21;01membedding\u001b[39;00m\n\u001b[1;32m      9\u001b[0m \u001b[38;5;28;01mimport\u001b[39;00m \u001b[38;5;21;01mdata\u001b[39;00m\n\u001b[1;32m     11\u001b[0m dev \u001b[38;5;241m=\u001b[39m qml\u001b[38;5;241m.\u001b[39mdevice(\u001b[38;5;124m'\u001b[39m\u001b[38;5;124mdefault.qubit\u001b[39m\u001b[38;5;124m'\u001b[39m, wires\u001b[38;5;241m=\u001b[39m\u001b[38;5;241m8\u001b[39m)\n",
      "\u001b[0;31mModuleNotFoundError\u001b[0m: No module named 'embedding'"
     ]
    }
   ],
   "source": [
    "from pennylane import numpy as np\n",
    "import matplotlib.pyplot as plt\n",
    "import sys\n",
    "sys.path.insert(0, '/Users/qdna/Downloads/QEmbedding-main/QEmbedding-main/')\n",
    "import torch\n",
    "from torch import nn\n",
    "import pennylane as qml\n",
    "import embedding\n",
    "import data\n",
    "\n",
    "dev = qml.device('default.qubit', wires=8)"
   ]
  },
  {
   "attachments": {},
   "cell_type": "markdown",
   "metadata": {},
   "source": [
    "# NQE Optimization"
   ]
  },
  {
   "cell_type": "code",
   "execution_count": 11,
   "metadata": {},
   "outputs": [],
   "source": [
    "feature_reduction = 'PCA8'\n",
    "classes = [0,1]\n",
    "X_train, X_test, Y_train, Y_test = data.data_load_and_process('mnist', feature_reduction, classes)\n",
    "\n",
    "steps = 1000\n",
    "learning_rate = 0.01\n",
    "batch_size = 128\n",
    "ansatz = 'SU4'\n"
   ]
  },
  {
   "cell_type": "code",
   "execution_count": 8,
   "metadata": {},
   "outputs": [],
   "source": [
    "def data_reuploading_ansatz(params):\n",
    "    for i in range(8):\n",
    "        qml.RY(params[i], wires=i)\n",
    "    for i in range(7):\n",
    "        qml.IsingYY(params[i+8], wires=[i,i+1])\n",
    "    qml.IsingYY(params[15], wires=[7,0])\n",
    "\n",
    "def data_reuploading_embedding(num_layers,params,x):\n",
    "    for l in range(num_layers):\n",
    "        data_reuploading_ansatz(params[16 * l : 16 * (l + 1)])\n",
    "        embedding.QuantumEmbedding1(x)\n",
    "\n",
    "@qml.qnode(dev)\n",
    "def data_reuploading_QCNN_classifier(num_layers, params, x):\n",
    "    data_reuploading_embedding(num_layers, params, x)\n",
    "    embedding.QCNN_eight(params[16 * num_layers: 16 * num_layers + 45], ansatz)\n",
    "    return qml.expval(qml.PauliZ(4))\n",
    "\n",
    "def Linear_Loss(labels, predictions):\n",
    "    loss = 0\n",
    "    for l,p in zip(labels, predictions):\n",
    "        loss += 0.5 * (1 - l * p)\n",
    "    return loss / len(labels)\n",
    "\n",
    "def cost(weights, X_batch, Y_batch, num_layers):\n",
    "    preds = [data_reuploading_QCNN_classifier(num_layers, weights, x) for x in X_batch]\n",
    "    return Linear_Loss(Y_batch, preds)\n",
    "\n",
    "def circuit_training(X_train, Y_train, num_layers):\n",
    "    num_weights = (num_layers * 16) + 45\n",
    "    weights = np.random.random(num_weights, requires_grad=True)\n",
    "    opt = qml.NesterovMomentumOptimizer(stepsize=learning_rate)\n",
    "    loss_history = []\n",
    "    for it in range(steps):\n",
    "        batch_index = np.random.randint(0, len(X_train), (batch_size,))\n",
    "        X_batch = [X_train[i] for i in batch_index]\n",
    "        Y_batch = [Y_train[i] for i in batch_index]\n",
    "        weights, cost_new = opt.step_and_cost(lambda v: cost(v, X_batch, Y_batch, num_layers), weights)\n",
    "\n",
    "        loss_history.append(cost_new)\n",
    "        if it % 200 == 0:\n",
    "            print(f\"iteration: {it}, cost: {cost_new}\")\n",
    "        \n",
    "    return loss_history, weights"
   ]
  },
  {
   "cell_type": "code",
   "execution_count": 4,
   "metadata": {},
   "outputs": [
    {
     "name": "stderr",
     "output_type": "stream",
     "text": [
      "c:\\Users\\qdna\\anaconda3\\envs\\QC\\Lib\\site-packages\\autograd\\numpy\\numpy_vjps.py:698: ComplexWarning: Casting complex values to real discards the imaginary part\n",
      "  onp.add.at(A, idx, x)\n"
     ]
    },
    {
     "name": "stdout",
     "output_type": "stream",
     "text": [
      "iteration: 0, cost: 0.48943868167422777\n",
      "iteration: 200, cost: 0.4510122923257869\n",
      "iteration: 400, cost: 0.4167593942610002\n",
      "iteration: 600, cost: 0.4345640646540798\n",
      "iteration: 800, cost: 0.4213646152974793\n",
      "iteration: 0, cost: 0.5097732922841438\n",
      "iteration: 200, cost: 0.47518679961176646\n",
      "iteration: 400, cost: 0.43160410087338513\n",
      "iteration: 600, cost: 0.4108021093144709\n",
      "iteration: 800, cost: 0.40272474424864574\n",
      "iteration: 0, cost: 0.49578130438413115\n",
      "iteration: 200, cost: 0.48816174900244774\n",
      "iteration: 400, cost: 0.47552226140810405\n",
      "iteration: 600, cost: 0.4705531042839662\n",
      "iteration: 800, cost: 0.4492795355934584\n",
      "iteration: 0, cost: 0.5141765421916478\n",
      "iteration: 200, cost: 0.4859270454549235\n",
      "iteration: 400, cost: 0.4742705906855844\n",
      "iteration: 600, cost: 0.47273709446919254\n",
      "iteration: 800, cost: 0.46576567597498425\n",
      "iteration: 0, cost: 0.4991071612676784\n",
      "iteration: 200, cost: 0.48851527349222473\n",
      "iteration: 400, cost: 0.4785229306144603\n",
      "iteration: 600, cost: 0.47131573874054916\n",
      "iteration: 800, cost: 0.4657447869847247\n",
      "iteration: 0, cost: 0.4983861128877891\n",
      "iteration: 200, cost: 0.4518768451733352\n",
      "iteration: 400, cost: 0.43922197478321284\n",
      "iteration: 600, cost: 0.4205333743702969\n",
      "iteration: 800, cost: 0.40446299797134166\n",
      "iteration: 0, cost: 0.511723083180761\n",
      "iteration: 200, cost: 0.48001119849614443\n",
      "iteration: 400, cost: 0.4510444761283315\n",
      "iteration: 600, cost: 0.3210437032370322\n",
      "iteration: 800, cost: 0.3000866069314696\n",
      "iteration: 0, cost: 0.5054343443186133\n",
      "iteration: 200, cost: 0.46751574481199143\n",
      "iteration: 400, cost: 0.40071863763018956\n",
      "iteration: 600, cost: 0.41872691224006725\n",
      "iteration: 800, cost: 0.40070043733506316\n",
      "iteration: 0, cost: 0.4938931158702005\n",
      "iteration: 200, cost: 0.48767657197968234\n",
      "iteration: 400, cost: 0.4887395563161682\n",
      "iteration: 600, cost: 0.4735925999341003\n",
      "iteration: 800, cost: 0.4581501068560078\n",
      "iteration: 0, cost: 0.5015775303867301\n",
      "iteration: 200, cost: 0.4820431697626046\n",
      "iteration: 400, cost: 0.4515057160320683\n",
      "iteration: 600, cost: 0.4247259318986466\n",
      "iteration: 800, cost: 0.40400418282850753\n",
      "iteration: 0, cost: 0.4975294999574351\n",
      "iteration: 200, cost: 0.48171704231273155\n",
      "iteration: 400, cost: 0.4617819604307165\n",
      "iteration: 600, cost: 0.35375160201086714\n",
      "iteration: 800, cost: 0.31914513256174487\n",
      "iteration: 0, cost: 0.49607820133530095\n",
      "iteration: 200, cost: 0.4813227760191065\n",
      "iteration: 400, cost: 0.47818043585506353\n",
      "iteration: 600, cost: 0.45666071020805077\n",
      "iteration: 800, cost: 0.43681686213699916\n",
      "iteration: 0, cost: 0.4977148053263518\n",
      "iteration: 200, cost: 0.4765340611858471\n",
      "iteration: 400, cost: 0.468303501953953\n",
      "iteration: 600, cost: 0.4421108851451082\n",
      "iteration: 800, cost: 0.4262161050231206\n",
      "iteration: 0, cost: 0.49843408020187685\n",
      "iteration: 200, cost: 0.4482419619498522\n",
      "iteration: 400, cost: 0.4347691538433928\n",
      "iteration: 600, cost: 0.4150865321701089\n",
      "iteration: 800, cost: 0.41823537647575665\n",
      "iteration: 0, cost: 0.5045675300542907\n",
      "iteration: 200, cost: 0.4927301987898182\n",
      "iteration: 400, cost: 0.49238478482427867\n",
      "iteration: 600, cost: 0.4801211440065728\n",
      "iteration: 800, cost: 0.45574387763609053\n"
     ]
    }
   ],
   "source": [
    "Losses_L1, Losses_L2, Losses_L3, Weights_L1, Weights_L2, Weights_L3 = [], [], [], [], [], []\n",
    "for i in range(5):\n",
    "    loss_L1, weight_L1 = circuit_training(X_train, Y_train, 1)\n",
    "    loss_L2, weight_L2 = circuit_training(X_train, Y_train, 2)\n",
    "    loss_L3, weight_L3 = circuit_training(X_train, Y_train, 3)\n",
    "\n",
    "\n",
    "    Losses_L1.append(loss_L1)\n",
    "    Losses_L2.append(loss_L2)\n",
    "    Losses_L3.append(loss_L3)\n",
    "\n",
    "    Weights_L1.append(weight_L1)\n",
    "    Weights_L2.append(weight_L2)\n",
    "    Weights_L3.append(weight_L3)\n",
    "    \n",
    "\n",
    "    \n",
    "f = open('weights and losses.txt', 'a')\n",
    "for i in range(5):\n",
    "    f.write(f'Loss History L1 {i + 1}:')\n",
    "    f.write('\\n')\n",
    "    f.write(str(Losses_L1[i]))\n",
    "    f.write('\\n')\n",
    "for i in range(5):\n",
    "    f.write(f'Weights L1{i + 1}:')\n",
    "    f.write('\\n')\n",
    "    f.write(str(Weights_L1[i]))\n",
    "\n",
    "for i in range(5):\n",
    "    f.write(f'Loss History L2 {i + 1}:')\n",
    "    f.write('\\n')\n",
    "    f.write(str(Losses_L2[i]))\n",
    "    f.write('\\n')\n",
    "for i in range(5):\n",
    "    f.write(f'Weights L2{i + 1}:')\n",
    "    f.write('\\n')\n",
    "    f.write(str(Weights_L2[i]))\n",
    "\n",
    "for i in range(5):\n",
    "    f.write(f'Loss History L3 {i + 1}:')\n",
    "    f.write('\\n')\n",
    "    f.write(str(Losses_L3[i]))\n",
    "    f.write('\\n')\n",
    "for i in range(5):\n",
    "    f.write(f'Weights L3{i + 1}:')\n",
    "    f.write('\\n')\n",
    "    f.write(str(Weights_L3[i]))\n",
    "\n",
    "f.close()"
   ]
  },
  {
   "attachments": {},
   "cell_type": "markdown",
   "metadata": {},
   "source": [
    "# Part 4: Result "
   ]
  },
  {
   "attachments": {},
   "cell_type": "markdown",
   "metadata": {},
   "source": [
    "Load the results"
   ]
  },
  {
   "cell_type": "code",
   "execution_count": 13,
   "metadata": {},
   "outputs": [],
   "source": [
    "def data_read(PATH):\n",
    "  textfile = open(PATH, 'r')\n",
    "  data = np.array([])\n",
    "  for line in textfile:\n",
    "    a = np.array([float(v) for v in line.strip().split(\" \")])\n",
    "    data = np.append(data, a)\n",
    "  return data\n",
    "\n",
    "Loss_histories = data_read(\"Loss.txt\").reshape(3, 5000)\n",
    "Loss_histories_not_trained = Loss_histories[0].reshape(5,1000)\n",
    "Loss_histories_Model2 = Loss_histories[1].reshape(5,1000)\n",
    "Loss_histories_Model3 = Loss_histories[2].reshape(5,1000)\n",
    "\n",
    "\n",
    "Weights = data_read(\"Weights.txt\")\n",
    "Weights_not_trained = Weights[0 : 5 * 61].reshape(5, 61)\n",
    "Weights_Model2 = Weights[5 * 61 : 5 * 61 + 5 * 77].reshape(5, 77)\n",
    "Weights_Model3 = Weights[5 * 61 + 5 * 77 : 5 * 61 + 5 * 77 + 5 * 93].reshape(5, 93)\n",
    "\n",
    "LH0_mean, LH0_std = Loss_histories_not_trained.mean(axis=0), Loss_histories_not_trained.std(axis=0)\n",
    "LH2_mean, LH2_std = Loss_histories_Model2.mean(axis=0), Loss_histories_Model2.std(axis=0)\n",
    "LH3_mean, LH3_std = Loss_histories_Model3.mean(axis=0), Loss_histories_Model3.std(axis=0)"
   ]
  },
  {
   "cell_type": "code",
   "execution_count": 3,
   "metadata": {},
   "outputs": [
    {
     "data": {
      "image/png": "[encoded data removed]",
      "text/plain": [
       "<Figure size 1000x500 with 1 Axes>"
      ]
     },
     "metadata": {},
     "output_type": "display_data"
    }
   ],
   "source": [
    "import seaborn as sns\n",
    "n = 10\n",
    "plt.rcParams['figure.figsize'] = [10, 5]\n",
    "plt.rcParams.update({'font.size': 13})\n",
    "fig, ax = plt.subplots()\n",
    "clrs = sns.color_palette(\"husl\", 3)\n",
    "with sns.axes_style(\"darkgrid\"):    \n",
    "    ax.plot(np.array(range(len(LH2_mean[::n]))) * n, LH2_mean[::n], label=\"L1\", linestyle='dashed', c=clrs[0])\n",
    "    ax.fill_between(np.array(range(len(LH2_mean[::n]))) * n, LH2_mean[::n]-LH2_std[::n], LH2_mean[::n]+LH2_std[::n], alpha=0.3,facecolor=clrs[0])\n",
    "\n",
    "    ax.plot(np.array(range(len(LH3_mean[::n]))) * n, LH3_mean[::n], label=\"L2\", linestyle='dashdot', c=clrs[1])\n",
    "    ax.fill_between(np.array(range(len(LH3_mean[::n]))) * n, LH3_mean[::n]-LH3_std[::n], LH3_mean[::n]+LH3_std[::n], alpha=0.3,facecolor=clrs[1])\n",
    "\n",
    "    ax.plot(np.array(range(len(LH0_mean[::n]))) * n, LH0_mean[::n], label=\"L3\", linestyle='solid', c=clrs[2])\n",
    "    ax.fill_between(np.array(range(len(LH0_mean[::n]))) * n, LH0_mean[::n]-LH0_std[::n], LH0_mean[::n]+LH0_std[::n], alpha=0.3,facecolor=clrs[2])\n",
    "\n",
    "\n",
    "\n",
    "\n",
    "ax.set_xlabel(\"Iteration\")\n",
    "ax.set_ylabel(\"Loss\")\n",
    "#ax.set_title(\"mnist MNIST Noisy QCNN Loss History\")\n",
    "ax.legend(fontsize=13, ncol=2, loc=4)\n",
    "ax.set_ylim((0.0,0.6))\n",
    "plt.savefig(\"Loss History.pdf\")"
   ]
  },
  {
   "attachments": {},
   "cell_type": "markdown",
   "metadata": {},
   "source": [
    "Calculate the classification accuracies for Model1,2"
   ]
  },
  {
   "cell_type": "code",
   "execution_count": 6,
   "metadata": {},
   "outputs": [
    {
     "name": "stderr",
     "output_type": "stream",
     "text": [
      "C:\\Users\\qdna\\AppData\\Local\\Temp\\ipykernel_21156\\3504994494.py:5: UserWarning: Creating a tensor from a list of numpy.ndarrays is extremely slow. Please consider converting the list to a single numpy.ndarray with numpy.array() before converting to a tensor. (Triggered internally at ..\\torch\\csrc\\utils\\tensor_new.cpp:278.)\n",
      "  X_train, X_test = torch.tensor(X_train).to(torch.float32), torch.tensor(X_test).to(torch.float32)\n"
     ]
    }
   ],
   "source": [
    "feature_reduction = 'PCA8'\n",
    "classes=[0,1]\n",
    "X_train, X_test, Y_train, Y_test = data.data_load_and_process('mnist', feature_reduction=feature_reduction, classes=classes)\n",
    "\n",
    "X_train, X_test = torch.tensor(X_train).to(torch.float32), torch.tensor(X_test).to(torch.float32)\n",
    "Y_train = [-1 if y == 0 else 1 for y in Y_train]\n",
    "Y_test = [-1 if y == 0 else 1 for y in Y_test]"
   ]
  },
  {
   "cell_type": "code",
   "execution_count": 14,
   "metadata": {},
   "outputs": [],
   "source": [
    "def accuracy_test(predictions, labels):\n",
    "    acc = 0\n",
    "    for l, p in zip(labels, predictions):\n",
    "        if np.abs(l - p) < 1:\n",
    "            acc = acc + 1\n",
    "    return acc / len(labels)\n",
    "\n",
    "\n",
    "accuracies_not_trained, accuracies_Model2_Fidelity, accuracies_Model3_Fidelity = [], [], []\n",
    "\n",
    "for i in range(5):\n",
    "    prediction_not_trained = [data_reuploading_QCNN_classifier(1, Weights_not_trained[i], x) for x in X_test]\n",
    "    prediction_Model2_Fidelity = [data_reuploading_QCNN_classifier(2, Weights_Model2[i], x) for x in X_test]\n",
    "    prediction_Model3_Fidelity = [data_reuploading_QCNN_classifier(3, Weights_Model3[i], x) for x in X_test]\n",
    "    \n",
    "    accuracy_not_trained = accuracy_test(prediction_not_trained, Y_test)\n",
    "    accuracy_Model2_Fidelity = accuracy_test(prediction_Model2_Fidelity, Y_test)\n",
    "    accuracy_Model3_Fidelity = accuracy_test(prediction_Model3_Fidelity, Y_test)\n",
    "\n",
    "    accuracies_not_trained.append(accuracy_not_trained)\n",
    "    accuracies_Model2_Fidelity.append(accuracy_Model2_Fidelity)\n",
    "    accuracies_Model3_Fidelity.append(accuracy_Model3_Fidelity)\n",
    "\n",
    "accuracies_not_trained = np.array(accuracies_not_trained)\n",
    "accuracies_Model2_Fidelity = np.array(accuracies_Model2_Fidelity)\n",
    "accuracies_Model3_Fidelity = np.array(accuracies_Model3_Fidelity)"
   ]
  },
  {
   "cell_type": "code",
   "execution_count": 15,
   "metadata": {},
   "outputs": [
    {
     "name": "stdout",
     "output_type": "stream",
     "text": [
      "Noisy QCNN classification accuracies:\n",
      "\n",
      "-------------------------------------\n",
      "\n",
      " Accuracy L1: 0.9704018912529552 ± 0.008919017397674932\n",
      " Accuracy L2: 0.9700236406619384 ± 0.010612945888679462\n",
      " Accuracy L3: 0.9252955082742318 ± 0.045734508737630054\n"
     ]
    }
   ],
   "source": [
    "\n",
    "print(\"Noisy QCNN classification accuracies:\\n\")\n",
    "print(\"-------------------------------------\\n\")\n",
    "print(f\" Accuracy L1: {accuracies_not_trained.mean()} ± {accuracies_not_trained.std()}\")\n",
    "print(f\" Accuracy L2: {accuracies_Model2_Fidelity.mean()} ± {accuracies_Model2_Fidelity.std()}\")\n",
    "print(f\" Accuracy L3: {accuracies_Model3_Fidelity.mean()} ± {accuracies_Model3_Fidelity.std()}\")"
   ]
  },
  {
   "cell_type": "code",
   "execution_count": null,
   "metadata": {},
   "outputs": [],
   "source": []
  }
 ],
 "metadata": {
  "kernelspec": {
   "display_name": "QC",
   "language": "python",
   "name": "python3"
  },
  "language_info": {
   "codemirror_mode": {
    "name": "ipython",
    "version": 3
   },
   "file_extension": ".py",
   "mimetype": "text/x-python",
   "name": "python",
   "nbconvert_exporter": "python",
   "pygments_lexer": "ipython3",
   "version": "3.11.5"
  },
  "vscode": {
   "interpreter": {
    "hash": "c5108ee98eb47f7e6b2eeb3f4fcfe8c3b821806f46f3b96ac0193b078633d3d2"
   }
  }
 },
 "nbformat": 4,
 "nbformat_minor": 2
}
