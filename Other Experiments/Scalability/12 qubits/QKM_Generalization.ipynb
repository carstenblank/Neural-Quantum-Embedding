{
 "cells": [
  {
   "cell_type": "code",
   "execution_count": 1,
   "metadata": {},
   "outputs": [],
   "source": [
    "from pennylane import numpy as np\n",
    "import sys\n",
    "sys.path.insert(0, '/home/tak/Github/QEmbedding/')\n",
    "import torch\n",
    "from torch import nn\n",
    "import data\n",
    "import pennylane as qml\n",
    "import embedding"
   ]
  },
  {
   "cell_type": "code",
   "execution_count": 2,
   "metadata": {},
   "outputs": [],
   "source": [
    "dev = qml.device('default.qubit', wires=12)"
   ]
  },
  {
   "cell_type": "code",
   "execution_count": 3,
   "metadata": {},
   "outputs": [],
   "source": [
    "\n",
    "PATH_Model2 = '/home/tak/Github/QEmbedding/Other Experiments/Scalability/12 qubits/PCA-NQE500.pt'\n",
    "PATH_Model3 = '/home/tak/Github/QEmbedding/Other Experiments/Scalability/12 qubits/NQE500.pt'"
   ]
  },
  {
   "cell_type": "code",
   "execution_count": 4,
   "metadata": {},
   "outputs": [
    {
     "data": {
      "text/plain": [
       "<All keys matched successfully>"
      ]
     },
     "execution_count": 4,
     "metadata": {},
     "output_type": "execute_result"
    }
   ],
   "source": [
    "class x_transform2(torch.nn.Module):\n",
    "    def __init__(self):\n",
    "        super().__init__()\n",
    "        self.linear_relu_stack2 = nn.Sequential(\n",
    "            nn.Linear(12, 36),\n",
    "            nn.ReLU(),\n",
    "            nn.Linear(36, 36),\n",
    "            nn.ReLU(),\n",
    "            nn.Linear(36, 24)\n",
    "        )\n",
    "        \n",
    "    def forward(self, x):\n",
    "        x = self.linear_relu_stack2(x)\n",
    "        return x.detach().numpy()\n",
    "\n",
    "\n",
    "class x_transform3(torch.nn.Module):\n",
    "    def __init__(self):\n",
    "        super().__init__()\n",
    "        self.layer1 = torch.nn.Sequential(\n",
    "            torch.nn.Conv2d(1, 1, kernel_size=3, stride=1, padding=1),\n",
    "            torch.nn.ReLU(),\n",
    "            torch.nn.MaxPool2d(kernel_size=2, stride=2)\n",
    "        )\n",
    "\n",
    "        # Layer2: 14 * 14 -> 7 * 7\n",
    "        self.layer2 = torch.nn.Sequential(\n",
    "            torch.nn.Conv2d(1, 1, kernel_size=3, stride=1, padding=1),\n",
    "            torch.nn.ReLU(),\n",
    "            torch.nn.MaxPool2d(kernel_size=2, stride=2)\n",
    "        )\n",
    "\n",
    "        # Fully connected Layers 7 * 7 -> 7\n",
    "        self.fc = torch.nn.Linear(7 * 7, 24, bias=True)\n",
    "        \n",
    "    def forward(self, x):\n",
    "        x = self.layer1(x)\n",
    "        x = self.layer2(x)\n",
    "        x = x.view(-1, 7 * 7)\n",
    "        x = self.fc(x)\n",
    "        return x.detach().numpy()\n",
    "\n",
    "model2 = x_transform2()\n",
    "model3 = x_transform3()\n",
    "\n",
    "model2.load_state_dict(torch.load(PATH_Model2))\n",
    "model3.load_state_dict(torch.load(PATH_Model3))"
   ]
  },
  {
   "cell_type": "code",
   "execution_count": 5,
   "metadata": {},
   "outputs": [],
   "source": [
    "@qml.qnode(dev)\n",
    "def overlap_circuit1(x1,x2):\n",
    "    embedding.Twelve_QuantumEmbedding1(x1)\n",
    "    embedding.Twelve_QuantumEmbedding1_inverse(x2)\n",
    "    return qml.probs(wires=range(12))\n",
    "\n",
    "@qml.qnode(dev)\n",
    "def overlap_circuit2(x1,x2):\n",
    "    embedding.Twelve_QuantumEmbedding2(x1)\n",
    "    embedding.Twelve_QuantumEmbedding2_inverse(x2)\n",
    "    return qml.probs(wires=range(12))\n",
    "\n",
    "def kernel(x1, x2, NQE):\n",
    "    if NQE == False:\n",
    "        kernel = overlap_circuit1(x1,x2)\n",
    "    \n",
    "    \n",
    "    elif NQE == 'PCA-NQE':\n",
    "        x1 = model2(torch.tensor(x1))\n",
    "        x2 = model2(torch.tensor(x2))\n",
    "        kernel = overlap_circuit2(x1, x2)\n",
    "\n",
    "    elif NQE == 'NQE':\n",
    "        x1 = model3(torch.tensor(x1))[0]\n",
    "        x2 = model3(torch.tensor(x2))[0]\n",
    "        kernel = overlap_circuit2(x1,x2)\n",
    "    \n",
    "    return kernel\n",
    "\n",
    "  "
   ]
  },
  {
   "cell_type": "code",
   "execution_count": 6,
   "metadata": {},
   "outputs": [],
   "source": [
    "def get_error_bound(weights, Kernel):\n",
    "    error_list = []\n",
    "    for weight in weights:\n",
    "        Kernel_MP = np.linalg.pinv(Kernel + weight * np.eye(N), hermitian = True)\n",
    "        error_list.append(np.sqrt(Y_train @ Kernel_MP @ Kernel @ Kernel_MP @ Y_train.T / N))\n",
    "        \n",
    "    error_list = np.array(error_list)\n",
    "\n",
    "    return error_list"
   ]
  },
  {
   "cell_type": "markdown",
   "metadata": {},
   "source": [
    "QKM without NQE"
   ]
  },
  {
   "cell_type": "code",
   "execution_count": 31,
   "metadata": {},
   "outputs": [],
   "source": [
    "feature_reduction = 'PCA12'\n",
    "classes = [0,1]\n",
    "X_train, X_test, Y_train, Y_test = data.data_load_and_process('mnist', feature_reduction=feature_reduction, classes=classes)\n",
    "Y_train = [-1 if y == 0 else 1 for y in Y_train]\n",
    "Y_test = [-1 if y == 0 else 1 for y in Y_test]\n",
    "Y_train = np.array(Y_train)\n",
    "\n",
    "k = 3\n",
    "N = 1000\n",
    "X_train = X_train[k * N: (k + 1) * N]\n",
    "Y_train = Y_train[k * N: (k + 1) * N]\n",
    "\n",
    "Kernel0 = np.zeros((N,N))\n",
    "for i in range(N):\n",
    "    for j in range(i,N):\n",
    "        x = kernel(X_train[i], X_train[j], False)\n",
    "        Kernel0[i][j] = x[0]\n",
    "        Kernel0[j][i] = x[0]"
   ]
  },
  {
   "cell_type": "code",
   "execution_count": 32,
   "metadata": {},
   "outputs": [],
   "source": [
    "weights = np.arange(0.1 , 1, 0.1)\n",
    "error_list = get_error_bound(weights, Kernel0)\n",
    "f = open(\"generalization.txt\", 'a')\n",
    "f.write(\"\\n\")\n",
    "f.write(f\"Generalization Error bounds list {k}\\n\")\n",
    "f.write(str(error_list))\n",
    "f.close()"
   ]
  },
  {
   "cell_type": "markdown",
   "metadata": {},
   "source": [
    "QKM with PCA-NQE"
   ]
  },
  {
   "cell_type": "code",
   "execution_count": 33,
   "metadata": {},
   "outputs": [],
   "source": [
    "feature_reduction = 'PCA12'\n",
    "classes = [0,1]\n",
    "X_train, X_test, Y_train, Y_test = data.data_load_and_process('mnist', feature_reduction=feature_reduction, classes=classes)\n",
    "Y_train = [-1 if y == 0 else 1 for y in Y_train]\n",
    "Y_test = [-1 if y == 0 else 1 for y in Y_test]\n",
    "Y_train = np.array(Y_train)\n",
    "\n",
    "k = 3\n",
    "N = 1000\n",
    "X_train = X_train[k * N: (k + 1) * N]\n",
    "Y_train = Y_train[k * N: (k + 1) * N]\n",
    "\n",
    "Kernel2 = np.zeros((N,N))\n",
    "for i in range(N):\n",
    "    for j in range(i,N):\n",
    "        x = kernel(X_train[i], X_train[j], \"PCA-NQE\")\n",
    "        Kernel2[i][j] = x[0]\n",
    "        Kernel2[j][i] = x[0]"
   ]
  },
  {
   "cell_type": "code",
   "execution_count": 34,
   "metadata": {},
   "outputs": [],
   "source": [
    "weights = np.arange(0.1 , 1, 0.1)\n",
    "error_list = get_error_bound(weights, Kernel2)\n",
    "f = open(\"generalization.txt\", 'a')\n",
    "f.write(\"\\n\")\n",
    "f.write(f\"Generalization Error bounds list (PCA-NQE) {k}\\n\")\n",
    "f.write(str(error_list))\n",
    "f.close()"
   ]
  },
  {
   "cell_type": "markdown",
   "metadata": {},
   "source": [
    "QKM with NQE"
   ]
  },
  {
   "cell_type": "code",
   "execution_count": 35,
   "metadata": {},
   "outputs": [],
   "source": [
    "classes = [0,1]\n",
    "feature_reduction = False\n",
    "X_train, X_test, Y_train, Y_test = data.data_load_and_process('mnist', feature_reduction=feature_reduction, classes=classes)\n",
    "X_train, X_test = torch.tensor(X_train).to(torch.float32), torch.tensor(X_test).to(torch.float32)\n",
    "X_train, X_test = X_train.permute(0,3,1,2).detach().numpy(), X_test.permute(0,3,1,2).detach().numpy()\n",
    "Y_train = [-1 if y == 0 else 1 for y in Y_train]\n",
    "Y_test = [-1 if y == 0 else 1 for y in Y_test]\n",
    "Y_train = np.array(Y_train)\n",
    "\n",
    "k = 3\n",
    "N = 1000\n",
    "X_train = X_train[k * N: (k + 1) * N]\n",
    "Y_train = Y_train[k * N: (k + 1) * N]\n",
    "\n",
    "Kernel3 = np.zeros((N,N))\n",
    "for i in range(N):\n",
    "    for j in range(i,N):\n",
    "        x = kernel(X_train[i], X_train[j], \"NQE\")\n",
    "        Kernel3[i][j] = x[0]\n",
    "        Kernel3[j][i] = x[0]"
   ]
  },
  {
   "cell_type": "code",
   "execution_count": 36,
   "metadata": {},
   "outputs": [],
   "source": [
    "weights = np.arange(0.1 , 1, 0.1)\n",
    "error_list = get_error_bound(weights, Kernel3)\n",
    "f = open(\"generalization.txt\", 'a')\n",
    "f.write(\"\\n\")\n",
    "f.write(f\"Generalization Error bounds list (NQE) {k}\\n\")\n",
    "f.write(str(error_list))\n",
    "f.close()"
   ]
  },
  {
   "cell_type": "code",
   "execution_count": 38,
   "metadata": {},
   "outputs": [],
   "source": [
    "weights = np.arange(0.1, 1, 0.1)\n",
    "error_list0 = [0.81438268, 0.75384256, 0.70224157, 0.65766229, 0.61872681, 0.58440446,\n",
    " 0.5539053 , 0.52661242, 0.50203639, 0.82308318, 0.76175239, 0.70946149, 0.66427996, 0.62481325, 0.59001724,\n",
    " 0.55909173, 0.53141195, 0.50648242, 0.82777863, 0.76571437, 0.71281497, 0.66712291, 0.62722387, 0.59205912,\n",
    " 0.56081721, 0.53286449, 0.50769837, 0.82526292, 0.76362019, 0.71106686, 0.66567013, 0.62602619, 0.59108289,\n",
    " 0.56003374, 0.53224911, 0.50722975, 0.83058901, 0.76853704, 0.71562414, 0.66990357, 0.62996337, 0.59474626,\n",
    " 0.56344225, 0.53541926, 0.51017623]\n",
    "error_list2 = [0.20066348, 0.14196904, 0.11734274, 0.10326964, 0.09400114, 0.0873725,\n",
    " 0.08236871, 0.07844442, 0.07527783, 0.23173736, 0.15835732, 0.12783705, 0.11057399, 0.09932638, 0.09136872,\n",
    " 0.08542419, 0.08080809, 0.07711764, 0.22972942, 0.15772882, 0.12780735, 0.11106105, 0.10024771, 0.09263344,\n",
    " 0.08694913, 0.08252361, 0.07896795, 0.23438756, 0.1624553 , 0.13162915, 0.11403054, 0.10252   , 0.09435564,\n",
    " 0.08824141, 0.08347996, 0.07966088, 0.21457365, 0.14814565, 0.12009894, 0.10412278, 0.0936865 , 0.08630212,\n",
    " 0.08079364, 0.0765262 , 0.07312454]\n",
    "error_list3 = [0.17119253, 0.1280326 , 0.10849354, 0.09687357, 0.08905544, 0.0834051,\n",
    " 0.07912397, 0.07576858, 0.07307028, 0.16880812, 0.12947793, 0.11166693, 0.10091907, 0.09355217, 0.0881216,\n",
    " 0.08392403, 0.08056878, 0.07781852, 0.15888386, 0.11854168, 0.10097335, 0.0908696 , 0.08423344, 0.07951382,\n",
    " 0.07597329, 0.07321337, 0.07099861, 0.1717659 , 0.13070254, 0.11227934, 0.10129875, 0.09384089, 0.08837772,\n",
    " 0.08417343, 0.08082359, 0.0780846 , 0.17552808, 0.12892485, 0.10905881, 0.09757438, 0.08994428, 0.08445076,\n",
    " 0.08028265, 0.07700108, 0.07434536]\n",
    "\n",
    "error_list0, error_list2, error_list3 = np.array(error_list0), np.array(error_list2), np.array(error_list3)\n",
    "error_list0 = error_list0.reshape(5,9)\n",
    "error_list2 = error_list2.reshape(5,9)\n",
    "error_list3 = error_list3.reshape(5,9)\n",
    "\n",
    "error_list0_mean, error_list0_std = error_list0.mean(axis=0), error_list0.std(axis=0)\n",
    "error_list2_mean, error_list2_std = error_list2.mean(axis=0), error_list2.std(axis=0)\n",
    "error_list3_mean, error_list3_std = error_list3.mean(axis=0), error_list3.std(axis=0)"
   ]
  },
  {
   "cell_type": "code",
   "execution_count": 39,
   "metadata": {},
   "outputs": [
    {
     "name": "stderr",
     "output_type": "stream",
     "text": [
      "/tmp/ipykernel_12739/1315228976.py:10: UserWarning: *c* argument looks like a single numeric RGB or RGBA sequence, which should be avoided as value-mapping will have precedence in case its length matches with *x* & *y*.  Please use the *color* keyword-argument or provide a 2D array with a single row if you intend to specify the same RGB or RGBA value for all points.\n",
      "  ax.scatter(weights, error_list2_mean, label=\"PCA-NQE\", marker=\"o\", c=clrs[0])\n",
      "/tmp/ipykernel_12739/1315228976.py:11: UserWarning: *c* argument looks like a single numeric RGB or RGBA sequence, which should be avoided as value-mapping will have precedence in case its length matches with *x* & *y*.  Please use the *color* keyword-argument or provide a 2D array with a single row if you intend to specify the same RGB or RGBA value for all points.\n",
      "  ax.scatter(weights, error_list3_mean, label=\"NQE\", marker=\"^\", c=clrs[1])\n",
      "/tmp/ipykernel_12739/1315228976.py:12: UserWarning: *c* argument looks like a single numeric RGB or RGBA sequence, which should be avoided as value-mapping will have precedence in case its length matches with *x* & *y*.  Please use the *color* keyword-argument or provide a 2D array with a single row if you intend to specify the same RGB or RGBA value for all points.\n",
      "  ax.scatter(weights, error_list0_mean, label=\"Without NQE\", marker=\"s\", c=clrs[2])\n"
     ]
    },
    {
     "data": {
      "image/png": "[encoded data removed]",
      "text/plain": [
       "<Figure size 1000x500 with 1 Axes>"
      ]
     },
     "metadata": {},
     "output_type": "display_data"
    }
   ],
   "source": [
    "import seaborn as sns\n",
    "import matplotlib.pyplot as plt\n",
    "\n",
    "plt.rcParams['figure.figsize'] = [10, 5]\n",
    "plt.rcParams.update({'font.size': 13})\n",
    "fig, ax = plt.subplots()\n",
    "clrs = sns.color_palette(\"husl\", 3)\n",
    "with sns.axes_style(\"darkgrid\"):\n",
    "    \n",
    "    ax.scatter(weights, error_list2_mean, label=\"PCA-NQE\", marker=\"o\", c=clrs[0])\n",
    "    ax.scatter(weights, error_list3_mean, label=\"NQE\", marker=\"^\", c=clrs[1])\n",
    "    ax.scatter(weights, error_list0_mean, label=\"Without NQE\", marker=\"s\", c=clrs[2])\n",
    "    \n",
    "    \n",
    "    ax.errorbar(weights, error_list2_mean, yerr=error_list2_std, fmt=\"o\", c=clrs[0])\n",
    "    ax.errorbar(weights, error_list3_mean, yerr=error_list3_std, fmt=\"^\", c=clrs[1])\n",
    "    ax.errorbar(weights, error_list0_mean, yerr=error_list0_std, fmt=\"s\", c=clrs[2])\n",
    "\n",
    "ax.set_xlabel(\"Regularization Weight (λ)\")\n",
    "ax.set_ylabel(\"Generalization Error Bound (G)\")\n",
    "#ax.set_title(\"Generalization Error Bounds against Regularization Weights\")\n",
    "ax.legend(fontsize=16)\n",
    "plt.savefig(\"QKM Generalization.pdf\")"
   ]
  }
 ],
 "metadata": {
  "kernelspec": {
   "display_name": "Python 3 (ipykernel)",
   "language": "python",
   "name": "python3"
  },
  "language_info": {
   "codemirror_mode": {
    "name": "ipython",
    "version": 3
   },
   "file_extension": ".py",
   "mimetype": "text/x-python",
   "name": "python",
   "nbconvert_exporter": "python",
   "pygments_lexer": "ipython3",
   "version": "3.11.5"
  }
 },
 "nbformat": 4,
 "nbformat_minor": 2
}
