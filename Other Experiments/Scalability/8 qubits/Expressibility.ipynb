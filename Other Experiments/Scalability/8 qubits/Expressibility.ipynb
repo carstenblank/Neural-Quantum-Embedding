{
 "cells": [
  {
   "cell_type": "code",
   "execution_count": 1,
   "metadata": {},
   "outputs": [],
   "source": [
    "from pennylane import numpy as np\n",
    "import sys\n",
    "sys.path.insert(0, '/home/tak/Github/QEmbedding/')\n",
    "import torch\n",
    "from torch import nn\n",
    "import data\n",
    "import pennylane as qml\n",
    "import embedding"
   ]
  },
  {
   "cell_type": "code",
   "execution_count": 2,
   "metadata": {},
   "outputs": [],
   "source": [
    "dev = qml.device('default.qubit', wires=8)"
   ]
  },
  {
   "cell_type": "code",
   "execution_count": null,
   "metadata": {},
   "outputs": [],
   "source": [
    "\n",
    "PATH_Model2 = '/home/tak/Github/QEmbedding/Other Experiments/Scalability/8 qubits/PCA-NQE500.pt'\n",
    "PATH_Model3 = '/home/tak/Github/QEmbedding/Other Experiments/Scalability/8 qubits/NQE500.pt'"
   ]
  },
  {
   "cell_type": "code",
   "execution_count": null,
   "metadata": {},
   "outputs": [],
   "source": [
    "class x_transform2(torch.nn.Module):\n",
    "    def __init__(self):\n",
    "        super().__init__()\n",
    "        self.linear_relu_stack2 = nn.Sequential(\n",
    "            nn.Linear(8, 24),\n",
    "            nn.ReLU(),\n",
    "            nn.Linear(24, 24),\n",
    "            nn.ReLU(),\n",
    "            nn.Linear(24, 16)\n",
    "        )\n",
    "        \n",
    "    def forward(self, x):\n",
    "        x = self.linear_relu_stack2(x)\n",
    "        return x.detach().numpy()\n",
    "\n",
    "\n",
    "class x_transform3(torch.nn.Module):\n",
    "    def __init__(self):\n",
    "        super().__init__()\n",
    "        self.layer1 = torch.nn.Sequential(\n",
    "            torch.nn.Conv2d(1, 1, kernel_size=3, stride=1, padding=1),\n",
    "            torch.nn.ReLU(),\n",
    "            torch.nn.MaxPool2d(kernel_size=2, stride=2)\n",
    "        )\n",
    "\n",
    "        # Layer2: 14 * 14 -> 7 * 7\n",
    "        self.layer2 = torch.nn.Sequential(\n",
    "            torch.nn.Conv2d(1, 1, kernel_size=3, stride=1, padding=1),\n",
    "            torch.nn.ReLU(),\n",
    "            torch.nn.MaxPool2d(kernel_size=2, stride=2)\n",
    "        )\n",
    "\n",
    "        # Fully connected Layers 7 * 7 -> 7\n",
    "        self.fc = torch.nn.Linear(7 * 7, 16, bias=True)\n",
    "        \n",
    "    def forward(self, x):\n",
    "        x = self.layer1(x)\n",
    "        x = self.layer2(x)\n",
    "        x = x.view(-1, 7 * 7)\n",
    "        x = self.fc(x)\n",
    "        return x.detach().numpy()\n",
    "\n",
    "model2 = x_transform2()\n",
    "model3 = x_transform3()\n",
    "\n",
    "model2.load_state_dict(torch.load(PATH_Model2))\n",
    "model3.load_state_dict(torch.load(PATH_Model3))"
   ]
  },
  {
   "cell_type": "code",
   "execution_count": null,
   "metadata": {},
   "outputs": [],
   "source": [
    "@qml.qnode(dev)\n",
    "def overlap_circuit1(x1,x2):\n",
    "    embedding.QuantumEmbedding1(x1)\n",
    "    embedding.QuantumEmbedding1_inverse(x2)\n",
    "    return qml.probs(wires=range(8))\n",
    "\n",
    "@qml.qnode(dev)\n",
    "def overlap_circuit2(x1,x2):\n",
    "    embedding.QuantumEmbedding2(x1)\n",
    "    embedding.QuantumEmbedding2_inverse(x2)\n",
    "    return qml.probs(wires=range(8))\n",
    "\n",
    "def kernel(x1, x2, NQE):\n",
    "    if NQE == False:\n",
    "        kernel = overlap_circuit1(x1,x2)\n",
    "    \n",
    "    \n",
    "    elif NQE == 'PCA-NQE':\n",
    "        x1 = model2(torch.tensor(x1))\n",
    "        x2 = model2(torch.tensor(x2))\n",
    "        kernel = overlap_circuit2(x1, x2)\n",
    "\n",
    "    elif NQE == 'NQE':\n",
    "        x1 = model3(torch.tensor(x1))[0]\n",
    "        x2 = model3(torch.tensor(x2))[0]\n",
    "        kernel = overlap_circuit2(x1,x2)\n",
    "    \n",
    "    return kernel\n",
    "\n",
    "  "
   ]
  },
  {
   "cell_type": "markdown",
   "metadata": {},
   "source": [
    "QKM without NQE"
   ]
  },
  {
   "cell_type": "code",
   "execution_count": null,
   "metadata": {},
   "outputs": [],
   "source": [
    "feature_reduction = 'PCA8'\n",
    "classes = [0,1]\n",
    "X_train, X_test, Y_train, Y_test = data.data_load_and_process('mnist', feature_reduction=feature_reduction, classes=classes)\n",
    "Y_train = [-1 if y == 0 else 1 for y in Y_train]\n",
    "Y_test = [-1 if y == 0 else 1 for y in Y_test]\n",
    "Y_train = np.array(Y_train)\n",
    "\n",
    "k = 3\n",
    "N = 1000\n",
    "X_train = X_train[k * N: (k + 1) * N]\n",
    "Y_train = Y_train[k * N: (k + 1) * N]\n",
    "\n",
    "Kernel0 = np.zeros((N,N))\n",
    "for i in range(N):\n",
    "    for j in range(i,N):\n",
    "        x = kernel(X_train[i], X_train[j], False)\n",
    "        Kernel0[i][j] = x[0]\n",
    "        Kernel0[j][i] = x[0]"
   ]
  },
  {
   "cell_type": "code",
   "execution_count": null,
   "metadata": {},
   "outputs": [],
   "source": [
    "Kernel_rank = np.linalg.matrix_rank(Kernel0)\n",
    "Kernel_offD = []\n",
    "for i in range(N):\n",
    "    for j in range(i + 1, N):\n",
    "        Kernel_offD.append(Kernel0[i][j])\n",
    "\n",
    "Kernel_offD = np.array(Kernel_offD)\n",
    "Kernel_element_variance = Kernel_offD.std()**2\n",
    "\n",
    "f = open(\"Kernel Rank & Variance.txt\", 'a')\n",
    "f.write(\"\\n\")\n",
    "f.write(f\"Kernel0 iter {k}\\n\")\n",
    "f.write(f\"Kernel Rank: {Kernel_rank}\\n\")\n",
    "f.write(f\"Kernel Variance: {Kernel_element_variance}\\n\")\n",
    "f.close()"
   ]
  },
  {
   "cell_type": "markdown",
   "metadata": {},
   "source": [
    "QKM with PCA-NQE"
   ]
  },
  {
   "cell_type": "code",
   "execution_count": null,
   "metadata": {},
   "outputs": [],
   "source": [
    "feature_reduction = 'PCA8'\n",
    "classes = [0,1]\n",
    "X_train, X_test, Y_train, Y_test = data.data_load_and_process('mnist', feature_reduction=feature_reduction, classes=classes)\n",
    "Y_train = [-1 if y == 0 else 1 for y in Y_train]\n",
    "Y_test = [-1 if y == 0 else 1 for y in Y_test]\n",
    "Y_train = np.array(Y_train)\n",
    "\n",
    "k = 3\n",
    "N = 1000\n",
    "X_train = X_train[k * N: (k + 1) * N]\n",
    "Y_train = Y_train[k * N: (k + 1) * N]\n",
    "\n",
    "Kernel2 = np.zeros((N,N))\n",
    "for i in range(N):\n",
    "    for j in range(i,N):\n",
    "        x = kernel(X_train[i], X_train[j], \"PCA-NQE\")\n",
    "        Kernel2[i][j] = x[0]\n",
    "        Kernel2[j][i] = x[0]"
   ]
  },
  {
   "cell_type": "code",
   "execution_count": null,
   "metadata": {},
   "outputs": [],
   "source": [
    "Kernel_rank = np.linalg.matrix_rank(Kernel2)\n",
    "Kernel_offD = []\n",
    "for i in range(N):\n",
    "    for j in range(i + 1, N):\n",
    "        Kernel_offD.append(Kernel2[i][j])\n",
    "\n",
    "Kernel_offD = np.array(Kernel_offD)\n",
    "Kernel_element_variance = Kernel_offD.std()**2\n",
    "\n",
    "f = open(\"Kernel Rank & Variance.txt\", 'a')\n",
    "f.write(\"\\n\")\n",
    "f.write(f\"Kernel2 iter {k}\\n\")\n",
    "f.write(f\"Kernel Rank: {Kernel_rank}\\n\")\n",
    "f.write(f\"Kernel Variance: {Kernel_element_variance}\\n\")\n",
    "f.close()"
   ]
  },
  {
   "cell_type": "markdown",
   "metadata": {},
   "source": [
    "QKM with NQE"
   ]
  },
  {
   "cell_type": "code",
   "execution_count": null,
   "metadata": {},
   "outputs": [],
   "source": [
    "classes = [0,1]\n",
    "feature_reduction = False\n",
    "X_train, X_test, Y_train, Y_test = data.data_load_and_process('mnist', feature_reduction=feature_reduction, classes=classes)\n",
    "X_train, X_test = torch.tensor(X_train).to(torch.float32), torch.tensor(X_test).to(torch.float32)\n",
    "X_train, X_test = X_train.permute(0,3,1,2).detach().numpy(), X_test.permute(0,3,1,2).detach().numpy()\n",
    "Y_train = [-1 if y == 0 else 1 for y in Y_train]\n",
    "Y_test = [-1 if y == 0 else 1 for y in Y_test]\n",
    "Y_train = np.array(Y_train)\n",
    "\n",
    "k = 3\n",
    "N = 1000\n",
    "X_train = X_train[k * N: (k + 1) * N]\n",
    "Y_train = Y_train[k * N: (k + 1) * N]\n",
    "\n",
    "Kernel3 = np.zeros((N,N))\n",
    "for i in range(N):\n",
    "    for j in range(i,N):\n",
    "        x = kernel(X_train[i], X_train[j], \"NQE\")\n",
    "        Kernel3[i][j] = x[0]\n",
    "        Kernel3[j][i] = x[0]"
   ]
  },
  {
   "cell_type": "code",
   "execution_count": null,
   "metadata": {},
   "outputs": [],
   "source": [
    "Kernel_rank = np.linalg.matrix_rank(Kernel3)\n",
    "Kernel_offD = []\n",
    "for i in range(N):\n",
    "    for j in range(i + 1, N):\n",
    "        Kernel_offD.append(Kernel3[i][j])\n",
    "\n",
    "Kernel_offD = np.array(Kernel_offD)\n",
    "Kernel_element_variance = Kernel_offD.std()**2\n",
    "\n",
    "f = open(\"Kernel Rank & Variance.txt\", 'a')\n",
    "f.write(\"\\n\")\n",
    "f.write(f\"Kernel2 iter {k}\\n\")\n",
    "f.write(f\"Kernel Rank: {Kernel_rank}\\n\")\n",
    "f.write(f\"Kernel Variance: {Kernel_element_variance}\\n\")\n",
    "f.close()"
   ]
  },
  {
   "cell_type": "markdown",
   "metadata": {},
   "source": [
    "## Expressibility"
   ]
  },
  {
   "cell_type": "code",
   "execution_count": 3,
   "metadata": {},
   "outputs": [],
   "source": [
    "def random_unitary(n):\n",
    "    \"\"\"\n",
    "        Return a Haar distributed random unitary from U(N)\n",
    "    \"\"\"\n",
    "\n",
    "    Z = np.random.randn(2**n, 2**n) + 1.0j * np.random.randn(2**n, 2**n)\n",
    "    [Q, R] = np.linalg.qr(Z)\n",
    "    D = np.diag(np.diagonal(R) / np.abs(np.diagonal(R)))\n",
    "    return np.dot(Q, D)\n",
    "\n",
    "def haar_integral(num_qubits, samples):\n",
    "    \"\"\"\n",
    "        Return calculation of Haar Integral for a specified number of samples.\n",
    "    \"\"\"\n",
    "\n",
    "    n = num_qubits\n",
    "    randunit_density = np.zeros((2**n, 2**n), dtype=complex)\n",
    "\n",
    "    \n",
    "    zero_state = np.zeros(2**n, dtype=complex)\n",
    "    zero_state[0] = 1\n",
    "    for _ in range(samples):\n",
    "        U = random_unitary(n)\n",
    "        A = np.matmul(zero_state, U).reshape(-1,1)\n",
    "        randunit_density += np.kron(A, A.conj().T) \n",
    "    randunit_density/=samples\n",
    "\n",
    "    return randunit_density"
   ]
  },
  {
   "cell_type": "code",
   "execution_count": 4,
   "metadata": {},
   "outputs": [],
   "source": [
    "\n",
    "\n",
    "@qml.qnode(dev, interface=\"torch\")\n",
    "def circuit2(inputs): \n",
    "    embedding.QuantumEmbedding2(inputs)\n",
    "    return qml.density_matrix(wires=range(8))\n",
    "\n",
    "@qml.qnode(dev, interface=\"torch\")\n",
    "def circuit1(inputs): \n",
    "    embedding.QuantumEmbedding1(inputs)\n",
    "    return qml.density_matrix(wires=range(8))\n",
    "\n",
    "\n",
    "class exp0(torch.nn.Module):\n",
    "    def __init__(self):\n",
    "        super().__init__()\n",
    "        self.qlayer0 = qml.qnn.TorchLayer(circuit1, weight_shapes={})\n",
    "\n",
    "    def forward(self, x):\n",
    "        rhos = self.qlayer0(x)\n",
    "        rho = torch.sum(rhos, dim=0) / len(x)\n",
    "        rho = rho.detach().numpy()\n",
    "        exp = np.linalg.norm(rho - haar_integral(8, len(x)))\n",
    "        return exp**2\n",
    "    \n",
    "    \n",
    "class exp2(torch.nn.Module):\n",
    "    def __init__(self):\n",
    "        super().__init__()\n",
    "        self.qlayer2 = qml.qnn.TorchLayer(circuit2, weight_shapes={})\n",
    "        self.linear_relu_stack2 = nn.Sequential(\n",
    "            nn.Linear(8, 24),\n",
    "            nn.ReLU(),\n",
    "            nn.Linear(24, 24),\n",
    "            nn.ReLU(),\n",
    "            nn.Linear(24, 16)\n",
    "        )\n",
    "    def forward(self, x):\n",
    "        x = self.linear_relu_stack2(x)\n",
    "        rhos = self.qlayer2(x)\n",
    "        rho = torch.sum(rhos, dim=0) / len(x)\n",
    "        rho = rho.detach().numpy()\n",
    "        exp = np.linalg.norm(rho - haar_integral(8, len(x)))\n",
    "        return exp**2\n",
    "\n",
    "\n",
    "class exp3(torch.nn.Module):\n",
    "    def __init__(self):\n",
    "        super().__init__()\n",
    "        self.qlayer3 = qml.qnn.TorchLayer(circuit2, weight_shapes={})\n",
    "        self.layer1 = torch.nn.Sequential(\n",
    "            torch.nn.Conv2d(1, 1, kernel_size=3, stride=1, padding=1),\n",
    "            torch.nn.ReLU(),\n",
    "            torch.nn.MaxPool2d(kernel_size=2, stride=2)\n",
    "        )\n",
    "\n",
    "        # Layer2: 14 * 14 -> 7 * 7\n",
    "        self.layer2 = torch.nn.Sequential(\n",
    "            torch.nn.Conv2d(1, 1, kernel_size=3, stride=1, padding=1),\n",
    "            torch.nn.ReLU(),\n",
    "            torch.nn.MaxPool2d(kernel_size=2, stride=2)\n",
    "        )\n",
    "\n",
    "        # Fully connected Layers 7 * 7 -> 7\n",
    "        self.fc = torch.nn.Linear(7 * 7, 16, bias=True)\n",
    "    \n",
    "    def forward(self, x):\n",
    "        x = self.layer1(x)\n",
    "        x = self.layer2(x)\n",
    "        x = x.view(-1, 7 * 7)\n",
    "        x = self.fc(x)\n",
    "        rhos = self.qlayer3(x)\n",
    "        rho = torch.sum(rhos, dim=0) / len(x)\n",
    "        rho = rho.detach().numpy()\n",
    "        exp = np.linalg.norm(rho - haar_integral(8, len(x)))\n",
    "        return exp**2"
   ]
  },
  {
   "cell_type": "code",
   "execution_count": 5,
   "metadata": {},
   "outputs": [
    {
     "name": "stderr",
     "output_type": "stream",
     "text": [
      "/tmp/ipykernel_241720/466488815.py:4: UserWarning: Creating a tensor from a list of numpy.ndarrays is extremely slow. Please consider converting the list to a single numpy.ndarray with numpy.array() before converting to a tensor. (Triggered internally at ../torch/csrc/utils/tensor_new.cpp:245.)\n",
      "  X_test =  torch.tensor(X_test).to(torch.float32)\n"
     ]
    }
   ],
   "source": [
    "feature_reduction = 'PCA8'\n",
    "classes = [0,1]\n",
    "X_train, X_test, Y_train, Y_test = data.data_load_and_process('mnist', feature_reduction=feature_reduction, classes=classes)\n",
    "X_test =  torch.tensor(X_test).to(torch.float32)\n",
    "X_train = torch.tensor(X_train).to(torch.float32)"
   ]
  },
  {
   "cell_type": "code",
   "execution_count": 6,
   "metadata": {},
   "outputs": [
    {
     "name": "stderr",
     "output_type": "stream",
     "text": [
      "/home/tak/anaconda3/envs/QC/lib/python3.11/site-packages/pennylane/qnn/torch.py:331: UserWarning: Casting complex values to real discards the imaginary part (Triggered internally at ../aten/src/ATen/native/Copy.cpp:276.)\n",
      "  return res.type(x.dtype)\n"
     ]
    },
    {
     "name": "stdout",
     "output_type": "stream",
     "text": [
      "Without NQE Expressibility Train Data: 0.024500393218770886\n",
      "Without NQE Expressibility Test Data: 0.04039654890148732\n",
      "PCA-NQE Expressibility Train Data: 0.2765968358930239\n",
      "PCA-NQE Expressibility Test Data: 0.2850611775113244\n"
     ]
    }
   ],
   "source": [
    "model0 = exp0()\n",
    "model2 = exp2()\n",
    "model2.load_state_dict(torch.load(\"PCA-NQE500.pt\"))\n",
    "exp_model0_train = model0(X_train[:100])\n",
    "exp_model0_test = model0(X_test[:50])\n",
    "print(f\"Without NQE Expressibility Train Data: {exp_model0_train}\")\n",
    "print(f\"Without NQE Expressibility Test Data: {exp_model0_test}\")\n",
    "exp_model2_train = model2(X_train[:100])\n",
    "exp_model2_test = model2(X_test[:50])\n",
    "print(f\"PCA-NQE Expressibility Train Data: {exp_model2_train}\")\n",
    "print(f\"PCA-NQE Expressibility Test Data: {exp_model2_test}\")"
   ]
  },
  {
   "cell_type": "code",
   "execution_count": 10,
   "metadata": {},
   "outputs": [],
   "source": [
    "feature_reduction = False\n",
    "classes = [0,1]\n",
    "X_train, X_test, Y_train, Y_test = data.data_load_and_process('mnist', feature_reduction=feature_reduction, classes=classes)\n",
    "X_train, X_test = torch.tensor(X_train).to(torch.float32), torch.tensor(X_test).to(torch.float32)\n",
    "X_train, X_test = X_train.permute(0, 3, 1, 2), X_test.permute(0, 3, 1, 2)"
   ]
  },
  {
   "cell_type": "code",
   "execution_count": 11,
   "metadata": {},
   "outputs": [
    {
     "name": "stdout",
     "output_type": "stream",
     "text": [
      "PCA-NQE Expressibility Train Data: 0.2574753364868828\n",
      "PCA-NQE Expressibility Test Data: 0.2866436262194087\n"
     ]
    }
   ],
   "source": [
    "model3 = exp3()\n",
    "model3.load_state_dict(torch.load(\"NQE500.pt\"))\n",
    "exp_model3_train = model3(X_train[:100])\n",
    "exp_model3_test = model3(X_test[:50])\n",
    "print(f\"PCA-NQE Expressibility Train Data: {exp_model3_train}\")\n",
    "print(f\"PCA-NQE Expressibility Test Data: {exp_model3_test}\")"
   ]
  },
  {
   "cell_type": "code",
   "execution_count": 2,
   "metadata": {},
   "outputs": [
    {
     "name": "stdout",
     "output_type": "stream",
     "text": [
      "0.15652601451123352 0.2009889273106539 0.5259247435641566 0.5339112075161229 0.5074202759910987 0.5353910965074118\n"
     ]
    }
   ],
   "source": [
    "Kernel0_variance = [0.0009153918274221285, 0.0006958928712654695, 0.0007072757303437999, 0.0006785826869208034, 0.0006301272771971951]\n",
    "Kernel2_variance = [0.1856808242989811, 0.18107375304888448,  0.17895462488893604, 0.18077810468385555,  0.18135337383891176]\n",
    "Kernel3_variance = [0.14617144190793305, 0.14014941969288583, 0.1396640703467334, 0.1364337669504927, 0.1401344370625499]\n",
    "\n",
    "Kernel0_variance = np.array(Kernel0_variance)\n",
    "Kernel2_variance = np.array(Kernel2_variance)\n",
    "Kernel3_variance = np.array(Kernel3_variance)\n",
    "\n",
    "exp0_train = 0.024500393218770886\n",
    "exp0_test = 0.04039654890148732\n",
    "exp2_train = 0.2765968358930239\n",
    "exp2_test = 0.2850611775113244\n",
    "exp3_train = 0.2574753364868828\n",
    "exp3_test = 0.2866436262194087\n",
    "\n",
    "\n",
    "print(np.sqrt(exp0_train), np.sqrt(exp0_test), np.sqrt(exp2_train), np.sqrt(exp2_test), np.sqrt(exp3_train), np.sqrt(exp3_test), )"
   ]
  },
  {
   "cell_type": "code",
   "execution_count": 3,
   "metadata": {},
   "outputs": [
    {
     "data": {
      "image/png": "[encoded data removed]",
      "text/plain": [
       "<Figure size 1300x500 with 2 Axes>"
      ]
     },
     "metadata": {},
     "output_type": "display_data"
    }
   ],
   "source": [
    "import seaborn as sns\n",
    "import matplotlib.pyplot as plt\n",
    "plt.rcParams['figure.figsize'] = [13, 5]\n",
    "plt.rcParams.update({'font.size': 16})\n",
    "fig, (ax1, ax2) = plt.subplots(1,2)\n",
    "clrs = sns.color_palette(\"husl\", 3)\n",
    "with sns.axes_style(\"darkgrid\"):\n",
    "    X = (\"PCA-NQE\", \"NQE\", \"Without NQE\",)\n",
    "    expressibility = {\n",
    "        'Train data': (0.276, 0.257, 0.024),\n",
    "        'Test data': (0.285, 0.287, 0.040),\n",
    "    }\n",
    "    Kernel_Variance = {\n",
    "        'Kernel_Variance': (Kernel0_variance.mean(), Kernel2_variance.mean(), \n",
    "                            Kernel3_variance.mean())\n",
    "    }\n",
    "\n",
    "x = np.arange(len(X))  # the label locations\n",
    "width = 0.4  # the width of the bars\n",
    "multiplier = 0\n",
    "\n",
    "\n",
    "for attribute, measurement in expressibility.items():\n",
    "    if attribute == 'Train data':\n",
    "        color = \"black\"\n",
    "    else:\n",
    "        color = \"white\"\n",
    "    offset = width * multiplier\n",
    "    rects = ax1.bar(x + offset, measurement, width, label=attribute, color=color, edgecolor='black')\n",
    "    ax1.bar_label(rects, padding=3, fontsize=14)\n",
    "    multiplier += 1\n",
    "\n",
    "#x = np.arange(len(X))  # the label locations\n",
    "#width = 0.25 # the width of the bars\n",
    "#multiplier = 0\n",
    "\n",
    "#for attribute, measurement in Kernel_Variance.items():\n",
    "#    if attribute == 'Kernel_Variance':\n",
    "#        color = \"white\"\n",
    "#    else:\n",
    "#        color = \"white\"\n",
    "#    offset = width * multiplier\n",
    "#    rects = ax2.bar(x + offset, measurement, width, label=attribute, color=color, edgecolor='black')\n",
    "#    ax2.bar_label(rects,padding=3, fontsize=10)\n",
    "#    multiplier += 1\n",
    "\n",
    "# Add some text for labels, title and custom x-axis tick labels, etc.\n",
    "ax1.set_ylabel('Deviation from 1-design')\n",
    "#ax1.set_title('Expressibility')\n",
    "ax1.set_xticks(x + width - 0.2, X)\n",
    "ax1.legend(loc='upper left', ncols=1, fontsize=13)\n",
    "ax1.set_ylim(0, 0.5)\n",
    "\n",
    "x_pos = np.arange(3)\n",
    "y = [Kernel2_variance.mean(), Kernel3_variance.mean(), Kernel0_variance.mean()]\n",
    "error = [Kernel2_variance.std(), Kernel3_variance.std(), Kernel0_variance.std()]\n",
    "ax2.bar(x_pos, y, yerr=error, align='center', alpha=0.5, color='black', edgecolor='black',ecolor='black', capsize=10)\n",
    "ax2.set_ylabel('Kernel Variance')\n",
    "ax2.set_xticks(x_pos)\n",
    "ax2.set_xticklabels(X)\n",
    "#ax2.set_title('Kernel Variance')\n",
    "ax2.set_yticks([0,0.05,0.1,0.15, 0.2])\n",
    "ax2.yaxis.grid(True)\n",
    "#ax2.set_ylabel('Kernel Variance')\n",
    "#ax2.set_title('Kernel Variance')\n",
    "#ax2.set_xticks(x + width - 0.25, X)\n",
    "#ax2.set_ylim(0, 0.5)\n",
    "\n",
    "plt.savefig(\"Expressibility.pdf\")\n",
    "plt.show()\n"
   ]
  },
  {
   "cell_type": "code",
   "execution_count": null,
   "metadata": {},
   "outputs": [],
   "source": []
  }
 ],
 "metadata": {
  "kernelspec": {
   "display_name": "Python 3 (ipykernel)",
   "language": "python",
   "name": "python3"
  },
  "language_info": {
   "codemirror_mode": {
    "name": "ipython",
    "version": 3
   },
   "file_extension": ".py",
   "mimetype": "text/x-python",
   "name": "python",
   "nbconvert_exporter": "python",
   "pygments_lexer": "ipython3",
   "version": "3.11.5"
  }
 },
 "nbformat": 4,
 "nbformat_minor": 2
}
