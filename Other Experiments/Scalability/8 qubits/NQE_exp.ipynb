{
 "cells": [
  {
   "attachments": {},
   "cell_type": "markdown",
   "metadata": {},
   "source": [
    "# 8 qubit experiments"
   ]
  },
  {
   "cell_type": "code",
   "execution_count": 1,
   "metadata": {},
   "outputs": [],
   "source": [
    "from pennylane import numpy as np\n",
    "import matplotlib.pyplot as plt\n",
    "import sys\n",
    "sys.path.insert(0, '/home/tak/Github/QEmbedding/')\n",
    "import torch\n",
    "from torch import nn\n",
    "import pennylane as qml\n",
    "import embedding\n",
    "import data\n",
    "\n",
    "dev = qml.device('default.qubit', wires=8)"
   ]
  },
  {
   "attachments": {},
   "cell_type": "markdown",
   "metadata": {},
   "source": [
    "# NQE Optimization"
   ]
  },
  {
   "cell_type": "code",
   "execution_count": 2,
   "metadata": {},
   "outputs": [],
   "source": [
    "@qml.qnode(dev, interface=\"torch\")\n",
    "def Four_circuit2(inputs): \n",
    "    embedding.QuantumEmbedding2(inputs[0:16])\n",
    "    embedding.QuantumEmbedding2_inverse(inputs[16:32])\n",
    "    return qml.probs(wires=range(8))\n",
    "\n",
    "class PCA_NQE(torch.nn.Module):\n",
    "    def __init__(self):\n",
    "        super().__init__()\n",
    "        self.qlayer2 = qml.qnn.TorchLayer(Four_circuit2, weight_shapes={})\n",
    "        self.linear_relu_stack2 = nn.Sequential(\n",
    "            nn.Linear(8, 24),\n",
    "            nn.ReLU(),\n",
    "            nn.Linear(24, 24),\n",
    "            nn.ReLU(),\n",
    "            nn.Linear(24, 16)\n",
    "        )\n",
    "    def forward(self, x1, x2):\n",
    "        x1 = self.linear_relu_stack2(x1)\n",
    "        x2 = self.linear_relu_stack2(x2)\n",
    "        x = torch.concat([x1, x2], 1)\n",
    "        x = self.qlayer2(x)\n",
    "        return x[:,0]\n",
    "\n",
    "\n",
    "class NQE(torch.nn.Module):\n",
    "    def __init__(self):\n",
    "        super().__init__()\n",
    "        self.qlayer3 = qml.qnn.TorchLayer(Four_circuit2, weight_shapes={})\n",
    "        self.layer1 = torch.nn.Sequential(\n",
    "            torch.nn.Conv2d(1, 1, kernel_size=3, stride=1, padding=1),\n",
    "            torch.nn.ReLU(),\n",
    "            torch.nn.MaxPool2d(kernel_size=2, stride=2)\n",
    "        )\n",
    "\n",
    "        # Layer2: 14 * 14 -> 7 * 7\n",
    "        self.layer2 = torch.nn.Sequential(\n",
    "            torch.nn.Conv2d(1, 1, kernel_size=3, stride=1, padding=1),\n",
    "            torch.nn.ReLU(),\n",
    "            torch.nn.MaxPool2d(kernel_size=2, stride=2)\n",
    "        )\n",
    "\n",
    "        # Fully connected Layers 7 * 7 -> 7\n",
    "        self.fc = torch.nn.Linear(7 * 7, 16, bias=True)\n",
    "        \n",
    "    def forward(self, x1, x2):\n",
    "        x1 = self.layer1(x1)\n",
    "        x1 = self.layer2(x1)\n",
    "        x1 = x1.view(-1, 7 * 7)\n",
    "        x1 = self.fc(x1)\n",
    "\n",
    "        x2 = self.layer1(x2)\n",
    "        x2 = self.layer2(x2)\n",
    "        x2 = x2.view(-1, 7 * 7)\n",
    "        x2 = self.fc(x2)\n",
    "\n",
    "        x = torch.concat([x1, x2], 1)\n",
    "        x = self.qlayer3(x)\n",
    "        return x[:,0]"
   ]
  },
  {
   "cell_type": "code",
   "execution_count": 5,
   "metadata": {},
   "outputs": [],
   "source": [
    "def new_data(batch_size, X, Y, feature_reduction):\n",
    "    X1_new, X2_new, Y_new = [], [], []\n",
    "    for i in range(batch_size):\n",
    "        n, m = np.random.randint(len(X)), np.random.randint(len(X))\n",
    "        X1_new.append(X[n])\n",
    "        X2_new.append(X[m])\n",
    "        if Y[n] == Y[m]:\n",
    "            Y_new.append(1)\n",
    "        else:\n",
    "            Y_new.append(0)\n",
    "\n",
    "    X1_new, X2_new, Y_new = torch.tensor(X1_new).to(torch.float32), torch.tensor(X2_new).to(torch.float32), torch.tensor(Y_new).to(torch.float32)\n",
    "    if feature_reduction == False:\n",
    "        X1_new = X1_new.permute(0, 3, 1, 2)\n",
    "        X2_new = X2_new.permute(0, 3, 1, 2)\n",
    "    return X1_new, X2_new, Y_new\n",
    "\n",
    "def train_models(model_name, X_train, Y_train, feature_reduction):\n",
    "    if model_name == 'PCA-NQE':\n",
    "        model = PCA_NQE()\n",
    "    elif model_name == 'NQE':\n",
    "        model = NQE()\n",
    "\n",
    "    model.train()\n",
    "\n",
    "    loss_fn = torch.nn.MSELoss()\n",
    "    opt = torch.optim.SGD(model.parameters(), lr=0.01)\n",
    "    for it in range(501):\n",
    "\n",
    "        X1_batch, X2_batch, Y_batch = new_data(25, X_train, Y_train, feature_reduction)\n",
    "        X1_batch, X2_batch, Y_batch = X1_batch, X2_batch, Y_batch\n",
    "\n",
    "        pred = model(X1_batch, X2_batch)\n",
    "        pred, Y_batch = pred.to(torch.float32), Y_batch.to(torch.float32)\n",
    "        loss = loss_fn(pred, Y_batch)\n",
    "\n",
    "        opt.zero_grad()\n",
    "        loss.backward()\n",
    "        opt.step()\n",
    "\n",
    "        if it % 50 == 0:\n",
    "            print(f\"Iterations: {it} Loss: {loss.item()}\")\n",
    "            PATH = f'{model_name}{it}.pt'\n",
    "            torch.save(model.state_dict(), PATH)\n"
   ]
  },
  {
   "cell_type": "code",
   "execution_count": 6,
   "metadata": {},
   "outputs": [
    {
     "name": "stdout",
     "output_type": "stream",
     "text": [
      "Iterations: 0 Loss: 0.24958227574825287\n",
      "Iterations: 50 Loss: 0.08158084005117416\n",
      "Iterations: 100 Loss: 0.0731315016746521\n",
      "Iterations: 150 Loss: 0.07683519273996353\n",
      "Iterations: 200 Loss: 0.033352673053741455\n",
      "Iterations: 250 Loss: 0.034210339188575745\n",
      "Iterations: 300 Loss: 0.016259826719760895\n",
      "Iterations: 350 Loss: 0.06099605932831764\n",
      "Iterations: 400 Loss: 0.008104630745947361\n",
      "Iterations: 450 Loss: 0.03603411838412285\n",
      "Iterations: 500 Loss: 0.05066796392202377\n"
     ]
    }
   ],
   "source": [
    "feature_reduction = 'PCA8'\n",
    "classes = [0,1]\n",
    "X_train, X_test, Y_train, Y_test = data.data_load_and_process('mnist', feature_reduction=feature_reduction, classes=classes)\n",
    "train_models('PCA-NQE', X_train, Y_train, feature_reduction)"
   ]
  },
  {
   "cell_type": "code",
   "execution_count": 8,
   "metadata": {},
   "outputs": [
    {
     "name": "stdout",
     "output_type": "stream",
     "text": [
      "Iterations: 0 Loss: 0.5597470998764038\n",
      "Iterations: 50 Loss: 0.38310500979423523\n",
      "Iterations: 100 Loss: 0.13803808391094208\n",
      "Iterations: 150 Loss: 0.11494054645299911\n",
      "Iterations: 200 Loss: 0.0910990834236145\n",
      "Iterations: 250 Loss: 0.06508415192365646\n",
      "Iterations: 300 Loss: 0.07021855562925339\n",
      "Iterations: 350 Loss: 0.07556973397731781\n",
      "Iterations: 400 Loss: 0.0442260317504406\n",
      "Iterations: 450 Loss: 0.02932346984744072\n",
      "Iterations: 500 Loss: 0.05459990352392197\n"
     ]
    }
   ],
   "source": [
    "feature_reduction = False\n",
    "classes = [0,1]\n",
    "X_train, X_test, Y_train, Y_test = data.data_load_and_process('mnist', feature_reduction=feature_reduction, classes=classes)\n",
    "train_models('NQE', X_train, Y_train, feature_reduction)"
   ]
  },
  {
   "cell_type": "markdown",
   "metadata": {},
   "source": [
    "# QCNN Training"
   ]
  },
  {
   "cell_type": "code",
   "execution_count": 2,
   "metadata": {},
   "outputs": [],
   "source": [
    "batch_size = 128\n",
    "steps = 1000\n",
    "ansatz = \"SU4\"\n",
    "learning_rate = 0.01"
   ]
  },
  {
   "cell_type": "code",
   "execution_count": 3,
   "metadata": {},
   "outputs": [],
   "source": [
    "\n",
    "class x_transform2(torch.nn.Module):\n",
    "    def __init__(self):\n",
    "        super().__init__()\n",
    "        self.linear_relu_stack2 = nn.Sequential(\n",
    "            nn.Linear(8, 24),\n",
    "            nn.ReLU(),\n",
    "            nn.Linear(24, 24),\n",
    "            nn.ReLU(),\n",
    "            nn.Linear(24, 16)\n",
    "        )\n",
    "        \n",
    "    def forward(self, x):\n",
    "        x = self.linear_relu_stack2(x)\n",
    "        return x.detach().numpy()\n",
    "\n",
    "\n",
    "class x_transform3(torch.nn.Module):\n",
    "    def __init__(self):\n",
    "        super().__init__()\n",
    "        self.layer1 = torch.nn.Sequential(\n",
    "            torch.nn.Conv2d(1, 1, kernel_size=3, stride=1, padding=1),\n",
    "            torch.nn.ReLU(),\n",
    "            torch.nn.MaxPool2d(kernel_size=2, stride=2)\n",
    "        )\n",
    "\n",
    "        # Layer2: 14 * 14 -> 7 * 7\n",
    "        self.layer2 = torch.nn.Sequential(\n",
    "            torch.nn.Conv2d(1, 1, kernel_size=3, stride=1, padding=1),\n",
    "            torch.nn.ReLU(),\n",
    "            torch.nn.MaxPool2d(kernel_size=2, stride=2)\n",
    "        )\n",
    "\n",
    "        # Fully connected Layers 7 * 7 -> 7\n",
    "        self.fc = torch.nn.Linear(7 * 7, 16, bias=True)\n",
    "        \n",
    "    def forward(self, x):\n",
    "        x = self.layer1(x)\n",
    "        x = self.layer2(x)\n",
    "        x = x.view(-1, 7 * 7)\n",
    "        x = self.fc(x)\n",
    "        return x.detach().numpy()\n",
    "\n",
    "model2 = x_transform2()\n",
    "model3 = x_transform3()"
   ]
  },
  {
   "cell_type": "code",
   "execution_count": 4,
   "metadata": {},
   "outputs": [],
   "source": [
    "def statepreparation(x, Trained):\n",
    "    if Trained == False:\n",
    "        embedding.QuantumEmbedding1(x)\n",
    "    elif Trained == 'PCA-NQE':\n",
    "        model2.load_state_dict(torch.load('PCA-NQE500.pt'))\n",
    "        x = model2(torch.tensor(x))\n",
    "        embedding.QuantumEmbedding2(x)\n",
    "    elif Trained == 'NQE':\n",
    "        model3.load_state_dict(torch.load('NQE500.pt'))\n",
    "        x = model3(torch.tensor(x))\n",
    "        embedding.QuantumEmbedding2(x[0])\n",
    "\n",
    "\n",
    "@qml.qnode(dev)\n",
    "def QCNN_classifier(params, x, Trained):\n",
    "    statepreparation(x, Trained)\n",
    "    embedding.QCNN_eight(params, ansatz)\n",
    "    return qml.expval(qml.PauliZ(4))\n",
    "\n",
    "\n",
    "def Linear_Loss(labels, predictions):\n",
    "    loss = 0\n",
    "    for l,p in zip(labels, predictions):\n",
    "        loss += 0.5 * (1 - l * p)\n",
    "    return loss / len(labels)\n",
    "\n",
    "\n",
    "def cost(weights, X_batch, Y_batch, Trained):\n",
    "    preds = [QCNN_classifier(weights, x, Trained) for x in X_batch]\n",
    "    return Linear_Loss(Y_batch, preds)\n",
    "\n",
    "\n",
    "def circuit_training(X_train, Y_train, Trained):\n",
    "\n",
    "    if ansatz == 'SU4':\n",
    "        num_weights = 45\n",
    "    elif ansatz == 'TTN':\n",
    "        num_weights = 6\n",
    "\n",
    "    weights = np.random.random(num_weights, requires_grad = True)\n",
    "    opt = qml.NesterovMomentumOptimizer(stepsize=learning_rate)\n",
    "    loss_history = []\n",
    "    for it in range(steps):\n",
    "        batch_index = np.random.randint(0, len(X_train), (batch_size,))\n",
    "        X_batch = [X_train[i] for i in batch_index]\n",
    "        Y_batch = [Y_train[i] for i in batch_index]\n",
    "        weights, cost_new = opt.step_and_cost(lambda v: cost(v, X_batch, Y_batch, Trained),\n",
    "                                                     weights)\n",
    "        loss_history.append(cost_new)\n",
    "        if it % 200 == 0:\n",
    "            print(\"iteration: \", it, \" cost: \", cost_new)\n",
    "    return loss_history, weights"
   ]
  },
  {
   "cell_type": "code",
   "execution_count": 5,
   "metadata": {},
   "outputs": [],
   "source": [
    "feature_reduction = 'PCA8'\n",
    "classes = [0,1]\n",
    "X_train, X_test, Y_train, Y_test = data.data_load_and_process('mnist', feature_reduction=feature_reduction, classes=classes)\n",
    "#X_train, X_test = torch.tensor(X_train).to(torch.float32), torch.tensor(X_test).to(torch.float32)\n",
    "Y_train = [-1 if y == 0 else 1 for y in Y_train]\n",
    "Y_test = [-1 if y == 0 else 1 for y in Y_test]"
   ]
  },
  {
   "cell_type": "code",
   "execution_count": 6,
   "metadata": {},
   "outputs": [
    {
     "name": "stderr",
     "output_type": "stream",
     "text": [
      "/home/tak/anaconda3/envs/QC/lib/python3.11/site-packages/autograd/numpy/numpy_vjps.py:698: ComplexWarning: Casting complex values to real discards the imaginary part\n",
      "  onp.add.at(A, idx, x)\n"
     ]
    },
    {
     "name": "stdout",
     "output_type": "stream",
     "text": [
      "iteration:  0  cost:  0.5095747381076915\n",
      "iteration:  200  cost:  0.47424681918118\n",
      "iteration:  400  cost:  0.4392669120065519\n",
      "iteration:  600  cost:  0.35918488445808117\n",
      "iteration:  800  cost:  0.3748357554275145\n",
      "iteration:  0  cost:  0.48715100429858815\n",
      "iteration:  200  cost:  0.2831569861718505\n",
      "iteration:  400  cost:  0.2258934972835541\n",
      "iteration:  600  cost:  0.20351716094487798\n",
      "iteration:  800  cost:  0.18963445642104398\n",
      "iteration:  0  cost:  0.49099594895257426\n",
      "iteration:  200  cost:  0.4676837480303203\n",
      "iteration:  400  cost:  0.48102292955637516\n",
      "iteration:  600  cost:  0.474003808804545\n",
      "iteration:  800  cost:  0.4225157562924765\n",
      "iteration:  0  cost:  0.454679781628137\n",
      "iteration:  200  cost:  0.24902795461291152\n",
      "iteration:  400  cost:  0.2219643542513366\n",
      "iteration:  600  cost:  0.17422995042227513\n",
      "iteration:  800  cost:  0.18572314967733777\n",
      "iteration:  0  cost:  0.48788235468901325\n",
      "iteration:  200  cost:  0.46948146676055896\n",
      "iteration:  400  cost:  0.4546794064836728\n",
      "iteration:  600  cost:  0.4540385229719477\n",
      "iteration:  800  cost:  0.45382290000599135\n",
      "iteration:  0  cost:  0.5000650249470141\n",
      "iteration:  200  cost:  0.3246076098389555\n",
      "iteration:  400  cost:  0.2605003563373474\n",
      "iteration:  600  cost:  0.2114046012446\n",
      "iteration:  800  cost:  0.2001382081846884\n",
      "iteration:  0  cost:  0.5341124344155235\n",
      "iteration:  200  cost:  0.4714517297232888\n",
      "iteration:  400  cost:  0.44678526890754827\n",
      "iteration:  600  cost:  0.42415666507871597\n",
      "iteration:  800  cost:  0.42901112549607917\n",
      "iteration:  0  cost:  0.5575695536421786\n",
      "iteration:  200  cost:  0.31021069075008684\n",
      "iteration:  400  cost:  0.2437265796956917\n",
      "iteration:  600  cost:  0.14930721921753273\n",
      "iteration:  800  cost:  0.149985206440423\n",
      "iteration:  0  cost:  0.508562159582481\n",
      "iteration:  200  cost:  0.46691307073000493\n",
      "iteration:  400  cost:  0.4519437764818423\n",
      "iteration:  600  cost:  0.43213580516145345\n",
      "iteration:  800  cost:  0.42056287766409356\n",
      "iteration:  0  cost:  0.4579171122437168\n",
      "iteration:  200  cost:  0.31795551383855863\n",
      "iteration:  400  cost:  0.31085536307329753\n",
      "iteration:  600  cost:  0.25843359831526075\n",
      "iteration:  800  cost:  0.1810406633790088\n"
     ]
    }
   ],
   "source": [
    "Loss_histories_not_trained, weights_not_trained, Loss_histories_Model2_Fidelity, weights_Model2_Fidelity = [], [], [], []\n",
    "for i in range(5):\n",
    "    loss_not_trained, weight_not_trained = circuit_training(X_train, Y_train, False)\n",
    "    loss_Model2_Fidelity, weight_Model2_Fidelity = circuit_training(X_train, Y_train, 'PCA-NQE')\n",
    "\n",
    "    Loss_histories_not_trained.append(loss_not_trained)\n",
    "    Loss_histories_Model2_Fidelity.append(loss_Model2_Fidelity)\n",
    "\n",
    "    weights_not_trained.append(weight_not_trained)\n",
    "    weights_Model2_Fidelity.append(weight_Model2_Fidelity)\n",
    "\n",
    "    \n",
    "f = open('weights and losses.txt', 'a')\n",
    "for i in range(5):\n",
    "    f.write(f'Loss History without NQE {i + 1}:')\n",
    "    f.write('\\n')\n",
    "    f.write(str(Loss_histories_not_trained[i]))\n",
    "    f.write('\\n')\n",
    "for i in range(5):\n",
    "    f.write(f'Weights without NQE {i + 1}:')\n",
    "    f.write('\\n')\n",
    "    f.write(str(weights_not_trained[i]))\n",
    "\n",
    "\n",
    "\n",
    "for i in range(5):\n",
    "    f.write(f'Loss History with PCA-NQE {i + 1}:')\n",
    "    f.write('\\n')\n",
    "    f.write(str(Loss_histories_Model2_Fidelity[i]))\n",
    "    f.write('\\n')\n",
    "for i in range(5):\n",
    "    f.write(f'Weights with PCA-NQE {i + 1}:')\n",
    "    f.write('\\n')\n",
    "    f.write(str(weights_Model2_Fidelity[i]))\n",
    "f.close()"
   ]
  },
  {
   "cell_type": "code",
   "execution_count": 7,
   "metadata": {},
   "outputs": [],
   "source": [
    "feature_reduction = False\n",
    "classes=[0,1]\n",
    "X_train, X_test, Y_train, Y_test = data.data_load_and_process('mnist', feature_reduction=feature_reduction, classes=classes)\n",
    "X_train, X_test = torch.tensor(X_train).to(torch.float32), torch.tensor(X_test).to(torch.float32)\n",
    "X_train, X_test = X_train.permute(0, 3, 1, 2).detach().numpy(), X_test.permute(0, 3, 1, 2).detach().numpy()\n",
    "Y_train = [-1 if y == 0 else 1 for y in Y_train]\n",
    "Y_test = [-1 if y == 0 else 1 for y in Y_test]"
   ]
  },
  {
   "cell_type": "code",
   "execution_count": 8,
   "metadata": {},
   "outputs": [
    {
     "name": "stdout",
     "output_type": "stream",
     "text": [
      "iteration:  0  cost:  0.6199981776587573\n",
      "iteration:  200  cost:  0.2504684979190677\n",
      "iteration:  400  cost:  0.2319750483498528\n",
      "iteration:  600  cost:  0.18649439570367551\n",
      "iteration:  800  cost:  0.19521377020266864\n",
      "iteration:  0  cost:  0.44710682521076645\n",
      "iteration:  200  cost:  0.21078063294647725\n",
      "iteration:  400  cost:  0.1821347540215091\n",
      "iteration:  600  cost:  0.1417274452959307\n",
      "iteration:  800  cost:  0.1452106511599819\n",
      "iteration:  0  cost:  0.5094259461436809\n",
      "iteration:  200  cost:  0.2465716933454707\n",
      "iteration:  400  cost:  0.19294851846229144\n",
      "iteration:  600  cost:  0.1852938075054043\n",
      "iteration:  800  cost:  0.17119919945481193\n",
      "iteration:  0  cost:  0.506540075428828\n",
      "iteration:  200  cost:  0.2478884063339809\n",
      "iteration:  400  cost:  0.19189790603011467\n",
      "iteration:  600  cost:  0.16370518214783156\n",
      "iteration:  800  cost:  0.1557656577253813\n",
      "iteration:  0  cost:  0.5130094502907916\n",
      "iteration:  200  cost:  0.299477657757589\n",
      "iteration:  400  cost:  0.21108095774278254\n",
      "iteration:  600  cost:  0.20846145126830054\n",
      "iteration:  800  cost:  0.18113405149589046\n"
     ]
    }
   ],
   "source": [
    "Loss_histories_Model3_Fidelity, weights_Model3_Fidelity = [], []\n",
    "for i in range(5):\n",
    "\n",
    "    loss_Model3_Fidelity, weight_Model3_Fidelity = circuit_training(X_train, Y_train, 'NQE')\n",
    "\n",
    "    Loss_histories_Model3_Fidelity.append(loss_Model3_Fidelity)\n",
    "    weights_Model3_Fidelity.append(weight_Model3_Fidelity)\n",
    "\n",
    "f = open('weights and losses.txt', 'a')\n",
    "for i in range(5):\n",
    "    f.write(f'Loss History with NQE {i + 1}:')\n",
    "    f.write('\\n')\n",
    "    f.write(str(Loss_histories_Model3_Fidelity[i]))\n",
    "    f.write('\\n')\n",
    "for i in range(5):\n",
    "    f.write(f'Weights with NQE{i + 1}:')\n",
    "    f.write('\\n')\n",
    "    f.write(str(weights_Model3_Fidelity[i]))\n",
    "f.close()"
   ]
  },
  {
   "cell_type": "markdown",
   "metadata": {},
   "source": [
    "# Trace Distance History"
   ]
  },
  {
   "cell_type": "code",
   "execution_count": 9,
   "metadata": {},
   "outputs": [],
   "source": [
    "@qml.qnode(dev, interface=\"torch\")\n",
    "def Circuit_Distance1(inputs): \n",
    "    embedding.QuantumEmbedding1(inputs)\n",
    "    return qml.density_matrix(wires=range(8))\n",
    "\n",
    "@qml.qnode(dev, interface=\"torch\")\n",
    "def Circuit_Distance2(inputs): \n",
    "    embedding.QuantumEmbedding2(inputs)\n",
    "    return qml.density_matrix(wires=range(8))\n",
    "\n",
    "\n",
    "class Distances1(torch.nn.Module):\n",
    "    def __init__(self):\n",
    "        super().__init__()\n",
    "        self.qlayer1 = qml.qnn.TorchLayer(Circuit_Distance1, weight_shapes={})\n",
    "   \n",
    "    def forward(self, x1, x0):\n",
    "        rhos1 = self.qlayer1(x1)\n",
    "        rhos0 = self.qlayer1(x0)\n",
    "\n",
    "        rho1 = torch.sum(rhos1, dim=0) / len(x1)\n",
    "        rho0 = torch.sum(rhos0, dim=0) / len(x0)\n",
    "        rho_diff = rho1 - rho0\n",
    "        eigvals = torch.linalg.eigvals(rho_diff)\n",
    "        return 0.5 * torch.real(torch.sum(torch.abs(eigvals)))\n",
    "    \n",
    "class Distances2(torch.nn.Module):\n",
    "    def __init__(self):\n",
    "        super().__init__()\n",
    "        self.qlayer2 = qml.qnn.TorchLayer(Circuit_Distance2, weight_shapes={})\n",
    "        self.linear_relu_stack2 = nn.Sequential(\n",
    "            nn.Linear(8, 24),\n",
    "            nn.ReLU(),\n",
    "            nn.Linear(24, 24),\n",
    "            nn.ReLU(),\n",
    "            nn.Linear(24, 16)\n",
    "        )\n",
    "    def forward(self, x1, x0):\n",
    "        x1 = self.linear_relu_stack2(x1)\n",
    "        x0 = self.linear_relu_stack2(x0)\n",
    "        rhos1 = self.qlayer2(x1)\n",
    "        rhos0 = self.qlayer2(x0)\n",
    "\n",
    "        rho1 = torch.sum(rhos1, dim=0) / len(x1)\n",
    "        rho0 = torch.sum(rhos0, dim=0) / len(x0)\n",
    "        rho_diff = rho1 - rho0\n",
    "        eigvals = torch.linalg.eigvals(rho_diff)\n",
    "        return 0.5 * torch.real(torch.sum(torch.abs(eigvals)))\n",
    "\n",
    "\n",
    "class Distances3(torch.nn.Module):\n",
    "    def __init__(self):\n",
    "        super().__init__()\n",
    "        self.qlayer3 = qml.qnn.TorchLayer(Circuit_Distance2, weight_shapes={})\n",
    "        self.layer1 = torch.nn.Sequential(\n",
    "            torch.nn.Conv2d(1, 1, kernel_size=3, stride=1, padding=1),\n",
    "            torch.nn.ReLU(),\n",
    "            torch.nn.MaxPool2d(kernel_size=2, stride=2)\n",
    "        )\n",
    "\n",
    "        # Layer2: 14 * 14 -> 7 * 7\n",
    "        self.layer2 = torch.nn.Sequential(\n",
    "            torch.nn.Conv2d(1, 1, kernel_size=3, stride=1, padding=1),\n",
    "            torch.nn.ReLU(),\n",
    "            torch.nn.MaxPool2d(kernel_size=2, stride=2)\n",
    "        )\n",
    "\n",
    "        # Fully connected Layers 7 * 7 -> 7\n",
    "        self.fc = torch.nn.Linear(7 * 7, 16, bias=True)\n",
    "    \n",
    "    def forward(self, x1, x0):\n",
    "        x1 = self.layer1(x1)\n",
    "        x1 = self.layer2(x1)\n",
    "        x1 = x1.view(-1, 7 * 7)\n",
    "        x1 = self.fc(x1)\n",
    "\n",
    "        x0 = self.layer1(x0)\n",
    "        x0 = self.layer2(x0)\n",
    "        x0 = x0.view(-1, 7 * 7)\n",
    "        x0 = self.fc(x0)\n",
    "\n",
    "        rhos1 = self.qlayer3(x1)\n",
    "        rhos0 = self.qlayer3(x0)\n",
    "        \n",
    "        rho1 = torch.sum(rhos1, dim=0) / len(x1)\n",
    "        rho0 = torch.sum(rhos0, dim=0) / len(x0)\n",
    "        rho_diff = rho1 - rho0\n",
    "        eigvals = torch.linalg.eigvals(rho_diff)\n",
    "        return 0.5 * torch.real(torch.sum(torch.abs(eigvals)))\n",
    "\n",
    "\n",
    "def D(PATH, Model, X1, X0):\n",
    "    if Model == 'Model2':\n",
    "        Distance = Distances2()\n",
    "    elif Model == 'Model3':\n",
    "        Distance = Distances3()\n",
    "    \n",
    "    Distance.load_state_dict(torch.load(PATH))\n",
    "    return Distance(X1, X0)"
   ]
  },
  {
   "cell_type": "markdown",
   "metadata": {},
   "source": [
    "Model1"
   ]
  },
  {
   "cell_type": "code",
   "execution_count": 10,
   "metadata": {},
   "outputs": [
    {
     "name": "stderr",
     "output_type": "stream",
     "text": [
      "/tmp/ipykernel_11675/450999447.py:11: UserWarning: Creating a tensor from a list of numpy.ndarrays is extremely slow. Please consider converting the list to a single numpy.ndarray with numpy.array() before converting to a tensor. (Triggered internally at ../torch/csrc/utils/tensor_new.cpp:245.)\n",
      "  X1_test, X0_test = torch.tensor(X1_test).to(torch.float32), torch.tensor(X0_test).to(torch.float32)\n"
     ]
    }
   ],
   "source": [
    "feature_reduction = 'PCA8'\n",
    "classes = [0,1]\n",
    "X_train, X_test, Y_train, Y_test = data.data_load_and_process('mnist', feature_reduction=feature_reduction, classes=classes)\n",
    "\n",
    "X1_test, X0_test = [], []\n",
    "for i in range(len(X_test)):\n",
    "    if Y_test[i] == 1:\n",
    "        X1_test.append(X_test[i])\n",
    "    else:\n",
    "        X0_test.append(X_test[i])\n",
    "X1_test, X0_test = torch.tensor(X1_test).to(torch.float32), torch.tensor(X0_test).to(torch.float32)\n",
    "\n",
    "X1_train, X0_train = [], []\n",
    "for i in range(len(X_train)):\n",
    "    if Y_train[i] == 1:\n",
    "        X1_train.append(X_train[i])\n",
    "    else:\n",
    "        X0_train.append(X_train[i])\n",
    "X1_train, X0_train = torch.tensor(X1_train).to(torch.float32), torch.tensor(X0_train).to(torch.float32)"
   ]
  },
  {
   "cell_type": "code",
   "execution_count": 11,
   "metadata": {},
   "outputs": [
    {
     "name": "stderr",
     "output_type": "stream",
     "text": [
      "/home/tak/anaconda3/envs/QC/lib/python3.11/site-packages/pennylane/qnn/torch.py:331: UserWarning: Casting complex values to real discards the imaginary part (Triggered internally at ../aten/src/ATen/native/Copy.cpp:276.)\n",
      "  return res.type(x.dtype)\n"
     ]
    }
   ],
   "source": [
    "Distance = Distances1()\n",
    "Model1_Train_Distance = Distance(X0_train, X1_train)\n",
    "Model1_Test_Distance = Distance(X0_test, X1_test)"
   ]
  },
  {
   "cell_type": "code",
   "execution_count": 12,
   "metadata": {},
   "outputs": [],
   "source": [
    "f = open(\"Trace Distance History.txt\", 'a')\n",
    "f.write(\"Without NQE Train Data: \\n\")\n",
    "f.write(str(Model1_Train_Distance))\n",
    "f.write(\"\\n\")\n",
    "f.write(\"Without NQE Test Data: \\n\")\n",
    "f.write(str(Model1_Test_Distance))\n",
    "f.write(\"\\n\")\n",
    "f.close()"
   ]
  },
  {
   "cell_type": "markdown",
   "metadata": {},
   "source": [
    "Model2"
   ]
  },
  {
   "cell_type": "code",
   "execution_count": 13,
   "metadata": {},
   "outputs": [],
   "source": [
    "feature_reduction = 'PCA8'\n",
    "classes = [0,1]\n",
    "X_train, X_test, Y_train, Y_test = data.data_load_and_process('mnist', feature_reduction=feature_reduction, classes=classes)\n",
    "\n",
    "X1_test, X0_test = [], []\n",
    "for i in range(len(X_test)):\n",
    "    if Y_test[i] == 1:\n",
    "        X1_test.append(X_test[i])\n",
    "    else:\n",
    "        X0_test.append(X_test[i])\n",
    "X1_test, X0_test = torch.tensor(X1_test).to(torch.float32), torch.tensor(X0_test).to(torch.float32)\n",
    "\n",
    "X1_train, X0_train = [], []\n",
    "for i in range(len(X_train)):\n",
    "    if Y_train[i] == 1:\n",
    "        X1_train.append(X_train[i])\n",
    "    else:\n",
    "        X0_train.append(X_train[i])\n",
    "X1_train, X0_train = torch.tensor(X1_train).to(torch.float32), torch.tensor(X0_train).to(torch.float32)"
   ]
  },
  {
   "cell_type": "code",
   "execution_count": 14,
   "metadata": {},
   "outputs": [],
   "source": [
    "PATHs_Model2, PATHs_Model3 = [], []\n",
    "\n",
    "for i in range(11):\n",
    "    PATH_Model2 = f'PCA-NQE{i * 50}.pt'\n",
    "    PATH_Model3 = f'NQE{i * 50}.pt'\n",
    "\n",
    "    PATHs_Model2.append(PATH_Model2)\n",
    "    PATHs_Model3.append(PATH_Model3)\n",
    "\n",
    "Trace_Distance_history_Model2_Train = [D(PATH=p, Model='Model2', X1=X1_train, X0=X0_train).detach().numpy() for p in PATHs_Model2]\n",
    "Trace_Distance_history_Model2_Test = [D(PATH=p, Model='Model2', X1=X1_test, X0=X0_test).detach().numpy() for p in PATHs_Model2]"
   ]
  },
  {
   "cell_type": "code",
   "execution_count": 15,
   "metadata": {},
   "outputs": [],
   "source": [
    "f = open(\"Trace Distance History.txt\", 'a')\n",
    "f.write(\"PCA-NQE Train Data: \\n\")\n",
    "f.write(str(Trace_Distance_history_Model2_Train))\n",
    "f.write(\"\\n\")\n",
    "f.write(\"PCA-NQE Test Data: \\n\")\n",
    "f.write(str(Trace_Distance_history_Model2_Test))\n",
    "f.write(\"\\n\")\n",
    "f.close()"
   ]
  },
  {
   "cell_type": "markdown",
   "metadata": {},
   "source": [
    "Model3"
   ]
  },
  {
   "cell_type": "code",
   "execution_count": 16,
   "metadata": {},
   "outputs": [],
   "source": [
    "feature_reduction = False\n",
    "classes = [0,1]\n",
    "X_train, X_test, Y_train, Y_test = data.data_load_and_process('mnist', feature_reduction=feature_reduction, classes=classes)\n",
    "\n",
    "X1_test, X0_test = [], []\n",
    "for i in range(len(X_test)):\n",
    "    if Y_test[i] == 1:\n",
    "        X1_test.append(X_test[i])\n",
    "    else:\n",
    "        X0_test.append(X_test[i])\n",
    "X1_test, X0_test = torch.tensor(X1_test).to(torch.float32), torch.tensor(X0_test).to(torch.float32)\n",
    "X1_test, X0_test = X1_test.permute(0, 3, 1, 2), X0_test.permute(0, 3, 1, 2)\n",
    "\n",
    "X1_train, X0_train = [], []\n",
    "for i in range(len(X_train)):\n",
    "    if Y_train[i] == 1:\n",
    "        X1_train.append(X_train[i])\n",
    "    else:\n",
    "        X0_train.append(X_train[i])\n",
    "X1_train, X0_train = torch.tensor(X1_train).to(torch.float32), torch.tensor(X0_train).to(torch.float32)\n",
    "X1_train, X0_train = X1_train.permute(0, 3, 1, 2), X0_train.permute(0, 3, 1, 2)"
   ]
  },
  {
   "cell_type": "code",
   "execution_count": 17,
   "metadata": {},
   "outputs": [],
   "source": [
    "Trace_Distance_history_Model3_Train = [D(PATH=p, Model='Model3', X1=X1_train, X0=X0_train).detach().numpy() for p in PATHs_Model3]\n",
    "Trace_Distance_history_Model3_Test = [D(PATH=p, Model='Model3', X1=X1_test, X0=X0_test).detach().numpy() for p in PATHs_Model3]"
   ]
  },
  {
   "cell_type": "code",
   "execution_count": 18,
   "metadata": {},
   "outputs": [],
   "source": [
    "f = open(\"Trace Distance History.txt\", 'a')\n",
    "f.write(\"NQE Train Data: \\n\")\n",
    "f.write(str(Trace_Distance_history_Model3_Train))\n",
    "f.write(\"\\n\")\n",
    "f.write(\"NQE Test Data: \\n\")\n",
    "f.write(str(Trace_Distance_history_Model3_Test))\n",
    "f.write(\"\\n\")\n",
    "f.close()"
   ]
  },
  {
   "attachments": {},
   "cell_type": "markdown",
   "metadata": {},
   "source": [
    "# Part 4: Result "
   ]
  },
  {
   "cell_type": "code",
   "execution_count": 3,
   "metadata": {},
   "outputs": [],
   "source": [
    "def data_read(PATH):\n",
    "  textfile = open(PATH, 'r')\n",
    "  data = np.array([])\n",
    "  for line in textfile:\n",
    "    a = np.array([float(v) for v in line.strip().split(\" \")])\n",
    "    data = np.append(data, a)\n",
    "  return data\n",
    "\n",
    "Loss_histories = data_read(\"Loss History.txt\").reshape(3, 5000)\n",
    "Loss_histories_not_trained = Loss_histories[0].reshape(5,1000)\n",
    "Loss_histories_Model2 = Loss_histories[1].reshape(5,1000)\n",
    "Loss_histories_Model3 = Loss_histories[2].reshape(5,1000)\n",
    "\n",
    "\n",
    "Weights = data_read(\"Weights.txt\").reshape(3, 5 * 45)\n",
    "weights_not_trained = Weights[0].reshape(5, 45)\n",
    "weights_Model2 = Weights[1].reshape(5, 45)\n",
    "weights_Model3 = Weights[2].reshape(5, 45)\n",
    "\n",
    "\n",
    "LH0_mean, LH0_std = Loss_histories_not_trained.mean(axis=0), Loss_histories_not_trained.std(axis=0)\n",
    "LH2_mean, LH2_std = Loss_histories_Model2.mean(axis=0), Loss_histories_Model2.std(axis=0)\n",
    "LH3_mean, LH3_std = Loss_histories_Model3.mean(axis=0), Loss_histories_Model3.std(axis=0)"
   ]
  },
  {
   "cell_type": "code",
   "execution_count": 4,
   "metadata": {},
   "outputs": [],
   "source": [
    "LB_without_NQE = 0.5 * (1 - 0.3339)\n",
    "LB_with_PCA_NQE = 0.5 * (1 - 0.8733367)\n",
    "LB_with_NQE = 0.5 * (1 - 0.8900282)"
   ]
  },
  {
   "cell_type": "code",
   "execution_count": 5,
   "metadata": {},
   "outputs": [
    {
     "data": {
      "image/png": "[encoded data removed]",
      "text/plain": [
       "<Figure size 1000x500 with 1 Axes>"
      ]
     },
     "metadata": {},
     "output_type": "display_data"
    }
   ],
   "source": [
    "import seaborn as sns\n",
    "n = 10\n",
    "plt.rcParams['figure.figsize'] = [10, 5]\n",
    "plt.rcParams.update({'font.size': 13})\n",
    "fig, ax = plt.subplots()\n",
    "clrs = sns.color_palette(\"husl\", 3)\n",
    "with sns.axes_style(\"darkgrid\"):    \n",
    "    ax.plot(np.array(range(len(LH2_mean[::n]))) * n, LH2_mean[::n], label=\"PCA-NQE\", linestyle='dashed', c=clrs[0])\n",
    "    ax.fill_between(np.array(range(len(LH2_mean[::n]))) * n, LH2_mean[::n]-LH2_std[::n], LH2_mean[::n]+LH2_std[::n], alpha=0.3,facecolor=clrs[0])\n",
    "\n",
    "    ax.plot(np.array(range(len(LH3_mean[::n]))) * n, LH3_mean[::n], label=\"NQE\", linestyle='dashdot', c=clrs[1])\n",
    "    ax.fill_between(np.array(range(len(LH3_mean[::n]))) * n, LH3_mean[::n]-LH3_std[::n], LH3_mean[::n]+LH3_std[::n], alpha=0.3,facecolor=clrs[1])\n",
    "\n",
    "    ax.plot(np.array(range(len(LH0_mean[::n]))) * n, LH0_mean[::n], label=\"Without NQE\", linestyle='solid', c=clrs[2])\n",
    "    ax.fill_between(np.array(range(len(LH0_mean[::n]))) * n, LH0_mean[::n]-LH0_std[::n], LH0_mean[::n]+LH0_std[::n], alpha=0.3,facecolor=clrs[2])\n",
    "\n",
    "\n",
    "   \n",
    "    ax.plot(range(1000), np.ones(1000) * LB_with_PCA_NQE, linestyle='dashed', linewidth=3.0, label=\"Lower Bound PCA-NQE\", c=clrs[0])\n",
    "    ax.plot(range(1000), np.ones(1000) * LB_with_NQE, linestyle='dashdot', linewidth=3.0, label=\"Lower Bound NQE\", c=clrs[1])\n",
    "    ax.plot(range(1000), np.ones(1000) * LB_without_NQE, linestyle='solid', linewidth=3.0, label=\"Lower Bound without NQE\", c=clrs[2])\n",
    "\n",
    "\n",
    "ax.set_xlabel(\"Iteration\")\n",
    "ax.set_ylabel(\"Loss\")\n",
    "ax.set_title(\"Noiseless QCNN Loss History\")\n",
    "ax.legend(fontsize=13, ncol=2)\n",
    "plt.savefig(\"Loss History.pdf\")"
   ]
  },
  {
   "attachments": {},
   "cell_type": "markdown",
   "metadata": {},
   "source": [
    "Calculate the classification accuracies for Model1,2"
   ]
  },
  {
   "cell_type": "code",
   "execution_count": 23,
   "metadata": {},
   "outputs": [],
   "source": [
    "feature_reduction = 'PCA8'\n",
    "X_train, X_test, Y_train, Y_test = data.data_load_and_process('mnist', feature_reduction=feature_reduction, classes=classes)\n",
    "\n",
    "X_train, X_test = torch.tensor(X_train).to(torch.float32), torch.tensor(X_test).to(torch.float32)\n",
    "Y_train = [-1 if y == 0 else 1 for y in Y_train]\n",
    "Y_test = [-1 if y == 0 else 1 for y in Y_test]"
   ]
  },
  {
   "cell_type": "code",
   "execution_count": 24,
   "metadata": {},
   "outputs": [
    {
     "name": "stderr",
     "output_type": "stream",
     "text": [
      "/home/tak/anaconda3/envs/QC/lib/python3.11/site-packages/pennylane/math/utils.py:223: UserWarning: Contains tensors of types {'autograd', 'torch'}; dispatch will prioritize TensorFlow, PyTorch, and  Jax over Autograd. Consider replacing Autograd with vanilla NumPy.\n",
      "  warnings.warn(\n",
      "/tmp/ipykernel_11675/951711739.py:6: UserWarning: To copy construct from a tensor, it is recommended to use sourceTensor.clone().detach() or sourceTensor.clone().detach().requires_grad_(True), rather than torch.tensor(sourceTensor).\n",
      "  x = model2(torch.tensor(x))\n"
     ]
    }
   ],
   "source": [
    "def accuracy_test(predictions, labels):\n",
    "    acc = 0\n",
    "    for l, p in zip(labels, predictions):\n",
    "        if np.abs(l - p) < 1:\n",
    "            acc = acc + 1\n",
    "    return acc / len(labels)\n",
    "\n",
    "\n",
    "accuracies_not_trained, accuracies_Model2_Fidelity = [], []\n",
    "\n",
    "for i in range(5):\n",
    "    prediction_not_trained = [QCNN_classifier(weights_not_trained[i], x, Trained=False) for x in X_test]\n",
    "    prediction_Model2_Fidelity = [QCNN_classifier(weights_Model2_Fidelity[i], x, Trained='PCA-NQE') for x in X_test]\n",
    "    \n",
    "    accuracy_not_trained = accuracy_test(prediction_not_trained, Y_test)\n",
    "    accuracy_Model2_Fidelity = accuracy_test(prediction_Model2_Fidelity, Y_test)\n",
    "\n",
    "    accuracies_not_trained.append(accuracy_not_trained)\n",
    "    accuracies_Model2_Fidelity.append(accuracy_Model2_Fidelity)\n",
    "\n",
    "accuracies_not_trained = np.array(accuracies_not_trained)\n",
    "accuracies_Model2_Fidelity = np.array(accuracies_Model2_Fidelity)"
   ]
  },
  {
   "cell_type": "code",
   "execution_count": 25,
   "metadata": {},
   "outputs": [],
   "source": [
    "feature_reduction = False\n",
    "X_train, X_test, Y_train, Y_test = data.data_load_and_process('mnist', feature_reduction=feature_reduction, classes=classes)\n",
    "\n",
    "X_train, X_test = torch.tensor(X_train).to(torch.float32), torch.tensor(X_test).to(torch.float32)\n",
    "X_train, X_test = X_train.permute(0, 3, 1, 2), X_test.permute(0, 3, 1, 2)\n",
    "Y_train = [-1 if y == 0 else 1 for y in Y_train]\n",
    "Y_test = [-1 if y == 0 else 1 for y in Y_test]"
   ]
  },
  {
   "cell_type": "code",
   "execution_count": 26,
   "metadata": {},
   "outputs": [
    {
     "name": "stderr",
     "output_type": "stream",
     "text": [
      "/tmp/ipykernel_11675/951711739.py:10: UserWarning: To copy construct from a tensor, it is recommended to use sourceTensor.clone().detach() or sourceTensor.clone().detach().requires_grad_(True), rather than torch.tensor(sourceTensor).\n",
      "  x = model3(torch.tensor(x))\n"
     ]
    }
   ],
   "source": [
    "accuracies_Model3_Fidelity = []\n",
    "\n",
    "for i in range(5):\n",
    "    prediction_Model3_Fidelity = [QCNN_classifier(weights_Model3_Fidelity[i], x, Trained='NQE') for x in X_test]\n",
    "    accuracy_Model3_Fidelity = accuracy_test(prediction_Model3_Fidelity, Y_test)\n",
    "    accuracies_Model3_Fidelity.append(accuracy_Model3_Fidelity)\n",
    "\n",
    "accuracies_Model3_Fidelity =np.array(accuracies_Model3_Fidelity)"
   ]
  },
  {
   "cell_type": "code",
   "execution_count": 27,
   "metadata": {},
   "outputs": [
    {
     "name": "stdout",
     "output_type": "stream",
     "text": [
      "QCNN classification accuracies:\n",
      "\n",
      "-------------------------------------\n",
      "\n",
      " Accuracy without NQE: 0.6744208037825059 ± 0.036458285159764195\n",
      " Accuracy with PCA-NQE: 0.9846808510638297 ± 0.00023163023572417792\n",
      " Accuracy with NQE: 0.9918676122931442 ± 0.0038224837695333834\n"
     ]
    }
   ],
   "source": [
    "\n",
    "print(\"QCNN classification accuracies:\\n\")\n",
    "print(\"-------------------------------------\\n\")\n",
    "print(f\" Accuracy without NQE: {accuracies_not_trained.mean()} ± {accuracies_not_trained.std()}\")\n",
    "print(f\" Accuracy with PCA-NQE: {accuracies_Model2_Fidelity.mean()} ± {accuracies_Model2_Fidelity.std()}\")\n",
    "print(f\" Accuracy with NQE: {accuracies_Model3_Fidelity.mean()} ± {accuracies_Model3_Fidelity.std()}\")\n"
   ]
  },
  {
   "cell_type": "markdown",
   "metadata": {},
   "source": [
    "# Trace Distance History"
   ]
  },
  {
   "cell_type": "code",
   "execution_count": 6,
   "metadata": {},
   "outputs": [],
   "source": [
    "D_without_NQE_Train = 0.3339\n",
    "D_without_NQE_Test = 0.3561\n",
    "D_with_PCA_NQE_Train = [0.43122533, 0.7763044, 0.82889855, 0.8456461, 0.85131013, 0.8570491, 0.8595116, 0.86055464, 0.8683141, 0.87176496, 0.8733367]\n",
    "D_with_PCA_NQE_Test = [0.44944414, 0.79579246, 0.8441018, 0.85874456, 0.86245507, 0.86755943, 0.86902654, 0.8696975, 0.87683576, 0.8810588, 0.88261926]\n",
    "D_with_NQE_Train = [0.00546619, 0.08662686, 0.7687272, 0.80694693, 0.8525129, 0.86276644, 0.87777966, 0.8872991, 0.89078224, 0.89277685, 0.8900282]\n",
    "D_with_NQE_Test =  [0.00533661, 0.08221602, 0.77336574, 0.812653, 0.85840124, 0.8687737, 0.88425624, 0.89406556, 0.8979748, 0.9002793, 0.897688]\n"
   ]
  },
  {
   "cell_type": "code",
   "execution_count": 8,
   "metadata": {},
   "outputs": [
    {
     "name": "stderr",
     "output_type": "stream",
     "text": [
      "/tmp/ipykernel_196958/3328025366.py:5: UserWarning: *c* argument looks like a single numeric RGB or RGBA sequence, which should be avoided as value-mapping will have precedence in case its length matches with *x* & *y*.  Please use the *color* keyword-argument or provide a 2D array with a single row if you intend to specify the same RGB or RGBA value for all points.\n",
      "  ax1.scatter(range(11), D_with_PCA_NQE_Train, label=\"PCA-NQE\", c=clrs[0])\n",
      "/tmp/ipykernel_196958/3328025366.py:6: UserWarning: *c* argument looks like a single numeric RGB or RGBA sequence, which should be avoided as value-mapping will have precedence in case its length matches with *x* & *y*.  Please use the *color* keyword-argument or provide a 2D array with a single row if you intend to specify the same RGB or RGBA value for all points.\n",
      "  ax1.scatter(range(11), D_with_NQE_Train, label=\"NQE\", c=clrs[1], marker='^')\n",
      "/tmp/ipykernel_196958/3328025366.py:9: UserWarning: *c* argument looks like a single numeric RGB or RGBA sequence, which should be avoided as value-mapping will have precedence in case its length matches with *x* & *y*.  Please use the *color* keyword-argument or provide a 2D array with a single row if you intend to specify the same RGB or RGBA value for all points.\n",
      "  ax2.scatter(range(11), D_with_PCA_NQE_Test, label=\"PCA-NQE\", c=clrs[0])\n",
      "/tmp/ipykernel_196958/3328025366.py:10: UserWarning: *c* argument looks like a single numeric RGB or RGBA sequence, which should be avoided as value-mapping will have precedence in case its length matches with *x* & *y*.  Please use the *color* keyword-argument or provide a 2D array with a single row if you intend to specify the same RGB or RGBA value for all points.\n",
      "  ax2.scatter(range(11), D_with_NQE_Test, label=\"NQE\", c=clrs[1], marker='^')\n"
     ]
    },
    {
     "data": {
      "image/png": "[encoded data removed]",
      "text/plain": [
       "<Figure size 1000x500 with 2 Axes>"
      ]
     },
     "metadata": {},
     "output_type": "display_data"
    }
   ],
   "source": [
    "plt.rcParams['figure.figsize'] = [10, 5]\n",
    "fig, (ax1, ax2) = plt.subplots(1,2)\n",
    "clrs = sns.color_palette(\"husl\", 3)\n",
    "with sns.axes_style(\"darkgrid\"):\n",
    "    ax1.scatter(range(11), D_with_PCA_NQE_Train, label=\"PCA-NQE\", c=clrs[0])\n",
    "    ax1.scatter(range(11), D_with_NQE_Train, label=\"NQE\", c=clrs[1], marker='^')\n",
    "    ax1.plot(range(11), np.ones(11) * D_without_NQE_Train, linestyle='dashed', linewidth=1.5, label=\"Without NQE\", c=clrs[2])\n",
    "    \n",
    "    ax2.scatter(range(11), D_with_PCA_NQE_Test, label=\"PCA-NQE\", c=clrs[0])\n",
    "    ax2.scatter(range(11), D_with_NQE_Test, label=\"NQE\", c=clrs[1], marker='^')\n",
    "    ax2.plot(range(11), np.ones(11) * D_without_NQE_Test, linestyle='dashed', linewidth=1.5, label=\"Without NQE\", c=clrs[2])\n",
    "\n",
    "ax1.set_xlabel(\"Iteration\")\n",
    "ax1.set_ylabel(\"Trace Distance\")\n",
    "ax1.set_title(\"Training data\")\n",
    "ax1.legend()\n",
    "\n",
    "ax2.set_xlabel(\"Iteration\")\n",
    "ax2.set_ylabel(\"Trace Distance\")\n",
    "ax2.set_title(\"Test data\")\n",
    "ax2.legend()\n",
    "plt.savefig(\"Trace Distance History.pdf\")"
   ]
  },
  {
   "cell_type": "code",
   "execution_count": null,
   "metadata": {},
   "outputs": [],
   "source": []
  }
 ],
 "metadata": {
  "kernelspec": {
   "display_name": "QC",
   "language": "python",
   "name": "python3"
  },
  "language_info": {
   "codemirror_mode": {
    "name": "ipython",
    "version": 3
   },
   "file_extension": ".py",
   "mimetype": "text/x-python",
   "name": "python",
   "nbconvert_exporter": "python",
   "pygments_lexer": "ipython3",
   "version": "3.11.5"
  },
  "vscode": {
   "interpreter": {
    "hash": "c5108ee98eb47f7e6b2eeb3f4fcfe8c3b821806f46f3b96ac0193b078633d3d2"
   }
  }
 },
 "nbformat": 4,
 "nbformat_minor": 2
}
